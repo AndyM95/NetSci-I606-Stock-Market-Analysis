{
 "cells": [
  {
   "cell_type": "markdown",
   "id": "a1a21682-f1c9-433a-ace4-dc15fbdb6d64",
   "metadata": {},
   "source": [
    "This snippet of code:\n",
    "\n",
    "1. Reads through a specific excel file containing all the names of stocks (uncleaned format) and all the sectors that are selected for network construction\n",
    "2. makes a dataframe containing the stocks corresponding to specfic sectors\n",
    "3. divide and store the data frame in multiple excel files. each file contains the stocks for one specif sector.\n",
    "4. renames the files according to sector names and save in a specific directory."
   ]
  },
  {
   "cell_type": "code",
   "execution_count": 4,
   "id": "510d1fb7-5a80-4358-b338-bba95c201355",
   "metadata": {},
   "outputs": [
    {
     "name": "stdout",
     "output_type": "stream",
     "text": [
      "Saved C:\\Users\\anind\\Desktop\\Indiana University Bloomington\\Semester 2\\I606 Network Science\\Project\\Data\\rerunning\\Project_Auto_and_Finance_Sector_250424\\Asset_Management.xlsx\n",
      "Saved C:\\Users\\anind\\Desktop\\Indiana University Bloomington\\Semester 2\\I606 Network Science\\Project\\Data\\rerunning\\Project_Auto_and_Finance_Sector_250424\\Real_Estate.xlsx\n",
      "Saved C:\\Users\\anind\\Desktop\\Indiana University Bloomington\\Semester 2\\I606 Network Science\\Project\\Data\\rerunning\\Project_Auto_and_Finance_Sector_250424\\It_Services___Consulting.xlsx\n",
      "Saved C:\\Users\\anind\\Desktop\\Indiana University Bloomington\\Semester 2\\I606 Network Science\\Project\\Data\\rerunning\\Project_Auto_and_Finance_Sector_250424\\Investment_Banking___Brokerage_Services.xlsx\n",
      "Saved C:\\Users\\anind\\Desktop\\Indiana University Bloomington\\Semester 2\\I606 Network Science\\Project\\Data\\rerunning\\Project_Auto_and_Finance_Sector_250424\\Heavy_Electrical_Equipment.xlsx\n",
      "Saved C:\\Users\\anind\\Desktop\\Indiana University Bloomington\\Semester 2\\I606 Network Science\\Project\\Data\\rerunning\\Project_Auto_and_Finance_Sector_250424\\Credit_Rating_Agencies.xlsx\n",
      "Saved C:\\Users\\anind\\Desktop\\Indiana University Bloomington\\Semester 2\\I606 Network Science\\Project\\Data\\rerunning\\Project_Auto_and_Finance_Sector_250424\\Industrial_Machinery__Equipment___Goods.xlsx\n",
      "Saved C:\\Users\\anind\\Desktop\\Indiana University Bloomington\\Semester 2\\I606 Network Science\\Project\\Data\\rerunning\\Project_Auto_and_Finance_Sector_250424\\Tubes___Pipes.xlsx\n",
      "Saved C:\\Users\\anind\\Desktop\\Indiana University Bloomington\\Semester 2\\I606 Network Science\\Project\\Data\\rerunning\\Project_Auto_and_Finance_Sector_250424\\Auto_Ancillaries.xlsx\n",
      "Saved C:\\Users\\anind\\Desktop\\Indiana University Bloomington\\Semester 2\\I606 Network Science\\Project\\Data\\rerunning\\Project_Auto_and_Finance_Sector_250424\\Logistics.xlsx\n",
      "Saved C:\\Users\\anind\\Desktop\\Indiana University Bloomington\\Semester 2\\I606 Network Science\\Project\\Data\\rerunning\\Project_Auto_and_Finance_Sector_250424\\Software_Services.xlsx\n",
      "Saved C:\\Users\\anind\\Desktop\\Indiana University Bloomington\\Semester 2\\I606 Network Science\\Project\\Data\\rerunning\\Project_Auto_and_Finance_Sector_250424\\Oil___Gas___Equipment___Services.xlsx\n",
      "Saved C:\\Users\\anind\\Desktop\\Indiana University Bloomington\\Semester 2\\I606 Network Science\\Project\\Data\\rerunning\\Project_Auto_and_Finance_Sector_250424\\Housing_Finance.xlsx\n",
      "Saved C:\\Users\\anind\\Desktop\\Indiana University Bloomington\\Semester 2\\I606 Network Science\\Project\\Data\\rerunning\\Project_Auto_and_Finance_Sector_250424\\Finance___Investments.xlsx\n",
      "Saved C:\\Users\\anind\\Desktop\\Indiana University Bloomington\\Semester 2\\I606 Network Science\\Project\\Data\\rerunning\\Project_Auto_and_Finance_Sector_250424\\Engineering___Heavy.xlsx\n",
      "Saved C:\\Users\\anind\\Desktop\\Indiana University Bloomington\\Semester 2\\I606 Network Science\\Project\\Data\\rerunning\\Project_Auto_and_Finance_Sector_250424\\Power___Generation_distribution.xlsx\n",
      "Saved C:\\Users\\anind\\Desktop\\Indiana University Bloomington\\Semester 2\\I606 Network Science\\Project\\Data\\rerunning\\Project_Auto_and_Finance_Sector_250424\\Iron___Steel.xlsx\n",
      "Saved C:\\Users\\anind\\Desktop\\Indiana University Bloomington\\Semester 2\\I606 Network Science\\Project\\Data\\rerunning\\Project_Auto_and_Finance_Sector_250424\\Petrochemicals.xlsx\n",
      "Saved C:\\Users\\anind\\Desktop\\Indiana University Bloomington\\Semester 2\\I606 Network Science\\Project\\Data\\rerunning\\Project_Auto_and_Finance_Sector_250424\\Batteries.xlsx\n",
      "Saved C:\\Users\\anind\\Desktop\\Indiana University Bloomington\\Semester 2\\I606 Network Science\\Project\\Data\\rerunning\\Project_Auto_and_Finance_Sector_250424\\Electrical___Equipment_components.xlsx\n",
      "Saved C:\\Users\\anind\\Desktop\\Indiana University Bloomington\\Semester 2\\I606 Network Science\\Project\\Data\\rerunning\\Project_Auto_and_Finance_Sector_250424\\Electronics___Equipment_components.xlsx\n",
      "Saved C:\\Users\\anind\\Desktop\\Indiana University Bloomington\\Semester 2\\I606 Network Science\\Project\\Data\\rerunning\\Project_Auto_and_Finance_Sector_250424\\Tyres___Rubber_Products.xlsx\n",
      "Saved C:\\Users\\anind\\Desktop\\Indiana University Bloomington\\Semester 2\\I606 Network Science\\Project\\Data\\rerunning\\Project_Auto_and_Finance_Sector_250424\\Nbfc.xlsx\n",
      "Saved C:\\Users\\anind\\Desktop\\Indiana University Bloomington\\Semester 2\\I606 Network Science\\Project\\Data\\rerunning\\Project_Auto_and_Finance_Sector_250424\\Auto___4w.xlsx\n",
      "Saved C:\\Users\\anind\\Desktop\\Indiana University Bloomington\\Semester 2\\I606 Network Science\\Project\\Data\\rerunning\\Project_Auto_and_Finance_Sector_250424\\Oil___Gas_Exploration_And_Production.xlsx\n",
      "Saved C:\\Users\\anind\\Desktop\\Indiana University Bloomington\\Semester 2\\I606 Network Science\\Project\\Data\\rerunning\\Project_Auto_and_Finance_Sector_250424\\Auto___2___3_Wheelers.xlsx\n",
      "Saved C:\\Users\\anind\\Desktop\\Indiana University Bloomington\\Semester 2\\I606 Network Science\\Project\\Data\\rerunning\\Project_Auto_and_Finance_Sector_250424\\Diversified_Chemicals.xlsx\n",
      "Saved C:\\Users\\anind\\Desktop\\Indiana University Bloomington\\Semester 2\\I606 Network Science\\Project\\Data\\rerunning\\Project_Auto_and_Finance_Sector_250424\\Banks.xlsx\n",
      "Saved C:\\Users\\anind\\Desktop\\Indiana University Bloomington\\Semester 2\\I606 Network Science\\Project\\Data\\rerunning\\Project_Auto_and_Finance_Sector_250424\\Plastic_Products.xlsx\n",
      "Saved C:\\Users\\anind\\Desktop\\Indiana University Bloomington\\Semester 2\\I606 Network Science\\Project\\Data\\rerunning\\Project_Auto_and_Finance_Sector_250424\\Capital_Markets.xlsx\n",
      "Saved C:\\Users\\anind\\Desktop\\Indiana University Bloomington\\Semester 2\\I606 Network Science\\Project\\Data\\rerunning\\Project_Auto_and_Finance_Sector_250424\\Non_Ferrous_Metals.xlsx\n",
      "Saved C:\\Users\\anind\\Desktop\\Indiana University Bloomington\\Semester 2\\I606 Network Science\\Project\\Data\\rerunning\\Project_Auto_and_Finance_Sector_250424\\Oil___Gas___Refining___Marketing.xlsx\n",
      "Saved C:\\Users\\anind\\Desktop\\Indiana University Bloomington\\Semester 2\\I606 Network Science\\Project\\Data\\rerunning\\Project_Auto_and_Finance_Sector_250424\\E_commerce___Listing.xlsx\n",
      "Saved C:\\Users\\anind\\Desktop\\Indiana University Bloomington\\Semester 2\\I606 Network Science\\Project\\Data\\rerunning\\Project_Auto_and_Finance_Sector_250424\\Lubricants.xlsx\n",
      "Saved C:\\Users\\anind\\Desktop\\Indiana University Bloomington\\Semester 2\\I606 Network Science\\Project\\Data\\rerunning\\Project_Auto_and_Finance_Sector_250424\\General_Insurance.xlsx\n",
      "Saved C:\\Users\\anind\\Desktop\\Indiana University Bloomington\\Semester 2\\I606 Network Science\\Project\\Data\\rerunning\\Project_Auto_and_Finance_Sector_250424\\Electrodes___Graphites.xlsx\n"
     ]
    }
   ],
   "source": [
    "import pandas as pd\n",
    "import os\n",
    "\n",
    "def sanitize_filename(name):\n",
    "    return \"\".join([c if c.isalnum() else \"_\" for c in name])\n",
    "\n",
    "def split_excel_by_column(file_path, column_name, output_directory):\n",
    "    # Load the Excel file\n",
    "    df = pd.read_excel(file_path)\n",
    "    \n",
    "    # Create the output directory if it does not exist\n",
    "    if not os.path.exists(output_directory):\n",
    "        os.makedirs(output_directory)\n",
    "    \n",
    "    # Find unique values in the specified column\n",
    "    divisions = df[column_name].unique()\n",
    "    \n",
    "    # Filter the data by each division and write to a separate Excel file\n",
    "    for division in divisions:\n",
    "        sanitized_name = sanitize_filename(division)\n",
    "        filtered_df = df[df[column_name] == division]\n",
    "        output_file_path = os.path.join(output_directory, f\"{sanitized_name}.xlsx\")\n",
    "        filtered_df.to_excel(output_file_path, index=False)\n",
    "        print(f\"Saved {output_file_path}\")\n",
    "\n",
    "# Usage\n",
    "file_path = r\"C:\\Users\\anind\\Desktop\\Indiana University Bloomington\\Semester 2\\I606 Network Science\\Project\\Data\\rerunning\\SectorsAndStocks_220424.xlsx\"  # Change this to your Excel file path\n",
    "column_name = 'Sector'  # Change this to your column name\n",
    "output_directory = r'C:\\Users\\anind\\Desktop\\Indiana University Bloomington\\Semester 2\\I606 Network Science\\Project\\Data\\rerunning\\Project_Auto_and_Finance_Sector_250424'  # Change this to your desired output directory\n",
    "\n",
    "split_excel_by_column(file_path, column_name, output_directory)"
   ]
  },
  {
   "cell_type": "markdown",
   "id": "b05c93db-4e2f-4df8-9c61-ed0c35a5c426",
   "metadata": {},
   "source": [
    "This snippet of code:\n",
    "1. reads all the excel files stored in a specific directory\n",
    "2. goes thrrough the specific column mentioned in the code in all of those excel files\n",
    "3. splits the values stored in the column by the '.' (dot)\n",
    "4. makes another column in the same excel files and store the part after the dot inside that column\n",
    "5. rewrites the excel files and save them in the same directory.\n",
    "\n",
    "The initial file contained company names and label seperated by a '.' in the same column, this code filters out the company labels and store them correspondingly.\n",
    "\n",
    "credit: help from ChatGPT"
   ]
  },
  {
   "cell_type": "code",
   "execution_count": 8,
   "id": "813e00ba-959f-449c-9859-031f25ba5a60",
   "metadata": {},
   "outputs": [
    {
     "name": "stdout",
     "output_type": "stream",
     "text": [
      "Excel file has been updated successfully.\n"
     ]
    }
   ],
   "source": [
    "import pandas as pd\n",
    "import os\n",
    "\n",
    "def process_excel_file(file_path):\n",
    "    # Load the Excel file\n",
    "    try:\n",
    "        df = pd.read_excel(file_path)\n",
    "    except Exception as e:\n",
    "        print(f\"Failed to read {file_path}: {str(e)}\")\n",
    "        return\n",
    "\n",
    "    # Ensure the column 'Company' exists\n",
    "    if 'Company' in df.columns:\n",
    "        # Function to split the name and extract the part after the \".\"\n",
    "        def get_company_label(name):\n",
    "            parts = name.split('.')\n",
    "            return parts[1] if len(parts) > 1 else None\n",
    "\n",
    "        # Apply the function and create a new column for the company label\n",
    "        df['symbol'] = df['Company'].apply(get_company_label)\n",
    "\n",
    "        # Save the changes back to the same Excel file\n",
    "        try:\n",
    "            df.to_excel(file_path, index=False)\n",
    "            print(f\"Excel file '{file_path}' has been updated successfully.\")\n",
    "        except Exception as e:\n",
    "            print(f\"Failed to write to {file_path}: {str(e)}\")\n",
    "    else:\n",
    "        print(\"Error: Column 'Company' does not exist in the Excel file.\")\n",
    "\n",
    "# Example usage: Assuming you want to process multiple files in a directory\n",
    "directory_path = r'C:\\Users\\anind\\Desktop\\Indiana University Bloomington\\Semester 2\\I606 Network Science\\Project\\Data\\rerunning\\Project_Auto_and_Finance_Sector_250424\\Sector_and_companies'\n",
    "for filename in os.listdir(directory_path):\n",
    "    if filename.endswith('.xlsx') or filename.endswith('.xls'):\n",
    "        file_path = os.path.join(directory_path, filename)\n",
    "        process_excel_file(file_path)"
   ]
  },
  {
   "cell_type": "markdown",
   "id": "d5d46c87-6f8f-44c7-9902-6440f72abc89",
   "metadata": {},
   "source": [
    "This snippet of code:\n",
    "\n",
    "1. reads through all the excel files stored in a specific directory\n",
    "2. reads through the column named 'Company Label'\n",
    "3. add \".NS\" after each of the value stored in the column in all the files\n",
    "4. rewrtes the files and save them\n",
    "\n",
    "This is for preparing the search strings for the next snippet of code for downloading financial data from Yahoo Finance.\n",
    "\n",
    "credit: help from ChatGPT"
   ]
  },
  {
   "cell_type": "code",
   "execution_count": 9,
   "id": "27a8ad59-457a-4246-9c45-b29cc795dea6",
   "metadata": {},
   "outputs": [
    {
     "name": "stdout",
     "output_type": "stream",
     "text": [
      "Modified and saved C:\\Users\\anind\\Desktop\\Indiana University Bloomington\\Semester 2\\I606 Network Science\\Project\\Data\\rerunning\\Project_Auto_and_Finance_Sector_250424\\Asset_Management.xlsx\n",
      "Modified and saved C:\\Users\\anind\\Desktop\\Indiana University Bloomington\\Semester 2\\I606 Network Science\\Project\\Data\\rerunning\\Project_Auto_and_Finance_Sector_250424\\Auto_Ancillaries.xlsx\n",
      "Modified and saved C:\\Users\\anind\\Desktop\\Indiana University Bloomington\\Semester 2\\I606 Network Science\\Project\\Data\\rerunning\\Project_Auto_and_Finance_Sector_250424\\Auto___2___3_Wheelers.xlsx\n",
      "Modified and saved C:\\Users\\anind\\Desktop\\Indiana University Bloomington\\Semester 2\\I606 Network Science\\Project\\Data\\rerunning\\Project_Auto_and_Finance_Sector_250424\\Auto___4w.xlsx\n",
      "Modified and saved C:\\Users\\anind\\Desktop\\Indiana University Bloomington\\Semester 2\\I606 Network Science\\Project\\Data\\rerunning\\Project_Auto_and_Finance_Sector_250424\\Banks.xlsx\n",
      "Modified and saved C:\\Users\\anind\\Desktop\\Indiana University Bloomington\\Semester 2\\I606 Network Science\\Project\\Data\\rerunning\\Project_Auto_and_Finance_Sector_250424\\Batteries.xlsx\n",
      "Modified and saved C:\\Users\\anind\\Desktop\\Indiana University Bloomington\\Semester 2\\I606 Network Science\\Project\\Data\\rerunning\\Project_Auto_and_Finance_Sector_250424\\Capital_Markets.xlsx\n",
      "Modified and saved C:\\Users\\anind\\Desktop\\Indiana University Bloomington\\Semester 2\\I606 Network Science\\Project\\Data\\rerunning\\Project_Auto_and_Finance_Sector_250424\\Credit_Rating_Agencies.xlsx\n",
      "Modified and saved C:\\Users\\anind\\Desktop\\Indiana University Bloomington\\Semester 2\\I606 Network Science\\Project\\Data\\rerunning\\Project_Auto_and_Finance_Sector_250424\\Diversified_Chemicals.xlsx\n",
      "Modified and saved C:\\Users\\anind\\Desktop\\Indiana University Bloomington\\Semester 2\\I606 Network Science\\Project\\Data\\rerunning\\Project_Auto_and_Finance_Sector_250424\\Electrical___Equipment_components.xlsx\n",
      "Modified and saved C:\\Users\\anind\\Desktop\\Indiana University Bloomington\\Semester 2\\I606 Network Science\\Project\\Data\\rerunning\\Project_Auto_and_Finance_Sector_250424\\Electrodes___Graphites.xlsx\n",
      "Modified and saved C:\\Users\\anind\\Desktop\\Indiana University Bloomington\\Semester 2\\I606 Network Science\\Project\\Data\\rerunning\\Project_Auto_and_Finance_Sector_250424\\Electronics___Equipment_components.xlsx\n",
      "Modified and saved C:\\Users\\anind\\Desktop\\Indiana University Bloomington\\Semester 2\\I606 Network Science\\Project\\Data\\rerunning\\Project_Auto_and_Finance_Sector_250424\\Engineering___Heavy.xlsx\n",
      "Modified and saved C:\\Users\\anind\\Desktop\\Indiana University Bloomington\\Semester 2\\I606 Network Science\\Project\\Data\\rerunning\\Project_Auto_and_Finance_Sector_250424\\E_commerce___Listing.xlsx\n",
      "Modified and saved C:\\Users\\anind\\Desktop\\Indiana University Bloomington\\Semester 2\\I606 Network Science\\Project\\Data\\rerunning\\Project_Auto_and_Finance_Sector_250424\\Finance___Investments.xlsx\n",
      "Modified and saved C:\\Users\\anind\\Desktop\\Indiana University Bloomington\\Semester 2\\I606 Network Science\\Project\\Data\\rerunning\\Project_Auto_and_Finance_Sector_250424\\General_Insurance.xlsx\n",
      "Modified and saved C:\\Users\\anind\\Desktop\\Indiana University Bloomington\\Semester 2\\I606 Network Science\\Project\\Data\\rerunning\\Project_Auto_and_Finance_Sector_250424\\Heavy_Electrical_Equipment.xlsx\n",
      "Modified and saved C:\\Users\\anind\\Desktop\\Indiana University Bloomington\\Semester 2\\I606 Network Science\\Project\\Data\\rerunning\\Project_Auto_and_Finance_Sector_250424\\Housing_Finance.xlsx\n",
      "Modified and saved C:\\Users\\anind\\Desktop\\Indiana University Bloomington\\Semester 2\\I606 Network Science\\Project\\Data\\rerunning\\Project_Auto_and_Finance_Sector_250424\\Industrial_Machinery__Equipment___Goods.xlsx\n",
      "Modified and saved C:\\Users\\anind\\Desktop\\Indiana University Bloomington\\Semester 2\\I606 Network Science\\Project\\Data\\rerunning\\Project_Auto_and_Finance_Sector_250424\\Investment_Banking___Brokerage_Services.xlsx\n",
      "Modified and saved C:\\Users\\anind\\Desktop\\Indiana University Bloomington\\Semester 2\\I606 Network Science\\Project\\Data\\rerunning\\Project_Auto_and_Finance_Sector_250424\\Iron___Steel.xlsx\n",
      "Modified and saved C:\\Users\\anind\\Desktop\\Indiana University Bloomington\\Semester 2\\I606 Network Science\\Project\\Data\\rerunning\\Project_Auto_and_Finance_Sector_250424\\It_Services___Consulting.xlsx\n",
      "Modified and saved C:\\Users\\anind\\Desktop\\Indiana University Bloomington\\Semester 2\\I606 Network Science\\Project\\Data\\rerunning\\Project_Auto_and_Finance_Sector_250424\\Logistics.xlsx\n",
      "Modified and saved C:\\Users\\anind\\Desktop\\Indiana University Bloomington\\Semester 2\\I606 Network Science\\Project\\Data\\rerunning\\Project_Auto_and_Finance_Sector_250424\\Lubricants.xlsx\n",
      "Modified and saved C:\\Users\\anind\\Desktop\\Indiana University Bloomington\\Semester 2\\I606 Network Science\\Project\\Data\\rerunning\\Project_Auto_and_Finance_Sector_250424\\Nbfc.xlsx\n",
      "Modified and saved C:\\Users\\anind\\Desktop\\Indiana University Bloomington\\Semester 2\\I606 Network Science\\Project\\Data\\rerunning\\Project_Auto_and_Finance_Sector_250424\\Non_Ferrous_Metals.xlsx\n",
      "Modified and saved C:\\Users\\anind\\Desktop\\Indiana University Bloomington\\Semester 2\\I606 Network Science\\Project\\Data\\rerunning\\Project_Auto_and_Finance_Sector_250424\\Oil___Gas_Exploration_And_Production.xlsx\n",
      "Modified and saved C:\\Users\\anind\\Desktop\\Indiana University Bloomington\\Semester 2\\I606 Network Science\\Project\\Data\\rerunning\\Project_Auto_and_Finance_Sector_250424\\Oil___Gas___Equipment___Services.xlsx\n",
      "Modified and saved C:\\Users\\anind\\Desktop\\Indiana University Bloomington\\Semester 2\\I606 Network Science\\Project\\Data\\rerunning\\Project_Auto_and_Finance_Sector_250424\\Oil___Gas___Refining___Marketing.xlsx\n",
      "Modified and saved C:\\Users\\anind\\Desktop\\Indiana University Bloomington\\Semester 2\\I606 Network Science\\Project\\Data\\rerunning\\Project_Auto_and_Finance_Sector_250424\\Petrochemicals.xlsx\n",
      "Modified and saved C:\\Users\\anind\\Desktop\\Indiana University Bloomington\\Semester 2\\I606 Network Science\\Project\\Data\\rerunning\\Project_Auto_and_Finance_Sector_250424\\Plastic_Products.xlsx\n",
      "Modified and saved C:\\Users\\anind\\Desktop\\Indiana University Bloomington\\Semester 2\\I606 Network Science\\Project\\Data\\rerunning\\Project_Auto_and_Finance_Sector_250424\\Power___Generation_distribution.xlsx\n",
      "Modified and saved C:\\Users\\anind\\Desktop\\Indiana University Bloomington\\Semester 2\\I606 Network Science\\Project\\Data\\rerunning\\Project_Auto_and_Finance_Sector_250424\\Real_Estate.xlsx\n",
      "Modified and saved C:\\Users\\anind\\Desktop\\Indiana University Bloomington\\Semester 2\\I606 Network Science\\Project\\Data\\rerunning\\Project_Auto_and_Finance_Sector_250424\\Software_Services.xlsx\n",
      "Modified and saved C:\\Users\\anind\\Desktop\\Indiana University Bloomington\\Semester 2\\I606 Network Science\\Project\\Data\\rerunning\\Project_Auto_and_Finance_Sector_250424\\Tubes___Pipes.xlsx\n",
      "Modified and saved C:\\Users\\anind\\Desktop\\Indiana University Bloomington\\Semester 2\\I606 Network Science\\Project\\Data\\rerunning\\Project_Auto_and_Finance_Sector_250424\\Tyres___Rubber_Products.xlsx\n"
     ]
    }
   ],
   "source": [
    "import pandas as pd\n",
    "import os\n",
    "\n",
    "def modify_excel_files(directory, column_name):\n",
    "    # Iterate through all files in the directory\n",
    "    for filename in os.listdir(directory):\n",
    "        if filename.endswith(\".xlsx\"):\n",
    "            # Construct full file path\n",
    "            file_path = os.path.join(directory, filename)\n",
    "            # Read the Excel file\n",
    "            df = pd.read_excel(file_path)\n",
    "            \n",
    "            # Check if the specified column exists in the DataFrame\n",
    "            if column_name in df.columns:\n",
    "                # Process the specified column\n",
    "                df['Company Label'] = df[column_name].apply(lambda x: modify_name(x))\n",
    "                # Save the modified DataFrame back to the Excel file\n",
    "                df.to_excel(file_path, index=False)\n",
    "                print(f\"Modified and saved {file_path}\")\n",
    "            else:\n",
    "                print(f\"Column '{column_name}' not found in {file_path}\")\n",
    "\n",
    "def modify_name(name):\n",
    "    # Split the name at the dot\n",
    "    parts = name.split('.')\n",
    "    # Append \".NS\" to the second part and return it\n",
    "    if len(parts) > 1:\n",
    "        return f\"{parts[1]}.NS\"\n",
    "    else:\n",
    "        return \"Unknown.NS\"  # Fallback if no dot exists\n",
    "\n",
    "# Usage\n",
    "directory = r'C:\\Users\\anind\\Desktop\\Indiana University Bloomington\\Semester 2\\I606 Network Science\\Project\\Data\\rerunning\\Project_Auto_and_Finance_Sector_250424'  # Replace with the path to your directory containing Excel files\n",
    "column_name = 'Company'        # Replace with the name of the column you want to modify\n",
    "\n",
    "modify_excel_files(directory, column_name)"
   ]
  },
  {
   "cell_type": "markdown",
   "id": "2bd94d1c-1225-49c7-9dd3-efe67116f3fb",
   "metadata": {},
   "source": []
  },
  {
   "cell_type": "markdown",
   "id": "a58c14e6-e16e-45e7-a15c-999a8074340a",
   "metadata": {},
   "source": [
    "This snippet of code:\n",
    "\n",
    "1. reads all the excel files stored in a specific directory\n",
    "2. reads all the values stored in a specific directory ('Company Label' column, where the labels are saved with appended .NS at the end)\n",
    "3. search by the string stored in the columns in Yahoo Finance website and download the financial data for a specific time period\n",
    "4. saves the excel files in a specific directory\n",
    "\n",
    "credit: ChatGPT"
   ]
  },
  {
   "cell_type": "code",
   "execution_count": 10,
   "id": "31db4c68-7315-457b-847b-d137d6064338",
   "metadata": {},
   "outputs": [
    {
     "name": "stdout",
     "output_type": "stream",
     "text": [
      "Processing file: C:\\Users\\anind\\Desktop\\Indiana University Bloomington\\Semester 2\\I606 Network Science\\Project\\Data\\rerunning\\Project_Auto_and_Finance_Sector_250424\\Asset_Management.xlsx\n",
      "Downloading data for  360ONE.NS\n"
     ]
    },
    {
     "name": "stderr",
     "output_type": "stream",
     "text": [
      "[*********************100%%**********************]  1 of 1 completed\n",
      "[*********************100%%**********************]  1 of 1 completed"
     ]
    },
    {
     "name": "stdout",
     "output_type": "stream",
     "text": [
      "Data for  360ONE.NS saved to C:\\Users\\anind\\Desktop\\Indiana University Bloomington\\Semester 2\\I606 Network Science\\Project\\Data\\rerunning\\Project_Auto_and_Finance_Sector_250424\\Financial_Data\\ 360ONE.NS_data.xlsx\n",
      "Downloading data for  ABSLAMC.NS\n",
      "Data for  ABSLAMC.NS saved to C:\\Users\\anind\\Desktop\\Indiana University Bloomington\\Semester 2\\I606 Network Science\\Project\\Data\\rerunning\\Project_Auto_and_Finance_Sector_250424\\Financial_Data\\ ABSLAMC.NS_data.xlsx\n",
      "Downloading data for  CONSOFINVT.NS\n"
     ]
    },
    {
     "name": "stderr",
     "output_type": "stream",
     "text": [
      "\n",
      "[*********************100%%**********************]  1 of 1 completed\n",
      "[*********************100%%**********************]  1 of 1 completed"
     ]
    },
    {
     "name": "stdout",
     "output_type": "stream",
     "text": [
      "Data for  CONSOFINVT.NS saved to C:\\Users\\anind\\Desktop\\Indiana University Bloomington\\Semester 2\\I606 Network Science\\Project\\Data\\rerunning\\Project_Auto_and_Finance_Sector_250424\\Financial_Data\\ CONSOFINVT.NS_data.xlsx\n",
      "Downloading data for  DHUNINV.NS\n"
     ]
    },
    {
     "name": "stderr",
     "output_type": "stream",
     "text": [
      "\n",
      "[*********************100%%**********************]  1 of 1 completed\n"
     ]
    },
    {
     "name": "stdout",
     "output_type": "stream",
     "text": [
      "Data for  DHUNINV.NS saved to C:\\Users\\anind\\Desktop\\Indiana University Bloomington\\Semester 2\\I606 Network Science\\Project\\Data\\rerunning\\Project_Auto_and_Finance_Sector_250424\\Financial_Data\\ DHUNINV.NS_data.xlsx\n",
      "Downloading data for  HDFCAMC.NS\n",
      "Data for  HDFCAMC.NS saved to C:\\Users\\anind\\Desktop\\Indiana University Bloomington\\Semester 2\\I606 Network Science\\Project\\Data\\rerunning\\Project_Auto_and_Finance_Sector_250424\\Financial_Data\\ HDFCAMC.NS_data.xlsx\n",
      "Downloading data for  IVC.NS\n"
     ]
    },
    {
     "name": "stderr",
     "output_type": "stream",
     "text": [
      "[*********************100%%**********************]  1 of 1 completed\n",
      "[*********************100%%**********************]  1 of 1 completed\n"
     ]
    },
    {
     "name": "stdout",
     "output_type": "stream",
     "text": [
      "Data for  IVC.NS saved to C:\\Users\\anind\\Desktop\\Indiana University Bloomington\\Semester 2\\I606 Network Science\\Project\\Data\\rerunning\\Project_Auto_and_Finance_Sector_250424\\Financial_Data\\ IVC.NS_data.xlsx\n",
      "Downloading data for  NAGREEKCAP.NS\n",
      "Data for  NAGREEKCAP.NS saved to C:\\Users\\anind\\Desktop\\Indiana University Bloomington\\Semester 2\\I606 Network Science\\Project\\Data\\rerunning\\Project_Auto_and_Finance_Sector_250424\\Financial_Data\\ NAGREEKCAP.NS_data.xlsx\n",
      "Downloading data for  NAM-INDIA.NS\n"
     ]
    },
    {
     "name": "stderr",
     "output_type": "stream",
     "text": [
      "[*********************100%%**********************]  1 of 1 completed\n",
      "[*********************100%%**********************]  1 of 1 completed\n"
     ]
    },
    {
     "name": "stdout",
     "output_type": "stream",
     "text": [
      "Data for  NAM-INDIA.NS saved to C:\\Users\\anind\\Desktop\\Indiana University Bloomington\\Semester 2\\I606 Network Science\\Project\\Data\\rerunning\\Project_Auto_and_Finance_Sector_250424\\Financial_Data\\ NAM-INDIA.NS_data.xlsx\n",
      "Downloading data for  UTIAMC.NS\n",
      "Data for  UTIAMC.NS saved to C:\\Users\\anind\\Desktop\\Indiana University Bloomington\\Semester 2\\I606 Network Science\\Project\\Data\\rerunning\\Project_Auto_and_Finance_Sector_250424\\Financial_Data\\ UTIAMC.NS_data.xlsx\n",
      "Downloading data for  WELINV.NS\n"
     ]
    },
    {
     "name": "stderr",
     "output_type": "stream",
     "text": [
      "[*********************100%%**********************]  1 of 1 completed\n",
      "[*********************100%%**********************]  1 of 1 completed"
     ]
    },
    {
     "name": "stdout",
     "output_type": "stream",
     "text": [
      "Data for  WELINV.NS saved to C:\\Users\\anind\\Desktop\\Indiana University Bloomington\\Semester 2\\I606 Network Science\\Project\\Data\\rerunning\\Project_Auto_and_Finance_Sector_250424\\Financial_Data\\ WELINV.NS_data.xlsx\n",
      "Processing file: C:\\Users\\anind\\Desktop\\Indiana University Bloomington\\Semester 2\\I606 Network Science\\Project\\Data\\rerunning\\Project_Auto_and_Finance_Sector_250424\\Auto_Ancillaries.xlsx\n",
      "Downloading data for  ASKAUTOLTD.NS\n",
      "Data for  ASKAUTOLTD.NS saved to C:\\Users\\anind\\Desktop\\Indiana University Bloomington\\Semester 2\\I606 Network Science\\Project\\Data\\rerunning\\Project_Auto_and_Finance_Sector_250424\\Financial_Data\\ ASKAUTOLTD.NS_data.xlsx\n",
      "Downloading data for  ALICON.NS\n"
     ]
    },
    {
     "name": "stderr",
     "output_type": "stream",
     "text": [
      "\n",
      "[*********************100%%**********************]  1 of 1 completed\n",
      "[*********************100%%**********************]  1 of 1 completed"
     ]
    },
    {
     "name": "stdout",
     "output_type": "stream",
     "text": [
      "Data for  ALICON.NS saved to C:\\Users\\anind\\Desktop\\Indiana University Bloomington\\Semester 2\\I606 Network Science\\Project\\Data\\rerunning\\Project_Auto_and_Finance_Sector_250424\\Financial_Data\\ ALICON.NS_data.xlsx\n",
      "Downloading data for  ASAHIINDIA.NS\n"
     ]
    },
    {
     "name": "stderr",
     "output_type": "stream",
     "text": [
      "\n",
      "[*********************100%%**********************]  1 of 1 completed\n"
     ]
    },
    {
     "name": "stdout",
     "output_type": "stream",
     "text": [
      "Data for  ASAHIINDIA.NS saved to C:\\Users\\anind\\Desktop\\Indiana University Bloomington\\Semester 2\\I606 Network Science\\Project\\Data\\rerunning\\Project_Auto_and_Finance_Sector_250424\\Financial_Data\\ ASAHIINDIA.NS_data.xlsx\n",
      "Downloading data for  AUTOIND.NS\n"
     ]
    },
    {
     "name": "stderr",
     "output_type": "stream",
     "text": [
      "[*********************100%%**********************]  1 of 1 completed"
     ]
    },
    {
     "name": "stdout",
     "output_type": "stream",
     "text": [
      "Data for  AUTOIND.NS saved to C:\\Users\\anind\\Desktop\\Indiana University Bloomington\\Semester 2\\I606 Network Science\\Project\\Data\\rerunning\\Project_Auto_and_Finance_Sector_250424\\Financial_Data\\ AUTOIND.NS_data.xlsx\n",
      "Downloading data for  AUTOLITIND.NS\n",
      "Data for  AUTOLITIND.NS saved to C:\\Users\\anind\\Desktop\\Indiana University Bloomington\\Semester 2\\I606 Network Science\\Project\\Data\\rerunning\\Project_Auto_and_Finance_Sector_250424\\Financial_Data\\ AUTOLITIND.NS_data.xlsx\n",
      "Downloading data for  AUTOAXLES.NS\n"
     ]
    },
    {
     "name": "stderr",
     "output_type": "stream",
     "text": [
      "\n",
      "[*********************100%%**********************]  1 of 1 completed\n",
      "[*********************100%%**********************]  1 of 1 completed"
     ]
    },
    {
     "name": "stdout",
     "output_type": "stream",
     "text": [
      "Data for  AUTOAXLES.NS saved to C:\\Users\\anind\\Desktop\\Indiana University Bloomington\\Semester 2\\I606 Network Science\\Project\\Data\\rerunning\\Project_Auto_and_Finance_Sector_250424\\Financial_Data\\ AUTOAXLES.NS_data.xlsx\n",
      "Downloading data for  ASAL.NS\n"
     ]
    },
    {
     "name": "stderr",
     "output_type": "stream",
     "text": [
      "\n",
      "[*********************100%%**********************]  1 of 1 completed"
     ]
    },
    {
     "name": "stdout",
     "output_type": "stream",
     "text": [
      "Data for  ASAL.NS saved to C:\\Users\\anind\\Desktop\\Indiana University Bloomington\\Semester 2\\I606 Network Science\\Project\\Data\\rerunning\\Project_Auto_and_Finance_Sector_250424\\Financial_Data\\ ASAL.NS_data.xlsx\n",
      "Downloading data for  BANCOINDIA.NS\n"
     ]
    },
    {
     "name": "stderr",
     "output_type": "stream",
     "text": [
      "\n",
      "[*********************100%%**********************]  1 of 1 completed"
     ]
    },
    {
     "name": "stdout",
     "output_type": "stream",
     "text": [
      "Data for  BANCOINDIA.NS saved to C:\\Users\\anind\\Desktop\\Indiana University Bloomington\\Semester 2\\I606 Network Science\\Project\\Data\\rerunning\\Project_Auto_and_Finance_Sector_250424\\Financial_Data\\ BANCOINDIA.NS_data.xlsx\n",
      "Downloading data for  BHARATGEAR.NS\n"
     ]
    },
    {
     "name": "stderr",
     "output_type": "stream",
     "text": [
      "\n",
      "[*********************100%%**********************]  1 of 1 completed\n"
     ]
    },
    {
     "name": "stdout",
     "output_type": "stream",
     "text": [
      "Data for  BHARATGEAR.NS saved to C:\\Users\\anind\\Desktop\\Indiana University Bloomington\\Semester 2\\I606 Network Science\\Project\\Data\\rerunning\\Project_Auto_and_Finance_Sector_250424\\Financial_Data\\ BHARATGEAR.NS_data.xlsx\n",
      "Downloading data for  BOSCHLTD.NS\n"
     ]
    },
    {
     "name": "stderr",
     "output_type": "stream",
     "text": [
      "[*********************100%%**********************]  1 of 1 completed\n"
     ]
    },
    {
     "name": "stdout",
     "output_type": "stream",
     "text": [
      "Data for  BOSCHLTD.NS saved to C:\\Users\\anind\\Desktop\\Indiana University Bloomington\\Semester 2\\I606 Network Science\\Project\\Data\\rerunning\\Project_Auto_and_Finance_Sector_250424\\Financial_Data\\ BOSCHLTD.NS_data.xlsx\n",
      "Downloading data for  CIEINDIA.NS\n",
      "Data for  CIEINDIA.NS saved to C:\\Users\\anind\\Desktop\\Indiana University Bloomington\\Semester 2\\I606 Network Science\\Project\\Data\\rerunning\\Project_Auto_and_Finance_Sector_250424\\Financial_Data\\ CIEINDIA.NS_data.xlsx\n",
      "Downloading data for  DIVGIITTS.NS\n"
     ]
    },
    {
     "name": "stderr",
     "output_type": "stream",
     "text": [
      "[*********************100%%**********************]  1 of 1 completed\n",
      "[*********************100%%**********************]  1 of 1 completed\n"
     ]
    },
    {
     "name": "stdout",
     "output_type": "stream",
     "text": [
      "Data for  DIVGIITTS.NS saved to C:\\Users\\anind\\Desktop\\Indiana University Bloomington\\Semester 2\\I606 Network Science\\Project\\Data\\rerunning\\Project_Auto_and_Finance_Sector_250424\\Financial_Data\\ DIVGIITTS.NS_data.xlsx\n",
      "Downloading data for  ENDURANCE.NS\n",
      "Data for  ENDURANCE.NS saved to C:\\Users\\anind\\Desktop\\Indiana University Bloomington\\Semester 2\\I606 Network Science\\Project\\Data\\rerunning\\Project_Auto_and_Finance_Sector_250424\\Financial_Data\\ ENDURANCE.NS_data.xlsx\n",
      "Downloading data for  FIEMIND.NS\n"
     ]
    },
    {
     "name": "stderr",
     "output_type": "stream",
     "text": [
      "[*********************100%%**********************]  1 of 1 completed\n",
      "[*********************100%%**********************]  1 of 1 completed\n"
     ]
    },
    {
     "name": "stdout",
     "output_type": "stream",
     "text": [
      "Data for  FIEMIND.NS saved to C:\\Users\\anind\\Desktop\\Indiana University Bloomington\\Semester 2\\I606 Network Science\\Project\\Data\\rerunning\\Project_Auto_and_Finance_Sector_250424\\Financial_Data\\ FIEMIND.NS_data.xlsx\n",
      "Downloading data for  FMGOETZE.NS\n",
      "Data for  FMGOETZE.NS saved to C:\\Users\\anind\\Desktop\\Indiana University Bloomington\\Semester 2\\I606 Network Science\\Project\\Data\\rerunning\\Project_Auto_and_Finance_Sector_250424\\Financial_Data\\ FMGOETZE.NS_data.xlsx\n",
      "Downloading data for  GNA.NS\n"
     ]
    },
    {
     "name": "stderr",
     "output_type": "stream",
     "text": [
      "[*********************100%%**********************]  1 of 1 completed\n",
      "[*********************100%%**********************]  1 of 1 completed"
     ]
    },
    {
     "name": "stdout",
     "output_type": "stream",
     "text": [
      "Data for  GNA.NS saved to C:\\Users\\anind\\Desktop\\Indiana University Bloomington\\Semester 2\\I606 Network Science\\Project\\Data\\rerunning\\Project_Auto_and_Finance_Sector_250424\\Financial_Data\\ GNA.NS_data.xlsx\n",
      "Downloading data for  GABRIEL.NS\n",
      "Data for  GABRIEL.NS saved to C:\\Users\\anind\\Desktop\\Indiana University Bloomington\\Semester 2\\I606 Network Science\\Project\\Data\\rerunning\\Project_Auto_and_Finance_Sector_250424\\Financial_Data\\ GABRIEL.NS_data.xlsx\n",
      "Downloading data for  HAPPYFORGE.NS\n"
     ]
    },
    {
     "name": "stderr",
     "output_type": "stream",
     "text": [
      "\n",
      "[*********************100%%**********************]  1 of 1 completed\n",
      "[*********************100%%**********************]  1 of 1 completed\n"
     ]
    },
    {
     "name": "stdout",
     "output_type": "stream",
     "text": [
      "Data for  HAPPYFORGE.NS saved to C:\\Users\\anind\\Desktop\\Indiana University Bloomington\\Semester 2\\I606 Network Science\\Project\\Data\\rerunning\\Project_Auto_and_Finance_Sector_250424\\Financial_Data\\ HAPPYFORGE.NS_data.xlsx\n",
      "Downloading data for  HINDCOMPOS.NS\n"
     ]
    },
    {
     "name": "stderr",
     "output_type": "stream",
     "text": [
      "[*********************100%%**********************]  1 of 1 completed"
     ]
    },
    {
     "name": "stdout",
     "output_type": "stream",
     "text": [
      "Data for  HINDCOMPOS.NS saved to C:\\Users\\anind\\Desktop\\Indiana University Bloomington\\Semester 2\\I606 Network Science\\Project\\Data\\rerunning\\Project_Auto_and_Finance_Sector_250424\\Financial_Data\\ HINDCOMPOS.NS_data.xlsx\n",
      "Downloading data for  IGARASHI.NS\n"
     ]
    },
    {
     "name": "stderr",
     "output_type": "stream",
     "text": [
      "\n",
      "[*********************100%%**********************]  1 of 1 completed"
     ]
    },
    {
     "name": "stdout",
     "output_type": "stream",
     "text": [
      "Data for  IGARASHI.NS saved to C:\\Users\\anind\\Desktop\\Indiana University Bloomington\\Semester 2\\I606 Network Science\\Project\\Data\\rerunning\\Project_Auto_and_Finance_Sector_250424\\Financial_Data\\ IGARASHI.NS_data.xlsx\n",
      "Downloading data for  IMPAL.NS\n"
     ]
    },
    {
     "name": "stderr",
     "output_type": "stream",
     "text": [
      "\n",
      "[*********************100%%**********************]  1 of 1 completed"
     ]
    },
    {
     "name": "stdout",
     "output_type": "stream",
     "text": [
      "Data for  IMPAL.NS saved to C:\\Users\\anind\\Desktop\\Indiana University Bloomington\\Semester 2\\I606 Network Science\\Project\\Data\\rerunning\\Project_Auto_and_Finance_Sector_250424\\Financial_Data\\ IMPAL.NS_data.xlsx\n",
      "Downloading data for  INDNIPPON.NS\n"
     ]
    },
    {
     "name": "stderr",
     "output_type": "stream",
     "text": [
      "\n",
      "[*********************100%%**********************]  1 of 1 completed"
     ]
    },
    {
     "name": "stdout",
     "output_type": "stream",
     "text": [
      "Data for  INDNIPPON.NS saved to C:\\Users\\anind\\Desktop\\Indiana University Bloomington\\Semester 2\\I606 Network Science\\Project\\Data\\rerunning\\Project_Auto_and_Finance_Sector_250424\\Financial_Data\\ INDNIPPON.NS_data.xlsx\n",
      "Downloading data for  JBMA.NS\n"
     ]
    },
    {
     "name": "stderr",
     "output_type": "stream",
     "text": [
      "\n"
     ]
    },
    {
     "name": "stdout",
     "output_type": "stream",
     "text": [
      "Data for  JBMA.NS saved to C:\\Users\\anind\\Desktop\\Indiana University Bloomington\\Semester 2\\I606 Network Science\\Project\\Data\\rerunning\\Project_Auto_and_Finance_Sector_250424\\Financial_Data\\ JBMA.NS_data.xlsx\n",
      "Downloading data for  JMTAUTOLTD.NS\n"
     ]
    },
    {
     "name": "stderr",
     "output_type": "stream",
     "text": [
      "[*********************100%%**********************]  1 of 1 completed\n",
      "\n",
      "1 Failed download:\n",
      "['JMTAUTOLTD.NS']: Exception('%ticker%: No timezone found, symbol may be delisted')\n"
     ]
    },
    {
     "name": "stdout",
     "output_type": "stream",
     "text": [
      "No data found for  JMTAUTOLTD.NS\n",
      "Downloading data for  JTEKTINDIA.NS\n"
     ]
    },
    {
     "name": "stderr",
     "output_type": "stream",
     "text": [
      "[*********************100%%**********************]  1 of 1 completed\n",
      "[*********************100%%**********************]  1 of 1 completed"
     ]
    },
    {
     "name": "stdout",
     "output_type": "stream",
     "text": [
      "Data for  JTEKTINDIA.NS saved to C:\\Users\\anind\\Desktop\\Indiana University Bloomington\\Semester 2\\I606 Network Science\\Project\\Data\\rerunning\\Project_Auto_and_Finance_Sector_250424\\Financial_Data\\ JTEKTINDIA.NS_data.xlsx\n",
      "Downloading data for  JAMNAAUTO.NS\n",
      "Data for  JAMNAAUTO.NS saved to C:\\Users\\anind\\Desktop\\Indiana University Bloomington\\Semester 2\\I606 Network Science\\Project\\Data\\rerunning\\Project_Auto_and_Finance_Sector_250424\\Financial_Data\\ JAMNAAUTO.NS_data.xlsx\n",
      "Downloading data for  JAYBARMARU.NS\n"
     ]
    },
    {
     "name": "stderr",
     "output_type": "stream",
     "text": [
      "\n",
      "[*********************100%%**********************]  1 of 1 completed\n",
      "[*********************100%%**********************]  1 of 1 completed"
     ]
    },
    {
     "name": "stdout",
     "output_type": "stream",
     "text": [
      "Data for  JAYBARMARU.NS saved to C:\\Users\\anind\\Desktop\\Indiana University Bloomington\\Semester 2\\I606 Network Science\\Project\\Data\\rerunning\\Project_Auto_and_Finance_Sector_250424\\Financial_Data\\ JAYBARMARU.NS_data.xlsx\n",
      "Downloading data for  JMA.NS\n"
     ]
    },
    {
     "name": "stderr",
     "output_type": "stream",
     "text": [
      "\n",
      "[*********************100%%**********************]  1 of 1 completed\n"
     ]
    },
    {
     "name": "stdout",
     "output_type": "stream",
     "text": [
      "Data for  JMA.NS saved to C:\\Users\\anind\\Desktop\\Indiana University Bloomington\\Semester 2\\I606 Network Science\\Project\\Data\\rerunning\\Project_Auto_and_Finance_Sector_250424\\Financial_Data\\ JMA.NS_data.xlsx\n",
      "Downloading data for  LUMAXTECH.NS\n",
      "Data for  LUMAXTECH.NS saved to C:\\Users\\anind\\Desktop\\Indiana University Bloomington\\Semester 2\\I606 Network Science\\Project\\Data\\rerunning\\Project_Auto_and_Finance_Sector_250424\\Financial_Data\\ LUMAXTECH.NS_data.xlsx\n",
      "Downloading data for  LUMAXIND.NS\n"
     ]
    },
    {
     "name": "stderr",
     "output_type": "stream",
     "text": [
      "[*********************100%%**********************]  1 of 1 completed\n",
      "[*********************100%%**********************]  1 of 1 completed"
     ]
    },
    {
     "name": "stdout",
     "output_type": "stream",
     "text": [
      "Data for  LUMAXIND.NS saved to C:\\Users\\anind\\Desktop\\Indiana University Bloomington\\Semester 2\\I606 Network Science\\Project\\Data\\rerunning\\Project_Auto_and_Finance_Sector_250424\\Financial_Data\\ LUMAXIND.NS_data.xlsx\n",
      "Downloading data for  MENONBE.NS\n",
      "Data for  MENONBE.NS saved to C:\\Users\\anind\\Desktop\\Indiana University Bloomington\\Semester 2\\I606 Network Science\\Project\\Data\\rerunning\\Project_Auto_and_Finance_Sector_250424\\Financial_Data\\ MENONBE.NS_data.xlsx\n",
      "Downloading data for  MINDACORP.NS\n"
     ]
    },
    {
     "name": "stderr",
     "output_type": "stream",
     "text": [
      "\n",
      "[*********************100%%**********************]  1 of 1 completed\n",
      "[*********************100%%**********************]  1 of 1 completed"
     ]
    },
    {
     "name": "stdout",
     "output_type": "stream",
     "text": [
      "Data for  MINDACORP.NS saved to C:\\Users\\anind\\Desktop\\Indiana University Bloomington\\Semester 2\\I606 Network Science\\Project\\Data\\rerunning\\Project_Auto_and_Finance_Sector_250424\\Financial_Data\\ MINDACORP.NS_data.xlsx\n",
      "Downloading data for  MUNJALAU.NS\n"
     ]
    },
    {
     "name": "stderr",
     "output_type": "stream",
     "text": [
      "\n",
      "[*********************100%%**********************]  1 of 1 completed\n"
     ]
    },
    {
     "name": "stdout",
     "output_type": "stream",
     "text": [
      "Data for  MUNJALAU.NS saved to C:\\Users\\anind\\Desktop\\Indiana University Bloomington\\Semester 2\\I606 Network Science\\Project\\Data\\rerunning\\Project_Auto_and_Finance_Sector_250424\\Financial_Data\\ MUNJALAU.NS_data.xlsx\n",
      "Downloading data for  MUNJALSHOW.NS\n",
      "Data for  MUNJALSHOW.NS saved to C:\\Users\\anind\\Desktop\\Indiana University Bloomington\\Semester 2\\I606 Network Science\\Project\\Data\\rerunning\\Project_Auto_and_Finance_Sector_250424\\Financial_Data\\ MUNJALSHOW.NS_data.xlsx\n",
      "Downloading data for  NDRAUTO.NS\n"
     ]
    },
    {
     "name": "stderr",
     "output_type": "stream",
     "text": [
      "[*********************100%%**********************]  1 of 1 completed\n",
      "[*********************100%%**********************]  1 of 1 completed"
     ]
    },
    {
     "name": "stdout",
     "output_type": "stream",
     "text": [
      "Data for  NDRAUTO.NS saved to C:\\Users\\anind\\Desktop\\Indiana University Bloomington\\Semester 2\\I606 Network Science\\Project\\Data\\rerunning\\Project_Auto_and_Finance_Sector_250424\\Financial_Data\\ NDRAUTO.NS_data.xlsx\n",
      "Downloading data for  NRBBEARING.NS\n"
     ]
    },
    {
     "name": "stderr",
     "output_type": "stream",
     "text": [
      "\n",
      "[*********************100%%**********************]  1 of 1 completed\n"
     ]
    },
    {
     "name": "stdout",
     "output_type": "stream",
     "text": [
      "Data for  NRBBEARING.NS saved to C:\\Users\\anind\\Desktop\\Indiana University Bloomington\\Semester 2\\I606 Network Science\\Project\\Data\\rerunning\\Project_Auto_and_Finance_Sector_250424\\Financial_Data\\ NRBBEARING.NS_data.xlsx\n",
      "Downloading data for  NIBL.NS\n",
      "Data for  NIBL.NS saved to C:\\Users\\anind\\Desktop\\Indiana University Bloomington\\Semester 2\\I606 Network Science\\Project\\Data\\rerunning\\Project_Auto_and_Finance_Sector_250424\\Financial_Data\\ NIBL.NS_data.xlsx\n",
      "Downloading data for  OMAXAUTO.NS\n"
     ]
    },
    {
     "name": "stderr",
     "output_type": "stream",
     "text": [
      "[*********************100%%**********************]  1 of 1 completed\n",
      "[*********************100%%**********************]  1 of 1 completed"
     ]
    },
    {
     "name": "stdout",
     "output_type": "stream",
     "text": [
      "Data for  OMAXAUTO.NS saved to C:\\Users\\anind\\Desktop\\Indiana University Bloomington\\Semester 2\\I606 Network Science\\Project\\Data\\rerunning\\Project_Auto_and_Finance_Sector_250424\\Financial_Data\\ OMAXAUTO.NS_data.xlsx\n",
      "Downloading data for  PPAP.NS\n"
     ]
    },
    {
     "name": "stderr",
     "output_type": "stream",
     "text": [
      "\n",
      "[*********************100%%**********************]  1 of 1 completed"
     ]
    },
    {
     "name": "stdout",
     "output_type": "stream",
     "text": [
      "Data for  PPAP.NS saved to C:\\Users\\anind\\Desktop\\Indiana University Bloomington\\Semester 2\\I606 Network Science\\Project\\Data\\rerunning\\Project_Auto_and_Finance_Sector_250424\\Financial_Data\\ PPAP.NS_data.xlsx\n",
      "Downloading data for  PAVNAIND.NS\n",
      "Data for  PAVNAIND.NS saved to C:\\Users\\anind\\Desktop\\Indiana University Bloomington\\Semester 2\\I606 Network Science\\Project\\Data\\rerunning\\Project_Auto_and_Finance_Sector_250424\\Financial_Data\\ PAVNAIND.NS_data.xlsx\n",
      "Downloading data for  PVSL.NS\n"
     ]
    },
    {
     "name": "stderr",
     "output_type": "stream",
     "text": [
      "\n",
      "[*********************100%%**********************]  1 of 1 completed\n",
      "\n",
      "1 Failed download:\n",
      "['PVSL.NS']: Exception(\"%ticker%: Data doesn't exist for startDate = 1609439400, endDate = 1703961000\")\n",
      "[*********************100%%**********************]  1 of 1 completed\n"
     ]
    },
    {
     "name": "stdout",
     "output_type": "stream",
     "text": [
      "No data found for  PVSL.NS\n",
      "Downloading data for  PRECAM.NS\n",
      "Data for  PRECAM.NS saved to C:\\Users\\anind\\Desktop\\Indiana University Bloomington\\Semester 2\\I606 Network Science\\Project\\Data\\rerunning\\Project_Auto_and_Finance_Sector_250424\\Financial_Data\\ PRECAM.NS_data.xlsx\n",
      "Downloading data for  PRICOLLTD.NS\n"
     ]
    },
    {
     "name": "stderr",
     "output_type": "stream",
     "text": [
      "[*********************100%%**********************]  1 of 1 completed\n",
      "[*********************100%%**********************]  1 of 1 completed"
     ]
    },
    {
     "name": "stdout",
     "output_type": "stream",
     "text": [
      "Data for  PRICOLLTD.NS saved to C:\\Users\\anind\\Desktop\\Indiana University Bloomington\\Semester 2\\I606 Network Science\\Project\\Data\\rerunning\\Project_Auto_and_Finance_Sector_250424\\Financial_Data\\ PRICOLLTD.NS_data.xlsx\n",
      "Downloading data for  PRITIKAUTO.NS\n",
      "Data for  PRITIKAUTO.NS saved to C:\\Users\\anind\\Desktop\\Indiana University Bloomington\\Semester 2\\I606 Network Science\\Project\\Data\\rerunning\\Project_Auto_and_Finance_Sector_250424\\Financial_Data\\ PRITIKAUTO.NS_data.xlsx\n",
      "Downloading data for  RML.NS\n"
     ]
    },
    {
     "name": "stderr",
     "output_type": "stream",
     "text": [
      "\n",
      "[*********************100%%**********************]  1 of 1 completed\n"
     ]
    },
    {
     "name": "stdout",
     "output_type": "stream",
     "text": [
      "Data for  RML.NS saved to C:\\Users\\anind\\Desktop\\Indiana University Bloomington\\Semester 2\\I606 Network Science\\Project\\Data\\rerunning\\Project_Auto_and_Finance_Sector_250424\\Financial_Data\\ RML.NS_data.xlsx\n",
      "Downloading data for  RBL.NS\n"
     ]
    },
    {
     "name": "stderr",
     "output_type": "stream",
     "text": [
      "[*********************100%%**********************]  1 of 1 completed\n",
      "[*********************100%%**********************]  1 of 1 completed"
     ]
    },
    {
     "name": "stdout",
     "output_type": "stream",
     "text": [
      "Data for  RBL.NS saved to C:\\Users\\anind\\Desktop\\Indiana University Bloomington\\Semester 2\\I606 Network Science\\Project\\Data\\rerunning\\Project_Auto_and_Finance_Sector_250424\\Financial_Data\\ RBL.NS_data.xlsx\n",
      "Downloading data for  RANEENGINE.NS\n"
     ]
    },
    {
     "name": "stderr",
     "output_type": "stream",
     "text": [
      "\n",
      "[*********************100%%**********************]  1 of 1 completed\n"
     ]
    },
    {
     "name": "stdout",
     "output_type": "stream",
     "text": [
      "Data for  RANEENGINE.NS saved to C:\\Users\\anind\\Desktop\\Indiana University Bloomington\\Semester 2\\I606 Network Science\\Project\\Data\\rerunning\\Project_Auto_and_Finance_Sector_250424\\Financial_Data\\ RANEENGINE.NS_data.xlsx\n",
      "Downloading data for  REMSONSIND.NS\n"
     ]
    },
    {
     "name": "stderr",
     "output_type": "stream",
     "text": [
      "[*********************100%%**********************]  1 of 1 completed"
     ]
    },
    {
     "name": "stdout",
     "output_type": "stream",
     "text": [
      "Data for  REMSONSIND.NS saved to C:\\Users\\anind\\Desktop\\Indiana University Bloomington\\Semester 2\\I606 Network Science\\Project\\Data\\rerunning\\Project_Auto_and_Finance_Sector_250424\\Financial_Data\\ REMSONSIND.NS_data.xlsx\n",
      "Downloading data for  RICOAUTO.NS\n"
     ]
    },
    {
     "name": "stderr",
     "output_type": "stream",
     "text": [
      "\n",
      "[*********************100%%**********************]  1 of 1 completed"
     ]
    },
    {
     "name": "stdout",
     "output_type": "stream",
     "text": [
      "Data for  RICOAUTO.NS saved to C:\\Users\\anind\\Desktop\\Indiana University Bloomington\\Semester 2\\I606 Network Science\\Project\\Data\\rerunning\\Project_Auto_and_Finance_Sector_250424\\Financial_Data\\ RICOAUTO.NS_data.xlsx\n",
      "Downloading data for  MOTHERSON.NS\n"
     ]
    },
    {
     "name": "stderr",
     "output_type": "stream",
     "text": [
      "\n"
     ]
    },
    {
     "name": "stdout",
     "output_type": "stream",
     "text": [
      "Data for  MOTHERSON.NS saved to C:\\Users\\anind\\Desktop\\Indiana University Bloomington\\Semester 2\\I606 Network Science\\Project\\Data\\rerunning\\Project_Auto_and_Finance_Sector_250424\\Financial_Data\\ MOTHERSON.NS_data.xlsx\n",
      "Downloading data for  SANDHAR.NS\n"
     ]
    },
    {
     "name": "stderr",
     "output_type": "stream",
     "text": [
      "[*********************100%%**********************]  1 of 1 completed\n",
      "[*********************100%%**********************]  1 of 1 completed"
     ]
    },
    {
     "name": "stdout",
     "output_type": "stream",
     "text": [
      "Data for  SANDHAR.NS saved to C:\\Users\\anind\\Desktop\\Indiana University Bloomington\\Semester 2\\I606 Network Science\\Project\\Data\\rerunning\\Project_Auto_and_Finance_Sector_250424\\Financial_Data\\ SANDHAR.NS_data.xlsx\n",
      "Downloading data for  SETCO.NS\n",
      "Data for  SETCO.NS saved to C:\\Users\\anind\\Desktop\\Indiana University Bloomington\\Semester 2\\I606 Network Science\\Project\\Data\\rerunning\\Project_Auto_and_Finance_Sector_250424\\Financial_Data\\ SETCO.NS_data.xlsx\n",
      "Downloading data for  SHANTIGEAR.NS\n"
     ]
    },
    {
     "name": "stderr",
     "output_type": "stream",
     "text": [
      "\n",
      "[*********************100%%**********************]  1 of 1 completed\n"
     ]
    },
    {
     "name": "stdout",
     "output_type": "stream",
     "text": [
      "Data for  SHANTIGEAR.NS saved to C:\\Users\\anind\\Desktop\\Indiana University Bloomington\\Semester 2\\I606 Network Science\\Project\\Data\\rerunning\\Project_Auto_and_Finance_Sector_250424\\Financial_Data\\ SHANTIGEAR.NS_data.xlsx\n",
      "Downloading data for  SHARDAMOTR.NS\n"
     ]
    },
    {
     "name": "stderr",
     "output_type": "stream",
     "text": [
      "[*********************100%%**********************]  1 of 1 completed\n",
      "[*********************100%%**********************]  1 of 1 completed"
     ]
    },
    {
     "name": "stdout",
     "output_type": "stream",
     "text": [
      "Data for  SHARDAMOTR.NS saved to C:\\Users\\anind\\Desktop\\Indiana University Bloomington\\Semester 2\\I606 Network Science\\Project\\Data\\rerunning\\Project_Auto_and_Finance_Sector_250424\\Financial_Data\\ SHARDAMOTR.NS_data.xlsx\n",
      "Downloading data for  SHIVAMAUTO.NS\n"
     ]
    },
    {
     "name": "stderr",
     "output_type": "stream",
     "text": [
      "\n",
      "[*********************100%%**********************]  1 of 1 completed"
     ]
    },
    {
     "name": "stdout",
     "output_type": "stream",
     "text": [
      "Data for  SHIVAMAUTO.NS saved to C:\\Users\\anind\\Desktop\\Indiana University Bloomington\\Semester 2\\I606 Network Science\\Project\\Data\\rerunning\\Project_Auto_and_Finance_Sector_250424\\Financial_Data\\ SHIVAMAUTO.NS_data.xlsx\n",
      "Downloading data for  SHRIPISTON.NS\n",
      "Data for  SHRIPISTON.NS saved to C:\\Users\\anind\\Desktop\\Indiana University Bloomington\\Semester 2\\I606 Network Science\\Project\\Data\\rerunning\\Project_Auto_and_Finance_Sector_250424\\Financial_Data\\ SHRIPISTON.NS_data.xlsx\n",
      "Downloading data for  SINTERCOM.NS\n"
     ]
    },
    {
     "name": "stderr",
     "output_type": "stream",
     "text": [
      "\n",
      "[*********************100%%**********************]  1 of 1 completed\n",
      "[*********************100%%**********************]  1 of 1 completed"
     ]
    },
    {
     "name": "stdout",
     "output_type": "stream",
     "text": [
      "Data for  SINTERCOM.NS saved to C:\\Users\\anind\\Desktop\\Indiana University Bloomington\\Semester 2\\I606 Network Science\\Project\\Data\\rerunning\\Project_Auto_and_Finance_Sector_250424\\Financial_Data\\ SINTERCOM.NS_data.xlsx\n",
      "Downloading data for  SONACOMS.NS\n"
     ]
    },
    {
     "name": "stderr",
     "output_type": "stream",
     "text": [
      "\n",
      "[*********************100%%**********************]  1 of 1 completed"
     ]
    },
    {
     "name": "stdout",
     "output_type": "stream",
     "text": [
      "Data for  SONACOMS.NS saved to C:\\Users\\anind\\Desktop\\Indiana University Bloomington\\Semester 2\\I606 Network Science\\Project\\Data\\rerunning\\Project_Auto_and_Finance_Sector_250424\\Financial_Data\\ SONACOMS.NS_data.xlsx\n",
      "Downloading data for  SSWL.NS\n"
     ]
    },
    {
     "name": "stderr",
     "output_type": "stream",
     "text": [
      "\n",
      "[*********************100%%**********************]  1 of 1 completed"
     ]
    },
    {
     "name": "stdout",
     "output_type": "stream",
     "text": [
      "Data for  SSWL.NS saved to C:\\Users\\anind\\Desktop\\Indiana University Bloomington\\Semester 2\\I606 Network Science\\Project\\Data\\rerunning\\Project_Auto_and_Finance_Sector_250424\\Financial_Data\\ SSWL.NS_data.xlsx\n",
      "Downloading data for  SUBROS.NS\n"
     ]
    },
    {
     "name": "stderr",
     "output_type": "stream",
     "text": [
      "\n",
      "[*********************100%%**********************]  1 of 1 completed"
     ]
    },
    {
     "name": "stdout",
     "output_type": "stream",
     "text": [
      "Data for  SUBROS.NS saved to C:\\Users\\anind\\Desktop\\Indiana University Bloomington\\Semester 2\\I606 Network Science\\Project\\Data\\rerunning\\Project_Auto_and_Finance_Sector_250424\\Financial_Data\\ SUBROS.NS_data.xlsx\n",
      "Downloading data for  SUNDRMBRAK.NS\n"
     ]
    },
    {
     "name": "stderr",
     "output_type": "stream",
     "text": [
      "\n",
      "[*********************100%%**********************]  1 of 1 completed"
     ]
    },
    {
     "name": "stdout",
     "output_type": "stream",
     "text": [
      "Data for  SUNDRMBRAK.NS saved to C:\\Users\\anind\\Desktop\\Indiana University Bloomington\\Semester 2\\I606 Network Science\\Project\\Data\\rerunning\\Project_Auto_and_Finance_Sector_250424\\Financial_Data\\ SUNDRMBRAK.NS_data.xlsx\n",
      "Downloading data for  SUNDRMFAST.NS\n"
     ]
    },
    {
     "name": "stderr",
     "output_type": "stream",
     "text": [
      "\n",
      "[*********************100%%**********************]  1 of 1 completed"
     ]
    },
    {
     "name": "stdout",
     "output_type": "stream",
     "text": [
      "Data for  SUNDRMFAST.NS saved to C:\\Users\\anind\\Desktop\\Indiana University Bloomington\\Semester 2\\I606 Network Science\\Project\\Data\\rerunning\\Project_Auto_and_Finance_Sector_250424\\Financial_Data\\ SUNDRMFAST.NS_data.xlsx\n",
      "Downloading data for  SUPRAJIT.NS\n"
     ]
    },
    {
     "name": "stderr",
     "output_type": "stream",
     "text": [
      "\n",
      "[*********************100%%**********************]  1 of 1 completed"
     ]
    },
    {
     "name": "stdout",
     "output_type": "stream",
     "text": [
      "Data for  SUPRAJIT.NS saved to C:\\Users\\anind\\Desktop\\Indiana University Bloomington\\Semester 2\\I606 Network Science\\Project\\Data\\rerunning\\Project_Auto_and_Finance_Sector_250424\\Financial_Data\\ SUPRAJIT.NS_data.xlsx\n",
      "Downloading data for  SWARAJENG.NS\n"
     ]
    },
    {
     "name": "stderr",
     "output_type": "stream",
     "text": [
      "\n",
      "[*********************100%%**********************]  1 of 1 completed"
     ]
    },
    {
     "name": "stdout",
     "output_type": "stream",
     "text": [
      "Data for  SWARAJENG.NS saved to C:\\Users\\anind\\Desktop\\Indiana University Bloomington\\Semester 2\\I606 Network Science\\Project\\Data\\rerunning\\Project_Auto_and_Finance_Sector_250424\\Financial_Data\\ SWARAJENG.NS_data.xlsx\n",
      "Downloading data for  TVSHLTD.NS\n",
      "Data for  TVSHLTD.NS saved to C:\\Users\\anind\\Desktop\\Indiana University Bloomington\\Semester 2\\I606 Network Science\\Project\\Data\\rerunning\\Project_Auto_and_Finance_Sector_250424\\Financial_Data\\ TVSHLTD.NS_data.xlsx\n",
      "Downloading data for  TALBROAUTO.NS\n"
     ]
    },
    {
     "name": "stderr",
     "output_type": "stream",
     "text": [
      "\n",
      "[*********************100%%**********************]  1 of 1 completed\n",
      "[*********************100%%**********************]  1 of 1 completed"
     ]
    },
    {
     "name": "stdout",
     "output_type": "stream",
     "text": [
      "Data for  TALBROAUTO.NS saved to C:\\Users\\anind\\Desktop\\Indiana University Bloomington\\Semester 2\\I606 Network Science\\Project\\Data\\rerunning\\Project_Auto_and_Finance_Sector_250424\\Financial_Data\\ TALBROAUTO.NS_data.xlsx\n",
      "Downloading data for  HITECHGEAR.NS\n"
     ]
    },
    {
     "name": "stderr",
     "output_type": "stream",
     "text": [
      "\n",
      "[*********************100%%**********************]  1 of 1 completed"
     ]
    },
    {
     "name": "stdout",
     "output_type": "stream",
     "text": [
      "Data for  HITECHGEAR.NS saved to C:\\Users\\anind\\Desktop\\Indiana University Bloomington\\Semester 2\\I606 Network Science\\Project\\Data\\rerunning\\Project_Auto_and_Finance_Sector_250424\\Financial_Data\\ HITECHGEAR.NS_data.xlsx\n",
      "Downloading data for  TIINDIA.NS\n",
      "Data for  TIINDIA.NS saved to C:\\Users\\anind\\Desktop\\Indiana University Bloomington\\Semester 2\\I606 Network Science\\Project\\Data\\rerunning\\Project_Auto_and_Finance_Sector_250424\\Financial_Data\\ TIINDIA.NS_data.xlsx\n",
      "Downloading data for  UCAL.NS\n"
     ]
    },
    {
     "name": "stderr",
     "output_type": "stream",
     "text": [
      "\n",
      "[*********************100%%**********************]  1 of 1 completed\n"
     ]
    },
    {
     "name": "stdout",
     "output_type": "stream",
     "text": [
      "Data for  UCAL.NS saved to C:\\Users\\anind\\Desktop\\Indiana University Bloomington\\Semester 2\\I606 Network Science\\Project\\Data\\rerunning\\Project_Auto_and_Finance_Sector_250424\\Financial_Data\\ UCAL.NS_data.xlsx\n",
      "Downloading data for  UNOMINDA.NS\n"
     ]
    },
    {
     "name": "stderr",
     "output_type": "stream",
     "text": [
      "[*********************100%%**********************]  1 of 1 completed\n",
      "[*********************100%%**********************]  1 of 1 completed"
     ]
    },
    {
     "name": "stdout",
     "output_type": "stream",
     "text": [
      "Data for  UNOMINDA.NS saved to C:\\Users\\anind\\Desktop\\Indiana University Bloomington\\Semester 2\\I606 Network Science\\Project\\Data\\rerunning\\Project_Auto_and_Finance_Sector_250424\\Financial_Data\\ UNOMINDA.NS_data.xlsx\n",
      "Downloading data for  URAVI.NS\n"
     ]
    },
    {
     "name": "stderr",
     "output_type": "stream",
     "text": [
      "\n",
      "[*********************100%%**********************]  1 of 1 completed\n"
     ]
    },
    {
     "name": "stdout",
     "output_type": "stream",
     "text": [
      "Data for  URAVI.NS saved to C:\\Users\\anind\\Desktop\\Indiana University Bloomington\\Semester 2\\I606 Network Science\\Project\\Data\\rerunning\\Project_Auto_and_Finance_Sector_250424\\Financial_Data\\ URAVI.NS_data.xlsx\n",
      "Downloading data for  VARROC.NS\n",
      "Data for  VARROC.NS saved to C:\\Users\\anind\\Desktop\\Indiana University Bloomington\\Semester 2\\I606 Network Science\\Project\\Data\\rerunning\\Project_Auto_and_Finance_Sector_250424\\Financial_Data\\ VARROC.NS_data.xlsx\n",
      "Downloading data for  WHEELS.NS\n"
     ]
    },
    {
     "name": "stderr",
     "output_type": "stream",
     "text": [
      "[*********************100%%**********************]  1 of 1 completed\n"
     ]
    },
    {
     "name": "stdout",
     "output_type": "stream",
     "text": [
      "Data for  WHEELS.NS saved to C:\\Users\\anind\\Desktop\\Indiana University Bloomington\\Semester 2\\I606 Network Science\\Project\\Data\\rerunning\\Project_Auto_and_Finance_Sector_250424\\Financial_Data\\ WHEELS.NS_data.xlsx\n",
      "Downloading data for  ZFCVINDIA.NS\n"
     ]
    },
    {
     "name": "stderr",
     "output_type": "stream",
     "text": [
      "[*********************100%%**********************]  1 of 1 completed\n",
      "[*********************100%%**********************]  1 of 1 completed\n"
     ]
    },
    {
     "name": "stdout",
     "output_type": "stream",
     "text": [
      "Data for  ZFCVINDIA.NS saved to C:\\Users\\anind\\Desktop\\Indiana University Bloomington\\Semester 2\\I606 Network Science\\Project\\Data\\rerunning\\Project_Auto_and_Finance_Sector_250424\\Financial_Data\\ ZFCVINDIA.NS_data.xlsx\n",
      "Processing file: C:\\Users\\anind\\Desktop\\Indiana University Bloomington\\Semester 2\\I606 Network Science\\Project\\Data\\rerunning\\Project_Auto_and_Finance_Sector_250424\\Auto___2___3_Wheelers.xlsx\n",
      "Downloading data for  ATULAUTO.NS\n",
      "Data for  ATULAUTO.NS saved to C:\\Users\\anind\\Desktop\\Indiana University Bloomington\\Semester 2\\I606 Network Science\\Project\\Data\\rerunning\\Project_Auto_and_Finance_Sector_250424\\Financial_Data\\ ATULAUTO.NS_data.xlsx\n",
      "Downloading data for  BAJAJ-AUTO.NS\n"
     ]
    },
    {
     "name": "stderr",
     "output_type": "stream",
     "text": [
      "[*********************100%%**********************]  1 of 1 completed\n",
      "[*********************100%%**********************]  1 of 1 completed"
     ]
    },
    {
     "name": "stdout",
     "output_type": "stream",
     "text": [
      "Data for  BAJAJ-AUTO.NS saved to C:\\Users\\anind\\Desktop\\Indiana University Bloomington\\Semester 2\\I606 Network Science\\Project\\Data\\rerunning\\Project_Auto_and_Finance_Sector_250424\\Financial_Data\\ BAJAJ-AUTO.NS_data.xlsx\n",
      "Downloading data for  HEROMOTOCO.NS\n",
      "Data for  HEROMOTOCO.NS saved to C:\\Users\\anind\\Desktop\\Indiana University Bloomington\\Semester 2\\I606 Network Science\\Project\\Data\\rerunning\\Project_Auto_and_Finance_Sector_250424\\Financial_Data\\ HEROMOTOCO.NS_data.xlsx\n",
      "Downloading data for  MAHSCOOTER.NS\n"
     ]
    },
    {
     "name": "stderr",
     "output_type": "stream",
     "text": [
      "\n",
      "[*********************100%%**********************]  1 of 1 completed\n"
     ]
    },
    {
     "name": "stdout",
     "output_type": "stream",
     "text": [
      "Data for  MAHSCOOTER.NS saved to C:\\Users\\anind\\Desktop\\Indiana University Bloomington\\Semester 2\\I606 Network Science\\Project\\Data\\rerunning\\Project_Auto_and_Finance_Sector_250424\\Financial_Data\\ MAHSCOOTER.NS_data.xlsx\n",
      "Downloading data for  TVSMOTOR.NS\n"
     ]
    },
    {
     "name": "stderr",
     "output_type": "stream",
     "text": [
      "[*********************100%%**********************]  1 of 1 completed\n",
      "[*********************100%%**********************]  1 of 1 completed"
     ]
    },
    {
     "name": "stdout",
     "output_type": "stream",
     "text": [
      "Data for  TVSMOTOR.NS saved to C:\\Users\\anind\\Desktop\\Indiana University Bloomington\\Semester 2\\I606 Network Science\\Project\\Data\\rerunning\\Project_Auto_and_Finance_Sector_250424\\Financial_Data\\ TVSMOTOR.NS_data.xlsx\n",
      "Processing file: C:\\Users\\anind\\Desktop\\Indiana University Bloomington\\Semester 2\\I606 Network Science\\Project\\Data\\rerunning\\Project_Auto_and_Finance_Sector_250424\\Auto___4w.xlsx\n",
      "Downloading data for  ASHOKLEY.NS\n",
      "Data for  ASHOKLEY.NS saved to C:\\Users\\anind\\Desktop\\Indiana University Bloomington\\Semester 2\\I606 Network Science\\Project\\Data\\rerunning\\Project_Auto_and_Finance_Sector_250424\\Financial_Data\\ ASHOKLEY.NS_data.xlsx\n",
      "Downloading data for  EICHERMOT.NS\n"
     ]
    },
    {
     "name": "stderr",
     "output_type": "stream",
     "text": [
      "\n",
      "[*********************100%%**********************]  1 of 1 completed\n",
      "[*********************100%%**********************]  1 of 1 completed"
     ]
    },
    {
     "name": "stdout",
     "output_type": "stream",
     "text": [
      "Data for  EICHERMOT.NS saved to C:\\Users\\anind\\Desktop\\Indiana University Bloomington\\Semester 2\\I606 Network Science\\Project\\Data\\rerunning\\Project_Auto_and_Finance_Sector_250424\\Financial_Data\\ EICHERMOT.NS_data.xlsx\n",
      "Downloading data for  ESCORTS.NS\n",
      "Data for  ESCORTS.NS saved to C:\\Users\\anind\\Desktop\\Indiana University Bloomington\\Semester 2\\I606 Network Science\\Project\\Data\\rerunning\\Project_Auto_and_Finance_Sector_250424\\Financial_Data\\ ESCORTS.NS_data.xlsx\n",
      "Downloading data for  FORCEMOT.NS\n"
     ]
    },
    {
     "name": "stderr",
     "output_type": "stream",
     "text": [
      "\n",
      "[*********************100%%**********************]  1 of 1 completed\n",
      "[*********************100%%**********************]  1 of 1 completed"
     ]
    },
    {
     "name": "stdout",
     "output_type": "stream",
     "text": [
      "Data for  FORCEMOT.NS saved to C:\\Users\\anind\\Desktop\\Indiana University Bloomington\\Semester 2\\I606 Network Science\\Project\\Data\\rerunning\\Project_Auto_and_Finance_Sector_250424\\Financial_Data\\ FORCEMOT.NS_data.xlsx\n",
      "Downloading data for  HINDMOTORS.NS\n"
     ]
    },
    {
     "name": "stderr",
     "output_type": "stream",
     "text": [
      "\n",
      "[*********************100%%**********************]  1 of 1 completed"
     ]
    },
    {
     "name": "stdout",
     "output_type": "stream",
     "text": [
      "Data for  HINDMOTORS.NS saved to C:\\Users\\anind\\Desktop\\Indiana University Bloomington\\Semester 2\\I606 Network Science\\Project\\Data\\rerunning\\Project_Auto_and_Finance_Sector_250424\\Financial_Data\\ HINDMOTORS.NS_data.xlsx\n",
      "Downloading data for  M&M.NS\n"
     ]
    },
    {
     "name": "stderr",
     "output_type": "stream",
     "text": [
      "\n",
      "[*********************100%%**********************]  1 of 1 completed"
     ]
    },
    {
     "name": "stdout",
     "output_type": "stream",
     "text": [
      "Data for  M&M.NS saved to C:\\Users\\anind\\Desktop\\Indiana University Bloomington\\Semester 2\\I606 Network Science\\Project\\Data\\rerunning\\Project_Auto_and_Finance_Sector_250424\\Financial_Data\\ M&M.NS_data.xlsx\n",
      "Downloading data for  MARUTI.NS\n",
      "Data for  MARUTI.NS saved to C:\\Users\\anind\\Desktop\\Indiana University Bloomington\\Semester 2\\I606 Network Science\\Project\\Data\\rerunning\\Project_Auto_and_Finance_Sector_250424\\Financial_Data\\ MARUTI.NS_data.xlsx\n",
      "Downloading data for  SMLISUZU.NS\n"
     ]
    },
    {
     "name": "stderr",
     "output_type": "stream",
     "text": [
      "\n",
      "[*********************100%%**********************]  1 of 1 completed\n",
      "[*********************100%%**********************]  1 of 1 completed"
     ]
    },
    {
     "name": "stdout",
     "output_type": "stream",
     "text": [
      "Data for  SMLISUZU.NS saved to C:\\Users\\anind\\Desktop\\Indiana University Bloomington\\Semester 2\\I606 Network Science\\Project\\Data\\rerunning\\Project_Auto_and_Finance_Sector_250424\\Financial_Data\\ SMLISUZU.NS_data.xlsx\n",
      "Downloading data for  TATAMOTORS.NS\n",
      "Data for  TATAMOTORS.NS saved to C:\\Users\\anind\\Desktop\\Indiana University Bloomington\\Semester 2\\I606 Network Science\\Project\\Data\\rerunning\\Project_Auto_and_Finance_Sector_250424\\Financial_Data\\ TATAMOTORS.NS_data.xlsx\n",
      "Downloading data for  VSTTILLERS.NS\n"
     ]
    },
    {
     "name": "stderr",
     "output_type": "stream",
     "text": [
      "\n",
      "[*********************100%%**********************]  1 of 1 completed\n",
      "[*********************100%%**********************]  1 of 1 completed"
     ]
    },
    {
     "name": "stdout",
     "output_type": "stream",
     "text": [
      "Data for  VSTTILLERS.NS saved to C:\\Users\\anind\\Desktop\\Indiana University Bloomington\\Semester 2\\I606 Network Science\\Project\\Data\\rerunning\\Project_Auto_and_Finance_Sector_250424\\Financial_Data\\ VSTTILLERS.NS_data.xlsx\n",
      "Processing file: C:\\Users\\anind\\Desktop\\Indiana University Bloomington\\Semester 2\\I606 Network Science\\Project\\Data\\rerunning\\Project_Auto_and_Finance_Sector_250424\\Banks.xlsx\n",
      "Downloading data for  AUBANK.NS\n"
     ]
    },
    {
     "name": "stderr",
     "output_type": "stream",
     "text": [
      "\n",
      "[*********************100%%**********************]  1 of 1 completed\n"
     ]
    },
    {
     "name": "stdout",
     "output_type": "stream",
     "text": [
      "Data for  AUBANK.NS saved to C:\\Users\\anind\\Desktop\\Indiana University Bloomington\\Semester 2\\I606 Network Science\\Project\\Data\\rerunning\\Project_Auto_and_Finance_Sector_250424\\Financial_Data\\ AUBANK.NS_data.xlsx\n",
      "Downloading data for  AXISBANK.NS\n"
     ]
    },
    {
     "name": "stderr",
     "output_type": "stream",
     "text": [
      "[*********************100%%**********************]  1 of 1 completed"
     ]
    },
    {
     "name": "stdout",
     "output_type": "stream",
     "text": [
      "Data for  AXISBANK.NS saved to C:\\Users\\anind\\Desktop\\Indiana University Bloomington\\Semester 2\\I606 Network Science\\Project\\Data\\rerunning\\Project_Auto_and_Finance_Sector_250424\\Financial_Data\\ AXISBANK.NS_data.xlsx\n",
      "Downloading data for  BANDHANBNK.NS\n"
     ]
    },
    {
     "name": "stderr",
     "output_type": "stream",
     "text": [
      "\n"
     ]
    },
    {
     "name": "stdout",
     "output_type": "stream",
     "text": [
      "Data for  BANDHANBNK.NS saved to C:\\Users\\anind\\Desktop\\Indiana University Bloomington\\Semester 2\\I606 Network Science\\Project\\Data\\rerunning\\Project_Auto_and_Finance_Sector_250424\\Financial_Data\\ BANDHANBNK.NS_data.xlsx\n",
      "Downloading data for Unknown.NS\n"
     ]
    },
    {
     "name": "stderr",
     "output_type": "stream",
     "text": [
      "[*********************100%%**********************]  1 of 1 completed\n",
      "\n",
      "1 Failed download:\n",
      "['UNKNOWN.NS']: Exception('%ticker%: No timezone found, symbol may be delisted')\n",
      "[*********************100%%**********************]  1 of 1 completed\n"
     ]
    },
    {
     "name": "stdout",
     "output_type": "stream",
     "text": [
      "No data found for Unknown.NS\n",
      "Downloading data for  CSBBANK.NS\n",
      "Data for  CSBBANK.NS saved to C:\\Users\\anind\\Desktop\\Indiana University Bloomington\\Semester 2\\I606 Network Science\\Project\\Data\\rerunning\\Project_Auto_and_Finance_Sector_250424\\Financial_Data\\ CSBBANK.NS_data.xlsx\n",
      "Downloading data for  CAPITALSFB.NS\n"
     ]
    },
    {
     "name": "stderr",
     "output_type": "stream",
     "text": [
      "[*********************100%%**********************]  1 of 1 completed\n",
      "\n",
      "1 Failed download:\n",
      "['CAPITALSFB.NS']: Exception(\"%ticker%: Data doesn't exist for startDate = 1609439400, endDate = 1703961000\")\n",
      "[*********************100%%**********************]  1 of 1 completed\n"
     ]
    },
    {
     "name": "stdout",
     "output_type": "stream",
     "text": [
      "No data found for  CAPITALSFB.NS\n",
      "Downloading data for  CUB.NS\n",
      "Data for  CUB.NS saved to C:\\Users\\anind\\Desktop\\Indiana University Bloomington\\Semester 2\\I606 Network Science\\Project\\Data\\rerunning\\Project_Auto_and_Finance_Sector_250424\\Financial_Data\\ CUB.NS_data.xlsx\n",
      "Downloading data for  DCBBANK.NS\n"
     ]
    },
    {
     "name": "stderr",
     "output_type": "stream",
     "text": [
      "[*********************100%%**********************]  1 of 1 completed\n",
      "[*********************100%%**********************]  1 of 1 completed"
     ]
    },
    {
     "name": "stdout",
     "output_type": "stream",
     "text": [
      "Data for  DCBBANK.NS saved to C:\\Users\\anind\\Desktop\\Indiana University Bloomington\\Semester 2\\I606 Network Science\\Project\\Data\\rerunning\\Project_Auto_and_Finance_Sector_250424\\Financial_Data\\ DCBBANK.NS_data.xlsx\n",
      "Downloading data for  DHANBANK.NS\n",
      "Data for  DHANBANK.NS saved to C:\\Users\\anind\\Desktop\\Indiana University Bloomington\\Semester 2\\I606 Network Science\\Project\\Data\\rerunning\\Project_Auto_and_Finance_Sector_250424\\Financial_Data\\ DHANBANK.NS_data.xlsx\n",
      "Downloading data for  ESAFSFB.NS\n"
     ]
    },
    {
     "name": "stderr",
     "output_type": "stream",
     "text": [
      "\n",
      "[*********************100%%**********************]  1 of 1 completed\n",
      "[*********************100%%**********************]  1 of 1 completed\n"
     ]
    },
    {
     "name": "stdout",
     "output_type": "stream",
     "text": [
      "Data for  ESAFSFB.NS saved to C:\\Users\\anind\\Desktop\\Indiana University Bloomington\\Semester 2\\I606 Network Science\\Project\\Data\\rerunning\\Project_Auto_and_Finance_Sector_250424\\Financial_Data\\ ESAFSFB.NS_data.xlsx\n",
      "Downloading data for  EQUITASBNK.NS\n",
      "Data for  EQUITASBNK.NS saved to C:\\Users\\anind\\Desktop\\Indiana University Bloomington\\Semester 2\\I606 Network Science\\Project\\Data\\rerunning\\Project_Auto_and_Finance_Sector_250424\\Financial_Data\\ EQUITASBNK.NS_data.xlsx\n",
      "Downloading data for  FEDERALBNK.NS\n"
     ]
    },
    {
     "name": "stderr",
     "output_type": "stream",
     "text": [
      "[*********************100%%**********************]  1 of 1 completed\n",
      "[*********************100%%**********************]  1 of 1 completed"
     ]
    },
    {
     "name": "stdout",
     "output_type": "stream",
     "text": [
      "Data for  FEDERALBNK.NS saved to C:\\Users\\anind\\Desktop\\Indiana University Bloomington\\Semester 2\\I606 Network Science\\Project\\Data\\rerunning\\Project_Auto_and_Finance_Sector_250424\\Financial_Data\\ FEDERALBNK.NS_data.xlsx\n",
      "Downloading data for  FINOPB.NS\n",
      "Data for  FINOPB.NS saved to C:\\Users\\anind\\Desktop\\Indiana University Bloomington\\Semester 2\\I606 Network Science\\Project\\Data\\rerunning\\Project_Auto_and_Finance_Sector_250424\\Financial_Data\\ FINOPB.NS_data.xlsx\n",
      "Downloading data for  HDFCBANK.NS\n"
     ]
    },
    {
     "name": "stderr",
     "output_type": "stream",
     "text": [
      "\n",
      "[*********************100%%**********************]  1 of 1 completed\n",
      "[*********************100%%**********************]  1 of 1 completed"
     ]
    },
    {
     "name": "stdout",
     "output_type": "stream",
     "text": [
      "Data for  HDFCBANK.NS saved to C:\\Users\\anind\\Desktop\\Indiana University Bloomington\\Semester 2\\I606 Network Science\\Project\\Data\\rerunning\\Project_Auto_and_Finance_Sector_250424\\Financial_Data\\ HDFCBANK.NS_data.xlsx\n",
      "Downloading data for  ICICIBANK.NS\n"
     ]
    },
    {
     "name": "stderr",
     "output_type": "stream",
     "text": [
      "\n",
      "[*********************100%%**********************]  1 of 1 completed"
     ]
    },
    {
     "name": "stdout",
     "output_type": "stream",
     "text": [
      "Data for  ICICIBANK.NS saved to C:\\Users\\anind\\Desktop\\Indiana University Bloomington\\Semester 2\\I606 Network Science\\Project\\Data\\rerunning\\Project_Auto_and_Finance_Sector_250424\\Financial_Data\\ ICICIBANK.NS_data.xlsx\n",
      "Downloading data for  IDBI.NS\n",
      "Data for  IDBI.NS saved to C:\\Users\\anind\\Desktop\\Indiana University Bloomington\\Semester 2\\I606 Network Science\\Project\\Data\\rerunning\\Project_Auto_and_Finance_Sector_250424\\Financial_Data\\ IDBI.NS_data.xlsx\n",
      "Downloading data for  IDFCFIRSTB.NS\n"
     ]
    },
    {
     "name": "stderr",
     "output_type": "stream",
     "text": [
      "\n",
      "[*********************100%%**********************]  1 of 1 completed\n",
      "[*********************100%%**********************]  1 of 1 completed"
     ]
    },
    {
     "name": "stdout",
     "output_type": "stream",
     "text": [
      "Data for  IDFCFIRSTB.NS saved to C:\\Users\\anind\\Desktop\\Indiana University Bloomington\\Semester 2\\I606 Network Science\\Project\\Data\\rerunning\\Project_Auto_and_Finance_Sector_250424\\Financial_Data\\ IDFCFIRSTB.NS_data.xlsx\n",
      "Downloading data for  INDUSINDBK.NS\n"
     ]
    },
    {
     "name": "stderr",
     "output_type": "stream",
     "text": [
      "\n"
     ]
    },
    {
     "name": "stdout",
     "output_type": "stream",
     "text": [
      "Data for  INDUSINDBK.NS saved to C:\\Users\\anind\\Desktop\\Indiana University Bloomington\\Semester 2\\I606 Network Science\\Project\\Data\\rerunning\\Project_Auto_and_Finance_Sector_250424\\Financial_Data\\ INDUSINDBK.NS_data.xlsx\n",
      "Downloading data for  J&KBANK.NS\n"
     ]
    },
    {
     "name": "stderr",
     "output_type": "stream",
     "text": [
      "[*********************100%%**********************]  1 of 1 completed\n"
     ]
    },
    {
     "name": "stdout",
     "output_type": "stream",
     "text": [
      "Data for  J&KBANK.NS saved to C:\\Users\\anind\\Desktop\\Indiana University Bloomington\\Semester 2\\I606 Network Science\\Project\\Data\\rerunning\\Project_Auto_and_Finance_Sector_250424\\Financial_Data\\ J&KBANK.NS_data.xlsx\n",
      "Downloading data for  JSFB.NS\n"
     ]
    },
    {
     "name": "stderr",
     "output_type": "stream",
     "text": [
      "[*********************100%%**********************]  1 of 1 completed\n",
      "\n",
      "1 Failed download:\n",
      "['JSFB.NS']: Exception(\"%ticker%: Data doesn't exist for startDate = 1609439400, endDate = 1703961000\")\n"
     ]
    },
    {
     "name": "stdout",
     "output_type": "stream",
     "text": [
      "No data found for  JSFB.NS\n",
      "Downloading data for  KTKBANK.NS\n"
     ]
    },
    {
     "name": "stderr",
     "output_type": "stream",
     "text": [
      "[*********************100%%**********************]  1 of 1 completed\n",
      "[*********************100%%**********************]  1 of 1 completed"
     ]
    },
    {
     "name": "stdout",
     "output_type": "stream",
     "text": [
      "Data for  KTKBANK.NS saved to C:\\Users\\anind\\Desktop\\Indiana University Bloomington\\Semester 2\\I606 Network Science\\Project\\Data\\rerunning\\Project_Auto_and_Finance_Sector_250424\\Financial_Data\\ KTKBANK.NS_data.xlsx\n",
      "Downloading data for  KARURVYSYA.NS\n",
      "Data for  KARURVYSYA.NS saved to C:\\Users\\anind\\Desktop\\Indiana University Bloomington\\Semester 2\\I606 Network Science\\Project\\Data\\rerunning\\Project_Auto_and_Finance_Sector_250424\\Financial_Data\\ KARURVYSYA.NS_data.xlsx\n",
      "Downloading data for  KOTAKBANK.NS\n"
     ]
    },
    {
     "name": "stderr",
     "output_type": "stream",
     "text": [
      "\n",
      "[*********************100%%**********************]  1 of 1 completed\n"
     ]
    },
    {
     "name": "stdout",
     "output_type": "stream",
     "text": [
      "Data for  KOTAKBANK.NS saved to C:\\Users\\anind\\Desktop\\Indiana University Bloomington\\Semester 2\\I606 Network Science\\Project\\Data\\rerunning\\Project_Auto_and_Finance_Sector_250424\\Financial_Data\\ KOTAKBANK.NS_data.xlsx\n",
      "Downloading data for  RBLBANK.NS\n"
     ]
    },
    {
     "name": "stderr",
     "output_type": "stream",
     "text": [
      "[*********************100%%**********************]  1 of 1 completed\n",
      "[*********************100%%**********************]  1 of 1 completed"
     ]
    },
    {
     "name": "stdout",
     "output_type": "stream",
     "text": [
      "Data for  RBLBANK.NS saved to C:\\Users\\anind\\Desktop\\Indiana University Bloomington\\Semester 2\\I606 Network Science\\Project\\Data\\rerunning\\Project_Auto_and_Finance_Sector_250424\\Financial_Data\\ RBLBANK.NS_data.xlsx\n",
      "Downloading data for  SOUTHBANK.NS\n"
     ]
    },
    {
     "name": "stderr",
     "output_type": "stream",
     "text": [
      "\n",
      "[*********************100%%**********************]  1 of 1 completed"
     ]
    },
    {
     "name": "stdout",
     "output_type": "stream",
     "text": [
      "Data for  SOUTHBANK.NS saved to C:\\Users\\anind\\Desktop\\Indiana University Bloomington\\Semester 2\\I606 Network Science\\Project\\Data\\rerunning\\Project_Auto_and_Finance_Sector_250424\\Financial_Data\\ SOUTHBANK.NS_data.xlsx\n",
      "Downloading data for  SURYODAY.NS\n",
      "Data for  SURYODAY.NS saved to C:\\Users\\anind\\Desktop\\Indiana University Bloomington\\Semester 2\\I606 Network Science\\Project\\Data\\rerunning\\Project_Auto_and_Finance_Sector_250424\\Financial_Data\\ SURYODAY.NS_data.xlsx\n",
      "Downloading data for  TMB.NS\n"
     ]
    },
    {
     "name": "stderr",
     "output_type": "stream",
     "text": [
      "\n",
      "[*********************100%%**********************]  1 of 1 completed\n",
      "[*********************100%%**********************]  1 of 1 completed\n"
     ]
    },
    {
     "name": "stdout",
     "output_type": "stream",
     "text": [
      "Data for  TMB.NS saved to C:\\Users\\anind\\Desktop\\Indiana University Bloomington\\Semester 2\\I606 Network Science\\Project\\Data\\rerunning\\Project_Auto_and_Finance_Sector_250424\\Financial_Data\\ TMB.NS_data.xlsx\n",
      "Downloading data for  UJJIVANSFB.NS\n",
      "Data for  UJJIVANSFB.NS saved to C:\\Users\\anind\\Desktop\\Indiana University Bloomington\\Semester 2\\I606 Network Science\\Project\\Data\\rerunning\\Project_Auto_and_Finance_Sector_250424\\Financial_Data\\ UJJIVANSFB.NS_data.xlsx\n",
      "Downloading data for  UTKARSHBNK.NS\n"
     ]
    },
    {
     "name": "stderr",
     "output_type": "stream",
     "text": [
      "[*********************100%%**********************]  1 of 1 completed\n",
      "[*********************100%%**********************]  1 of 1 completed"
     ]
    },
    {
     "name": "stdout",
     "output_type": "stream",
     "text": [
      "Data for  UTKARSHBNK.NS saved to C:\\Users\\anind\\Desktop\\Indiana University Bloomington\\Semester 2\\I606 Network Science\\Project\\Data\\rerunning\\Project_Auto_and_Finance_Sector_250424\\Financial_Data\\ UTKARSHBNK.NS_data.xlsx\n",
      "Downloading data for  YESBANK.NS\n"
     ]
    },
    {
     "name": "stderr",
     "output_type": "stream",
     "text": [
      "\n",
      "[*********************100%%**********************]  1 of 1 completed"
     ]
    },
    {
     "name": "stdout",
     "output_type": "stream",
     "text": [
      "Data for  YESBANK.NS saved to C:\\Users\\anind\\Desktop\\Indiana University Bloomington\\Semester 2\\I606 Network Science\\Project\\Data\\rerunning\\Project_Auto_and_Finance_Sector_250424\\Financial_Data\\ YESBANK.NS_data.xlsx\n",
      "Processing file: C:\\Users\\anind\\Desktop\\Indiana University Bloomington\\Semester 2\\I606 Network Science\\Project\\Data\\rerunning\\Project_Auto_and_Finance_Sector_250424\\Batteries.xlsx\n",
      "Downloading data for  ARE&M.NS\n",
      "Data for  ARE&M.NS saved to C:\\Users\\anind\\Desktop\\Indiana University Bloomington\\Semester 2\\I606 Network Science\\Project\\Data\\rerunning\\Project_Auto_and_Finance_Sector_250424\\Financial_Data\\ ARE&M.NS_data.xlsx\n",
      "Downloading data for  EVEREADY.NS\n"
     ]
    },
    {
     "name": "stderr",
     "output_type": "stream",
     "text": [
      "\n",
      "[*********************100%%**********************]  1 of 1 completed\n",
      "[*********************100%%**********************]  1 of 1 completed"
     ]
    },
    {
     "name": "stdout",
     "output_type": "stream",
     "text": [
      "Data for  EVEREADY.NS saved to C:\\Users\\anind\\Desktop\\Indiana University Bloomington\\Semester 2\\I606 Network Science\\Project\\Data\\rerunning\\Project_Auto_and_Finance_Sector_250424\\Financial_Data\\ EVEREADY.NS_data.xlsx\n",
      "Downloading data for  EXIDEIND.NS\n",
      "Data for  EXIDEIND.NS saved to C:\\Users\\anind\\Desktop\\Indiana University Bloomington\\Semester 2\\I606 Network Science\\Project\\Data\\rerunning\\Project_Auto_and_Finance_Sector_250424\\Financial_Data\\ EXIDEIND.NS_data.xlsx\n",
      "Downloading data for  HBLPOWER.NS\n"
     ]
    },
    {
     "name": "stderr",
     "output_type": "stream",
     "text": [
      "\n",
      "[*********************100%%**********************]  1 of 1 completed\n",
      "[*********************100%%**********************]  1 of 1 completed"
     ]
    },
    {
     "name": "stdout",
     "output_type": "stream",
     "text": [
      "Data for  HBLPOWER.NS saved to C:\\Users\\anind\\Desktop\\Indiana University Bloomington\\Semester 2\\I606 Network Science\\Project\\Data\\rerunning\\Project_Auto_and_Finance_Sector_250424\\Financial_Data\\ HBLPOWER.NS_data.xlsx\n",
      "Downloading data for  NIPPOBATRY.NS\n"
     ]
    },
    {
     "name": "stderr",
     "output_type": "stream",
     "text": [
      "\n",
      "[*********************100%%**********************]  1 of 1 completed"
     ]
    },
    {
     "name": "stdout",
     "output_type": "stream",
     "text": [
      "Data for  NIPPOBATRY.NS saved to C:\\Users\\anind\\Desktop\\Indiana University Bloomington\\Semester 2\\I606 Network Science\\Project\\Data\\rerunning\\Project_Auto_and_Finance_Sector_250424\\Financial_Data\\ NIPPOBATRY.NS_data.xlsx\n",
      "Downloading data for  PAEL.NS\n",
      "Data for  PAEL.NS saved to C:\\Users\\anind\\Desktop\\Indiana University Bloomington\\Semester 2\\I606 Network Science\\Project\\Data\\rerunning\\Project_Auto_and_Finance_Sector_250424\\Financial_Data\\ PAEL.NS_data.xlsx\n",
      "Processing file: C:\\Users\\anind\\Desktop\\Indiana University Bloomington\\Semester 2\\I606 Network Science\\Project\\Data\\rerunning\\Project_Auto_and_Finance_Sector_250424\\Capital_Markets.xlsx\n",
      "Downloading data for  BSE.NS\n"
     ]
    },
    {
     "name": "stderr",
     "output_type": "stream",
     "text": [
      "\n",
      "[*********************100%%**********************]  1 of 1 completed\n",
      "[*********************100%%**********************]  1 of 1 completed\n"
     ]
    },
    {
     "name": "stdout",
     "output_type": "stream",
     "text": [
      "Data for  BSE.NS saved to C:\\Users\\anind\\Desktop\\Indiana University Bloomington\\Semester 2\\I606 Network Science\\Project\\Data\\rerunning\\Project_Auto_and_Finance_Sector_250424\\Financial_Data\\ BSE.NS_data.xlsx\n",
      "Downloading data for  CDSL.NS\n"
     ]
    },
    {
     "name": "stderr",
     "output_type": "stream",
     "text": [
      "[*********************100%%**********************]  1 of 1 completed"
     ]
    },
    {
     "name": "stdout",
     "output_type": "stream",
     "text": [
      "Data for  CDSL.NS saved to C:\\Users\\anind\\Desktop\\Indiana University Bloomington\\Semester 2\\I606 Network Science\\Project\\Data\\rerunning\\Project_Auto_and_Finance_Sector_250424\\Financial_Data\\ CDSL.NS_data.xlsx\n",
      "Downloading data for  CAMS.NS\n",
      "Data for  CAMS.NS saved to C:\\Users\\anind\\Desktop\\Indiana University Bloomington\\Semester 2\\I606 Network Science\\Project\\Data\\rerunning\\Project_Auto_and_Finance_Sector_250424\\Financial_Data\\ CAMS.NS_data.xlsx\n",
      "Downloading data for  MCX.NS\n"
     ]
    },
    {
     "name": "stderr",
     "output_type": "stream",
     "text": [
      "\n",
      "[*********************100%%**********************]  1 of 1 completed\n",
      "[*********************100%%**********************]  1 of 1 completed\n"
     ]
    },
    {
     "name": "stdout",
     "output_type": "stream",
     "text": [
      "Data for  MCX.NS saved to C:\\Users\\anind\\Desktop\\Indiana University Bloomington\\Semester 2\\I606 Network Science\\Project\\Data\\rerunning\\Project_Auto_and_Finance_Sector_250424\\Financial_Data\\ MCX.NS_data.xlsx\n",
      "Processing file: C:\\Users\\anind\\Desktop\\Indiana University Bloomington\\Semester 2\\I606 Network Science\\Project\\Data\\rerunning\\Project_Auto_and_Finance_Sector_250424\\Credit_Rating_Agencies.xlsx\n",
      "Downloading data for  AGSTRA.NS\n",
      "Data for  AGSTRA.NS saved to C:\\Users\\anind\\Desktop\\Indiana University Bloomington\\Semester 2\\I606 Network Science\\Project\\Data\\rerunning\\Project_Auto_and_Finance_Sector_250424\\Financial_Data\\ AGSTRA.NS_data.xlsx\n",
      "Downloading data for  ACEINTEG.NS\n"
     ]
    },
    {
     "name": "stderr",
     "output_type": "stream",
     "text": [
      "[*********************100%%**********************]  1 of 1 completed\n",
      "[*********************100%%**********************]  1 of 1 completed\n"
     ]
    },
    {
     "name": "stdout",
     "output_type": "stream",
     "text": [
      "Data for  ACEINTEG.NS saved to C:\\Users\\anind\\Desktop\\Indiana University Bloomington\\Semester 2\\I606 Network Science\\Project\\Data\\rerunning\\Project_Auto_and_Finance_Sector_250424\\Financial_Data\\ ACEINTEG.NS_data.xlsx\n",
      "Downloading data for  CARERATING.NS\n"
     ]
    },
    {
     "name": "stderr",
     "output_type": "stream",
     "text": [
      "[*********************100%%**********************]  1 of 1 completed"
     ]
    },
    {
     "name": "stdout",
     "output_type": "stream",
     "text": [
      "Data for  CARERATING.NS saved to C:\\Users\\anind\\Desktop\\Indiana University Bloomington\\Semester 2\\I606 Network Science\\Project\\Data\\rerunning\\Project_Auto_and_Finance_Sector_250424\\Financial_Data\\ CARERATING.NS_data.xlsx\n",
      "Downloading data for  CMSINFO.NS\n"
     ]
    },
    {
     "name": "stderr",
     "output_type": "stream",
     "text": [
      "\n",
      "[*********************100%%**********************]  1 of 1 completed"
     ]
    },
    {
     "name": "stdout",
     "output_type": "stream",
     "text": [
      "Data for  CMSINFO.NS saved to C:\\Users\\anind\\Desktop\\Indiana University Bloomington\\Semester 2\\I606 Network Science\\Project\\Data\\rerunning\\Project_Auto_and_Finance_Sector_250424\\Financial_Data\\ CMSINFO.NS_data.xlsx\n",
      "Downloading data for  CRISIL.NS\n"
     ]
    },
    {
     "name": "stderr",
     "output_type": "stream",
     "text": [
      "\n",
      "[*********************100%%**********************]  1 of 1 completed"
     ]
    },
    {
     "name": "stdout",
     "output_type": "stream",
     "text": [
      "Data for  CRISIL.NS saved to C:\\Users\\anind\\Desktop\\Indiana University Bloomington\\Semester 2\\I606 Network Science\\Project\\Data\\rerunning\\Project_Auto_and_Finance_Sector_250424\\Financial_Data\\ CRISIL.NS_data.xlsx\n",
      "Downloading data for  CROWN.NS\n",
      "Data for  CROWN.NS saved to C:\\Users\\anind\\Desktop\\Indiana University Bloomington\\Semester 2\\I606 Network Science\\Project\\Data\\rerunning\\Project_Auto_and_Finance_Sector_250424\\Financial_Data\\ CROWN.NS_data.xlsx\n",
      "Downloading data for  DREAMFOLKS.NS\n"
     ]
    },
    {
     "name": "stderr",
     "output_type": "stream",
     "text": [
      "\n",
      "[*********************100%%**********************]  1 of 1 completed\n",
      "[*********************100%%**********************]  1 of 1 completed\n"
     ]
    },
    {
     "name": "stdout",
     "output_type": "stream",
     "text": [
      "Data for  DREAMFOLKS.NS saved to C:\\Users\\anind\\Desktop\\Indiana University Bloomington\\Semester 2\\I606 Network Science\\Project\\Data\\rerunning\\Project_Auto_and_Finance_Sector_250424\\Financial_Data\\ DREAMFOLKS.NS_data.xlsx\n",
      "Downloading data for  HONASA.NS\n",
      "Data for  HONASA.NS saved to C:\\Users\\anind\\Desktop\\Indiana University Bloomington\\Semester 2\\I606 Network Science\\Project\\Data\\rerunning\\Project_Auto_and_Finance_Sector_250424\\Financial_Data\\ HONASA.NS_data.xlsx\n",
      "Downloading data for  ICRA.NS\n"
     ]
    },
    {
     "name": "stderr",
     "output_type": "stream",
     "text": [
      "[*********************100%%**********************]  1 of 1 completed\n"
     ]
    },
    {
     "name": "stdout",
     "output_type": "stream",
     "text": [
      "Data for  ICRA.NS saved to C:\\Users\\anind\\Desktop\\Indiana University Bloomington\\Semester 2\\I606 Network Science\\Project\\Data\\rerunning\\Project_Auto_and_Finance_Sector_250424\\Financial_Data\\ ICRA.NS_data.xlsx\n",
      "Downloading data for  KRYSTAL.NS\n"
     ]
    },
    {
     "name": "stderr",
     "output_type": "stream",
     "text": [
      "[*********************100%%**********************]  1 of 1 completed\n",
      "\n",
      "1 Failed download:\n",
      "['KRYSTAL.NS']: Exception(\"%ticker%: Data doesn't exist for startDate = 1609439400, endDate = 1703961000\")\n",
      "[*********************100%%**********************]  1 of 1 completed\n"
     ]
    },
    {
     "name": "stdout",
     "output_type": "stream",
     "text": [
      "No data found for  KRYSTAL.NS\n",
      "Downloading data for  PAYTM.NS\n"
     ]
    },
    {
     "name": "stderr",
     "output_type": "stream",
     "text": [
      "[*********************100%%**********************]  1 of 1 completed\n",
      "[*********************100%%**********************]  1 of 1 completed"
     ]
    },
    {
     "name": "stdout",
     "output_type": "stream",
     "text": [
      "Data for  PAYTM.NS saved to C:\\Users\\anind\\Desktop\\Indiana University Bloomington\\Semester 2\\I606 Network Science\\Project\\Data\\rerunning\\Project_Auto_and_Finance_Sector_250424\\Financial_Data\\ PAYTM.NS_data.xlsx\n",
      "Downloading data for  POLICYBZR.NS\n",
      "Data for  POLICYBZR.NS saved to C:\\Users\\anind\\Desktop\\Indiana University Bloomington\\Semester 2\\I606 Network Science\\Project\\Data\\rerunning\\Project_Auto_and_Finance_Sector_250424\\Financial_Data\\ POLICYBZR.NS_data.xlsx\n",
      "Downloading data for  RADIANTCMS.NS\n"
     ]
    },
    {
     "name": "stderr",
     "output_type": "stream",
     "text": [
      "\n",
      "[*********************100%%**********************]  1 of 1 completed\n"
     ]
    },
    {
     "name": "stdout",
     "output_type": "stream",
     "text": [
      "Data for  RADIANTCMS.NS saved to C:\\Users\\anind\\Desktop\\Indiana University Bloomington\\Semester 2\\I606 Network Science\\Project\\Data\\rerunning\\Project_Auto_and_Finance_Sector_250424\\Financial_Data\\ RADIANTCMS.NS_data.xlsx\n",
      "Downloading data for  SIS.NS\n"
     ]
    },
    {
     "name": "stderr",
     "output_type": "stream",
     "text": [
      "[*********************100%%**********************]  1 of 1 completed"
     ]
    },
    {
     "name": "stdout",
     "output_type": "stream",
     "text": [
      "Data for  SIS.NS saved to C:\\Users\\anind\\Desktop\\Indiana University Bloomington\\Semester 2\\I606 Network Science\\Project\\Data\\rerunning\\Project_Auto_and_Finance_Sector_250424\\Financial_Data\\ SIS.NS_data.xlsx\n",
      "Downloading data for  SECURCRED.NS\n"
     ]
    },
    {
     "name": "stderr",
     "output_type": "stream",
     "text": [
      "\n",
      "[*********************100%%**********************]  1 of 1 completed\n",
      "[*********************100%%**********************]  1 of 1 completed"
     ]
    },
    {
     "name": "stdout",
     "output_type": "stream",
     "text": [
      "Data for  SECURCRED.NS saved to C:\\Users\\anind\\Desktop\\Indiana University Bloomington\\Semester 2\\I606 Network Science\\Project\\Data\\rerunning\\Project_Auto_and_Finance_Sector_250424\\Financial_Data\\ SECURCRED.NS_data.xlsx\n",
      "Downloading data for  UDS.NS\n",
      "Data for  UDS.NS saved to C:\\Users\\anind\\Desktop\\Indiana University Bloomington\\Semester 2\\I606 Network Science\\Project\\Data\\rerunning\\Project_Auto_and_Finance_Sector_250424\\Financial_Data\\ UDS.NS_data.xlsx\n",
      "Downloading data for  ZAGGLE.NS\n",
      "Data for  ZAGGLE.NS saved to C:\\Users\\anind\\Desktop\\Indiana University Bloomington\\Semester 2\\I606 Network Science\\Project\\Data\\rerunning\\Project_Auto_and_Finance_Sector_250424\\Financial_Data\\ ZAGGLE.NS_data.xlsx\n",
      "Downloading data for  EMUDHRA.NS\n"
     ]
    },
    {
     "name": "stderr",
     "output_type": "stream",
     "text": [
      "\n",
      "[*********************100%%**********************]  1 of 1 completed\n"
     ]
    },
    {
     "name": "stdout",
     "output_type": "stream",
     "text": [
      "Data for  EMUDHRA.NS saved to C:\\Users\\anind\\Desktop\\Indiana University Bloomington\\Semester 2\\I606 Network Science\\Project\\Data\\rerunning\\Project_Auto_and_Finance_Sector_250424\\Financial_Data\\ EMUDHRA.NS_data.xlsx\n",
      "Processing file: C:\\Users\\anind\\Desktop\\Indiana University Bloomington\\Semester 2\\I606 Network Science\\Project\\Data\\rerunning\\Project_Auto_and_Finance_Sector_250424\\Diversified_Chemicals.xlsx\n",
      "Downloading data for  ATUL.NS\n"
     ]
    },
    {
     "name": "stderr",
     "output_type": "stream",
     "text": [
      "[*********************100%%**********************]  1 of 1 completed\n",
      "[*********************100%%**********************]  1 of 1 completed"
     ]
    },
    {
     "name": "stdout",
     "output_type": "stream",
     "text": [
      "Data for  ATUL.NS saved to C:\\Users\\anind\\Desktop\\Indiana University Bloomington\\Semester 2\\I606 Network Science\\Project\\Data\\rerunning\\Project_Auto_and_Finance_Sector_250424\\Financial_Data\\ ATUL.NS_data.xlsx\n",
      "Downloading data for  BASF.NS\n"
     ]
    },
    {
     "name": "stderr",
     "output_type": "stream",
     "text": [
      "\n",
      "[*********************100%%**********************]  1 of 1 completed"
     ]
    },
    {
     "name": "stdout",
     "output_type": "stream",
     "text": [
      "Data for  BASF.NS saved to C:\\Users\\anind\\Desktop\\Indiana University Bloomington\\Semester 2\\I606 Network Science\\Project\\Data\\rerunning\\Project_Auto_and_Finance_Sector_250424\\Financial_Data\\ BASF.NS_data.xlsx\n",
      "Downloading data for  DCMSHRIRAM.NS\n"
     ]
    },
    {
     "name": "stderr",
     "output_type": "stream",
     "text": [
      "\n",
      "[*********************100%%**********************]  1 of 1 completed"
     ]
    },
    {
     "name": "stdout",
     "output_type": "stream",
     "text": [
      "Data for  DCMSHRIRAM.NS saved to C:\\Users\\anind\\Desktop\\Indiana University Bloomington\\Semester 2\\I606 Network Science\\Project\\Data\\rerunning\\Project_Auto_and_Finance_Sector_250424\\Financial_Data\\ DCMSHRIRAM.NS_data.xlsx\n",
      "Downloading data for  PIDILITIND.NS\n",
      "Data for  PIDILITIND.NS saved to C:\\Users\\anind\\Desktop\\Indiana University Bloomington\\Semester 2\\I606 Network Science\\Project\\Data\\rerunning\\Project_Auto_and_Finance_Sector_250424\\Financial_Data\\ PIDILITIND.NS_data.xlsx\n",
      "Downloading data for  PUNJABCHEM.NS\n"
     ]
    },
    {
     "name": "stderr",
     "output_type": "stream",
     "text": [
      "\n",
      "[*********************100%%**********************]  1 of 1 completed\n",
      "[*********************100%%**********************]  1 of 1 completed"
     ]
    },
    {
     "name": "stdout",
     "output_type": "stream",
     "text": [
      "Data for  PUNJABCHEM.NS saved to C:\\Users\\anind\\Desktop\\Indiana University Bloomington\\Semester 2\\I606 Network Science\\Project\\Data\\rerunning\\Project_Auto_and_Finance_Sector_250424\\Financial_Data\\ PUNJABCHEM.NS_data.xlsx\n",
      "Downloading data for  TATACHEM.NS\n"
     ]
    },
    {
     "name": "stderr",
     "output_type": "stream",
     "text": [
      "\n",
      "[*********************100%%**********************]  1 of 1 completed"
     ]
    },
    {
     "name": "stdout",
     "output_type": "stream",
     "text": [
      "Data for  TATACHEM.NS saved to C:\\Users\\anind\\Desktop\\Indiana University Bloomington\\Semester 2\\I606 Network Science\\Project\\Data\\rerunning\\Project_Auto_and_Finance_Sector_250424\\Financial_Data\\ TATACHEM.NS_data.xlsx\n",
      "Downloading data for  VISHNU.NS\n"
     ]
    },
    {
     "name": "stderr",
     "output_type": "stream",
     "text": [
      "\n",
      "[*********************100%%**********************]  1 of 1 completed"
     ]
    },
    {
     "name": "stdout",
     "output_type": "stream",
     "text": [
      "Data for  VISHNU.NS saved to C:\\Users\\anind\\Desktop\\Indiana University Bloomington\\Semester 2\\I606 Network Science\\Project\\Data\\rerunning\\Project_Auto_and_Finance_Sector_250424\\Financial_Data\\ VISHNU.NS_data.xlsx\n",
      "Processing file: C:\\Users\\anind\\Desktop\\Indiana University Bloomington\\Semester 2\\I606 Network Science\\Project\\Data\\rerunning\\Project_Auto_and_Finance_Sector_250424\\Electrical___Equipment_components.xlsx\n",
      "Downloading data for  APARINDS.NS\n"
     ]
    },
    {
     "name": "stderr",
     "output_type": "stream",
     "text": [
      "\n",
      "[*********************100%%**********************]  1 of 1 completed\n"
     ]
    },
    {
     "name": "stdout",
     "output_type": "stream",
     "text": [
      "Data for  APARINDS.NS saved to C:\\Users\\anind\\Desktop\\Indiana University Bloomington\\Semester 2\\I606 Network Science\\Project\\Data\\rerunning\\Project_Auto_and_Finance_Sector_250424\\Financial_Data\\ APARINDS.NS_data.xlsx\n",
      "Downloading data for  BCP.NS\n",
      "Data for  BCP.NS saved to C:\\Users\\anind\\Desktop\\Indiana University Bloomington\\Semester 2\\I606 Network Science\\Project\\Data\\rerunning\\Project_Auto_and_Finance_Sector_250424\\Financial_Data\\ BCP.NS_data.xlsx\n",
      "Downloading data for  CMICABLES.NS\n"
     ]
    },
    {
     "name": "stderr",
     "output_type": "stream",
     "text": [
      "[*********************100%%**********************]  1 of 1 completed\n",
      "[*********************100%%**********************]  1 of 1 completed\n"
     ]
    },
    {
     "name": "stdout",
     "output_type": "stream",
     "text": [
      "Data for  CMICABLES.NS saved to C:\\Users\\anind\\Desktop\\Indiana University Bloomington\\Semester 2\\I606 Network Science\\Project\\Data\\rerunning\\Project_Auto_and_Finance_Sector_250424\\Financial_Data\\ CMICABLES.NS_data.xlsx\n",
      "Downloading data for  CORDSCABLE.NS\n"
     ]
    },
    {
     "name": "stderr",
     "output_type": "stream",
     "text": [
      "[*********************100%%**********************]  1 of 1 completed"
     ]
    },
    {
     "name": "stdout",
     "output_type": "stream",
     "text": [
      "Data for  CORDSCABLE.NS saved to C:\\Users\\anind\\Desktop\\Indiana University Bloomington\\Semester 2\\I606 Network Science\\Project\\Data\\rerunning\\Project_Auto_and_Finance_Sector_250424\\Financial_Data\\ CORDSCABLE.NS_data.xlsx\n",
      "Downloading data for  DENORA.NS\n",
      "Data for  DENORA.NS saved to C:\\Users\\anind\\Desktop\\Indiana University Bloomington\\Semester 2\\I606 Network Science\\Project\\Data\\rerunning\\Project_Auto_and_Finance_Sector_250424\\Financial_Data\\ DENORA.NS_data.xlsx\n",
      "Downloading data for  DIACABS.NS\n"
     ]
    },
    {
     "name": "stderr",
     "output_type": "stream",
     "text": [
      "\n",
      "[*********************100%%**********************]  1 of 1 completed\n",
      "[*********************100%%**********************]  1 of 1 completed\n"
     ]
    },
    {
     "name": "stdout",
     "output_type": "stream",
     "text": [
      "Data for  DIACABS.NS saved to C:\\Users\\anind\\Desktop\\Indiana University Bloomington\\Semester 2\\I606 Network Science\\Project\\Data\\rerunning\\Project_Auto_and_Finance_Sector_250424\\Financial_Data\\ DIACABS.NS_data.xlsx\n",
      "Downloading data for  DYCL.NS\n",
      "Data for  DYCL.NS saved to C:\\Users\\anind\\Desktop\\Indiana University Bloomington\\Semester 2\\I606 Network Science\\Project\\Data\\rerunning\\Project_Auto_and_Finance_Sector_250424\\Financial_Data\\ DYCL.NS_data.xlsx\n",
      "Downloading data for  FINCABLES.NS\n"
     ]
    },
    {
     "name": "stderr",
     "output_type": "stream",
     "text": [
      "[*********************100%%**********************]  1 of 1 completed\n",
      "[*********************100%%**********************]  1 of 1 completed"
     ]
    },
    {
     "name": "stdout",
     "output_type": "stream",
     "text": [
      "Data for  FINCABLES.NS saved to C:\\Users\\anind\\Desktop\\Indiana University Bloomington\\Semester 2\\I606 Network Science\\Project\\Data\\rerunning\\Project_Auto_and_Finance_Sector_250424\\Financial_Data\\ FINCABLES.NS_data.xlsx\n",
      "Downloading data for  FOCUS.NS\n"
     ]
    },
    {
     "name": "stderr",
     "output_type": "stream",
     "text": [
      "\n",
      "[*********************100%%**********************]  1 of 1 completed\n"
     ]
    },
    {
     "name": "stdout",
     "output_type": "stream",
     "text": [
      "Data for  FOCUS.NS saved to C:\\Users\\anind\\Desktop\\Indiana University Bloomington\\Semester 2\\I606 Network Science\\Project\\Data\\rerunning\\Project_Auto_and_Finance_Sector_250424\\Financial_Data\\ FOCUS.NS_data.xlsx\n",
      "Downloading data for  GODHA.NS\n"
     ]
    },
    {
     "name": "stderr",
     "output_type": "stream",
     "text": [
      "[*********************100%%**********************]  1 of 1 completed"
     ]
    },
    {
     "name": "stdout",
     "output_type": "stream",
     "text": [
      "Data for  GODHA.NS saved to C:\\Users\\anind\\Desktop\\Indiana University Bloomington\\Semester 2\\I606 Network Science\\Project\\Data\\rerunning\\Project_Auto_and_Finance_Sector_250424\\Financial_Data\\ GODHA.NS_data.xlsx\n",
      "Downloading data for  HPL.NS\n"
     ]
    },
    {
     "name": "stderr",
     "output_type": "stream",
     "text": [
      "\n",
      "[*********************100%%**********************]  1 of 1 completed"
     ]
    },
    {
     "name": "stdout",
     "output_type": "stream",
     "text": [
      "Data for  HPL.NS saved to C:\\Users\\anind\\Desktop\\Indiana University Bloomington\\Semester 2\\I606 Network Science\\Project\\Data\\rerunning\\Project_Auto_and_Finance_Sector_250424\\Financial_Data\\ HPL.NS_data.xlsx\n",
      "Downloading data for  HAVELLS.NS\n",
      "Data for  HAVELLS.NS saved to C:\\Users\\anind\\Desktop\\Indiana University Bloomington\\Semester 2\\I606 Network Science\\Project\\Data\\rerunning\\Project_Auto_and_Finance_Sector_250424\\Financial_Data\\ HAVELLS.NS_data.xlsx\n",
      "Downloading data for  ICEMAKE.NS\n"
     ]
    },
    {
     "name": "stderr",
     "output_type": "stream",
     "text": [
      "\n",
      "[*********************100%%**********************]  1 of 1 completed\n",
      "[*********************100%%**********************]  1 of 1 completed"
     ]
    },
    {
     "name": "stdout",
     "output_type": "stream",
     "text": [
      "Data for  ICEMAKE.NS saved to C:\\Users\\anind\\Desktop\\Indiana University Bloomington\\Semester 2\\I606 Network Science\\Project\\Data\\rerunning\\Project_Auto_and_Finance_Sector_250424\\Financial_Data\\ ICEMAKE.NS_data.xlsx\n",
      "Downloading data for  IKIO.NS\n",
      "Data for  IKIO.NS saved to C:\\Users\\anind\\Desktop\\Indiana University Bloomington\\Semester 2\\I606 Network Science\\Project\\Data\\rerunning\\Project_Auto_and_Finance_Sector_250424\\Financial_Data\\ IKIO.NS_data.xlsx\n",
      "Downloading data for  KEI.NS\n"
     ]
    },
    {
     "name": "stderr",
     "output_type": "stream",
     "text": [
      "\n",
      "[*********************100%%**********************]  1 of 1 completed\n",
      "[*********************100%%**********************]  1 of 1 completed\n"
     ]
    },
    {
     "name": "stdout",
     "output_type": "stream",
     "text": [
      "Data for  KEI.NS saved to C:\\Users\\anind\\Desktop\\Indiana University Bloomington\\Semester 2\\I606 Network Science\\Project\\Data\\rerunning\\Project_Auto_and_Finance_Sector_250424\\Financial_Data\\ KEI.NS_data.xlsx\n",
      "Downloading data for  MARINE.NS\n",
      "Data for  MARINE.NS saved to C:\\Users\\anind\\Desktop\\Indiana University Bloomington\\Semester 2\\I606 Network Science\\Project\\Data\\rerunning\\Project_Auto_and_Finance_Sector_250424\\Financial_Data\\ MARINE.NS_data.xlsx\n",
      "Downloading data for  MODISONLTD.NS\n"
     ]
    },
    {
     "name": "stderr",
     "output_type": "stream",
     "text": [
      "[*********************100%%**********************]  1 of 1 completed\n",
      "[*********************100%%**********************]  1 of 1 completed"
     ]
    },
    {
     "name": "stdout",
     "output_type": "stream",
     "text": [
      "Data for  MODISONLTD.NS saved to C:\\Users\\anind\\Desktop\\Indiana University Bloomington\\Semester 2\\I606 Network Science\\Project\\Data\\rerunning\\Project_Auto_and_Finance_Sector_250424\\Financial_Data\\ MODISONLTD.NS_data.xlsx\n",
      "Downloading data for  MSUMI.NS\n",
      "Data for  MSUMI.NS saved to C:\\Users\\anind\\Desktop\\Indiana University Bloomington\\Semester 2\\I606 Network Science\\Project\\Data\\rerunning\\Project_Auto_and_Finance_Sector_250424\\Financial_Data\\ MSUMI.NS_data.xlsx\n",
      "Downloading data for  OLECTRA.NS\n"
     ]
    },
    {
     "name": "stderr",
     "output_type": "stream",
     "text": [
      "\n",
      "[*********************100%%**********************]  1 of 1 completed\n",
      "[*********************100%%**********************]  1 of 1 completed\n"
     ]
    },
    {
     "name": "stdout",
     "output_type": "stream",
     "text": [
      "Data for  OLECTRA.NS saved to C:\\Users\\anind\\Desktop\\Indiana University Bloomington\\Semester 2\\I606 Network Science\\Project\\Data\\rerunning\\Project_Auto_and_Finance_Sector_250424\\Financial_Data\\ OLECTRA.NS_data.xlsx\n",
      "Downloading data for  PARACABLES.NS\n",
      "Data for  PARACABLES.NS saved to C:\\Users\\anind\\Desktop\\Indiana University Bloomington\\Semester 2\\I606 Network Science\\Project\\Data\\rerunning\\Project_Auto_and_Finance_Sector_250424\\Financial_Data\\ PARACABLES.NS_data.xlsx\n",
      "Downloading data for  PLAZACABLE.NS\n"
     ]
    },
    {
     "name": "stderr",
     "output_type": "stream",
     "text": [
      "[*********************100%%**********************]  1 of 1 completed\n",
      "[*********************100%%**********************]  1 of 1 completed"
     ]
    },
    {
     "name": "stdout",
     "output_type": "stream",
     "text": [
      "Data for  PLAZACABLE.NS saved to C:\\Users\\anind\\Desktop\\Indiana University Bloomington\\Semester 2\\I606 Network Science\\Project\\Data\\rerunning\\Project_Auto_and_Finance_Sector_250424\\Financial_Data\\ PLAZACABLE.NS_data.xlsx\n",
      "Downloading data for  POLYCAB.NS\n"
     ]
    },
    {
     "name": "stderr",
     "output_type": "stream",
     "text": [
      "\n",
      "[*********************100%%**********************]  1 of 1 completed"
     ]
    },
    {
     "name": "stdout",
     "output_type": "stream",
     "text": [
      "Data for  POLYCAB.NS saved to C:\\Users\\anind\\Desktop\\Indiana University Bloomington\\Semester 2\\I606 Network Science\\Project\\Data\\rerunning\\Project_Auto_and_Finance_Sector_250424\\Financial_Data\\ POLYCAB.NS_data.xlsx\n",
      "Downloading data for  PRECWIRE.NS\n"
     ]
    },
    {
     "name": "stderr",
     "output_type": "stream",
     "text": [
      "\n",
      "[*********************100%%**********************]  1 of 1 completed"
     ]
    },
    {
     "name": "stdout",
     "output_type": "stream",
     "text": [
      "Data for  PRECWIRE.NS saved to C:\\Users\\anind\\Desktop\\Indiana University Bloomington\\Semester 2\\I606 Network Science\\Project\\Data\\rerunning\\Project_Auto_and_Finance_Sector_250424\\Financial_Data\\ PRECWIRE.NS_data.xlsx\n",
      "Downloading data for  RRKABEL.NS\n",
      "Data for  RRKABEL.NS saved to C:\\Users\\anind\\Desktop\\Indiana University Bloomington\\Semester 2\\I606 Network Science\\Project\\Data\\rerunning\\Project_Auto_and_Finance_Sector_250424\\Financial_Data\\ RRKABEL.NS_data.xlsx\n",
      "Downloading data for  RAMRAT.NS\n"
     ]
    },
    {
     "name": "stderr",
     "output_type": "stream",
     "text": [
      "\n",
      "[*********************100%%**********************]  1 of 1 completed\n",
      "[*********************100%%**********************]  1 of 1 completed\n"
     ]
    },
    {
     "name": "stdout",
     "output_type": "stream",
     "text": [
      "Data for  RAMRAT.NS saved to C:\\Users\\anind\\Desktop\\Indiana University Bloomington\\Semester 2\\I606 Network Science\\Project\\Data\\rerunning\\Project_Auto_and_Finance_Sector_250424\\Financial_Data\\ RAMRAT.NS_data.xlsx\n",
      "Downloading data for  RISHABH.NS\n",
      "Data for  RISHABH.NS saved to C:\\Users\\anind\\Desktop\\Indiana University Bloomington\\Semester 2\\I606 Network Science\\Project\\Data\\rerunning\\Project_Auto_and_Finance_Sector_250424\\Financial_Data\\ RISHABH.NS_data.xlsx\n",
      "Downloading data for  S&SPOWER.NS\n"
     ]
    },
    {
     "name": "stderr",
     "output_type": "stream",
     "text": [
      "[*********************100%%**********************]  1 of 1 completed\n",
      "[*********************100%%**********************]  1 of 1 completed"
     ]
    },
    {
     "name": "stdout",
     "output_type": "stream",
     "text": [
      "Data for  S&SPOWER.NS saved to C:\\Users\\anind\\Desktop\\Indiana University Bloomington\\Semester 2\\I606 Network Science\\Project\\Data\\rerunning\\Project_Auto_and_Finance_Sector_250424\\Financial_Data\\ S&SPOWER.NS_data.xlsx\n",
      "Downloading data for  SALZERELEC.NS\n"
     ]
    },
    {
     "name": "stderr",
     "output_type": "stream",
     "text": [
      "\n",
      "[*********************100%%**********************]  1 of 1 completed"
     ]
    },
    {
     "name": "stdout",
     "output_type": "stream",
     "text": [
      "Data for  SALZERELEC.NS saved to C:\\Users\\anind\\Desktop\\Indiana University Bloomington\\Semester 2\\I606 Network Science\\Project\\Data\\rerunning\\Project_Auto_and_Finance_Sector_250424\\Financial_Data\\ SALZERELEC.NS_data.xlsx\n",
      "Downloading data for  SERVOTECH.NS\n"
     ]
    },
    {
     "name": "stderr",
     "output_type": "stream",
     "text": [
      "\n",
      "[*********************100%%**********************]  1 of 1 completed"
     ]
    },
    {
     "name": "stdout",
     "output_type": "stream",
     "text": [
      "Data for  SERVOTECH.NS saved to C:\\Users\\anind\\Desktop\\Indiana University Bloomington\\Semester 2\\I606 Network Science\\Project\\Data\\rerunning\\Project_Auto_and_Finance_Sector_250424\\Financial_Data\\ SERVOTECH.NS_data.xlsx\n",
      "Downloading data for  SURANASOL.NS\n"
     ]
    },
    {
     "name": "stderr",
     "output_type": "stream",
     "text": [
      "\n"
     ]
    },
    {
     "name": "stdout",
     "output_type": "stream",
     "text": [
      "Data for  SURANASOL.NS saved to C:\\Users\\anind\\Desktop\\Indiana University Bloomington\\Semester 2\\I606 Network Science\\Project\\Data\\rerunning\\Project_Auto_and_Finance_Sector_250424\\Financial_Data\\ SURANASOL.NS_data.xlsx\n",
      "Downloading data for  SWELECTES.NS\n"
     ]
    },
    {
     "name": "stderr",
     "output_type": "stream",
     "text": [
      "[*********************100%%**********************]  1 of 1 completed\n",
      "[*********************100%%**********************]  1 of 1 completed"
     ]
    },
    {
     "name": "stdout",
     "output_type": "stream",
     "text": [
      "Data for  SWELECTES.NS saved to C:\\Users\\anind\\Desktop\\Indiana University Bloomington\\Semester 2\\I606 Network Science\\Project\\Data\\rerunning\\Project_Auto_and_Finance_Sector_250424\\Financial_Data\\ SWELECTES.NS_data.xlsx\n",
      "Downloading data for  UEL.NS\n",
      "Data for  UEL.NS saved to C:\\Users\\anind\\Desktop\\Indiana University Bloomington\\Semester 2\\I606 Network Science\\Project\\Data\\rerunning\\Project_Auto_and_Finance_Sector_250424\\Financial_Data\\ UEL.NS_data.xlsx\n",
      "Downloading data for  UNIVCABLES.NS\n"
     ]
    },
    {
     "name": "stderr",
     "output_type": "stream",
     "text": [
      "\n",
      "[*********************100%%**********************]  1 of 1 completed\n"
     ]
    },
    {
     "name": "stdout",
     "output_type": "stream",
     "text": [
      "Data for  UNIVCABLES.NS saved to C:\\Users\\anind\\Desktop\\Indiana University Bloomington\\Semester 2\\I606 Network Science\\Project\\Data\\rerunning\\Project_Auto_and_Finance_Sector_250424\\Financial_Data\\ UNIVCABLES.NS_data.xlsx\n",
      "Downloading data for  VGUARD.NS\n"
     ]
    },
    {
     "name": "stderr",
     "output_type": "stream",
     "text": [
      "[*********************100%%**********************]  1 of 1 completed\n",
      "[*********************100%%**********************]  1 of 1 completed"
     ]
    },
    {
     "name": "stdout",
     "output_type": "stream",
     "text": [
      "Data for  VGUARD.NS saved to C:\\Users\\anind\\Desktop\\Indiana University Bloomington\\Semester 2\\I606 Network Science\\Project\\Data\\rerunning\\Project_Auto_and_Finance_Sector_250424\\Financial_Data\\ VGUARD.NS_data.xlsx\n",
      "Downloading data for  VETO.NS\n",
      "Data for  VETO.NS saved to C:\\Users\\anind\\Desktop\\Indiana University Bloomington\\Semester 2\\I606 Network Science\\Project\\Data\\rerunning\\Project_Auto_and_Finance_Sector_250424\\Financial_Data\\ VETO.NS_data.xlsx\n",
      "Downloading data for  WEBELSOLAR.NS\n"
     ]
    },
    {
     "name": "stderr",
     "output_type": "stream",
     "text": [
      "\n",
      "[*********************100%%**********************]  1 of 1 completed\n",
      "[*********************100%%**********************]  1 of 1 completed"
     ]
    },
    {
     "name": "stdout",
     "output_type": "stream",
     "text": [
      "Data for  WEBELSOLAR.NS saved to C:\\Users\\anind\\Desktop\\Indiana University Bloomington\\Semester 2\\I606 Network Science\\Project\\Data\\rerunning\\Project_Auto_and_Finance_Sector_250424\\Financial_Data\\ WEBELSOLAR.NS_data.xlsx\n",
      "Downloading data for  WEL.NS\n",
      "Data for  WEL.NS saved to C:\\Users\\anind\\Desktop\\Indiana University Bloomington\\Semester 2\\I606 Network Science\\Project\\Data\\rerunning\\Project_Auto_and_Finance_Sector_250424\\Financial_Data\\ WEL.NS_data.xlsx\n",
      "Processing file: C:\\Users\\anind\\Desktop\\Indiana University Bloomington\\Semester 2\\I606 Network Science\\Project\\Data\\rerunning\\Project_Auto_and_Finance_Sector_250424\\Electrodes___Graphites.xlsx\n",
      "Downloading data for  GRAPHITE.NS\n"
     ]
    },
    {
     "name": "stderr",
     "output_type": "stream",
     "text": [
      "\n",
      "[*********************100%%**********************]  1 of 1 completed\n",
      "[*********************100%%**********************]  1 of 1 completed\n"
     ]
    },
    {
     "name": "stdout",
     "output_type": "stream",
     "text": [
      "Data for  GRAPHITE.NS saved to C:\\Users\\anind\\Desktop\\Indiana University Bloomington\\Semester 2\\I606 Network Science\\Project\\Data\\rerunning\\Project_Auto_and_Finance_Sector_250424\\Financial_Data\\ GRAPHITE.NS_data.xlsx\n",
      "Downloading data for  HEG.NS\n",
      "Data for  HEG.NS saved to C:\\Users\\anind\\Desktop\\Indiana University Bloomington\\Semester 2\\I606 Network Science\\Project\\Data\\rerunning\\Project_Auto_and_Finance_Sector_250424\\Financial_Data\\ HEG.NS_data.xlsx\n",
      "Processing file: C:\\Users\\anind\\Desktop\\Indiana University Bloomington\\Semester 2\\I606 Network Science\\Project\\Data\\rerunning\\Project_Auto_and_Finance_Sector_250424\\Electronics___Equipment_components.xlsx\n"
     ]
    },
    {
     "name": "stderr",
     "output_type": "stream",
     "text": [
      "[*********************100%%**********************]  1 of 1 completed"
     ]
    },
    {
     "name": "stdout",
     "output_type": "stream",
     "text": [
      "Downloading data for  APOLLO.NS\n"
     ]
    },
    {
     "name": "stderr",
     "output_type": "stream",
     "text": [
      "\n",
      "[*********************100%%**********************]  1 of 1 completed\n"
     ]
    },
    {
     "name": "stdout",
     "output_type": "stream",
     "text": [
      "Data for  APOLLO.NS saved to C:\\Users\\anind\\Desktop\\Indiana University Bloomington\\Semester 2\\I606 Network Science\\Project\\Data\\rerunning\\Project_Auto_and_Finance_Sector_250424\\Financial_Data\\ APOLLO.NS_data.xlsx\n",
      "Downloading data for  AVALON.NS\n",
      "Data for  AVALON.NS saved to C:\\Users\\anind\\Desktop\\Indiana University Bloomington\\Semester 2\\I606 Network Science\\Project\\Data\\rerunning\\Project_Auto_and_Finance_Sector_250424\\Financial_Data\\ AVALON.NS_data.xlsx\n",
      "Downloading data for  CENTUM.NS\n"
     ]
    },
    {
     "name": "stderr",
     "output_type": "stream",
     "text": [
      "[*********************100%%**********************]  1 of 1 completed\n",
      "[*********************100%%**********************]  1 of 1 completed"
     ]
    },
    {
     "name": "stdout",
     "output_type": "stream",
     "text": [
      "Data for  CENTUM.NS saved to C:\\Users\\anind\\Desktop\\Indiana University Bloomington\\Semester 2\\I606 Network Science\\Project\\Data\\rerunning\\Project_Auto_and_Finance_Sector_250424\\Financial_Data\\ CENTUM.NS_data.xlsx\n",
      "Downloading data for  CONTROLPR.NS\n"
     ]
    },
    {
     "name": "stderr",
     "output_type": "stream",
     "text": [
      "\n",
      "[*********************100%%**********************]  1 of 1 completed\n",
      "[*********************100%%**********************]  1 of 1 completed"
     ]
    },
    {
     "name": "stdout",
     "output_type": "stream",
     "text": [
      "Data for  CONTROLPR.NS saved to C:\\Users\\anind\\Desktop\\Indiana University Bloomington\\Semester 2\\I606 Network Science\\Project\\Data\\rerunning\\Project_Auto_and_Finance_Sector_250424\\Financial_Data\\ CONTROLPR.NS_data.xlsx\n",
      "Downloading data for  CYIENTDLM.NS\n",
      "Data for  CYIENTDLM.NS saved to C:\\Users\\anind\\Desktop\\Indiana University Bloomington\\Semester 2\\I606 Network Science\\Project\\Data\\rerunning\\Project_Auto_and_Finance_Sector_250424\\Financial_Data\\ CYIENTDLM.NS_data.xlsx\n",
      "Downloading data for  DCI.NS\n"
     ]
    },
    {
     "name": "stderr",
     "output_type": "stream",
     "text": [
      "\n",
      "[*********************100%%**********************]  1 of 1 completed"
     ]
    },
    {
     "name": "stdout",
     "output_type": "stream",
     "text": [
      "Data for  DCI.NS saved to C:\\Users\\anind\\Desktop\\Indiana University Bloomington\\Semester 2\\I606 Network Science\\Project\\Data\\rerunning\\Project_Auto_and_Finance_Sector_250424\\Financial_Data\\ DCI.NS_data.xlsx\n",
      "Downloading data for  DCXINDIA.NS\n",
      "Data for  DCXINDIA.NS saved to C:\\Users\\anind\\Desktop\\Indiana University Bloomington\\Semester 2\\I606 Network Science\\Project\\Data\\rerunning\\Project_Auto_and_Finance_Sector_250424\\Financial_Data\\ DCXINDIA.NS_data.xlsx\n",
      "Downloading data for  DATAPATTNS.NS\n"
     ]
    },
    {
     "name": "stderr",
     "output_type": "stream",
     "text": [
      "\n",
      "[*********************100%%**********************]  1 of 1 completed\n",
      "[*********************100%%**********************]  1 of 1 completed"
     ]
    },
    {
     "name": "stdout",
     "output_type": "stream",
     "text": [
      "Data for  DATAPATTNS.NS saved to C:\\Users\\anind\\Desktop\\Indiana University Bloomington\\Semester 2\\I606 Network Science\\Project\\Data\\rerunning\\Project_Auto_and_Finance_Sector_250424\\Financial_Data\\ DATAPATTNS.NS_data.xlsx\n",
      "Downloading data for  DELTAMAGNT.NS\n"
     ]
    },
    {
     "name": "stderr",
     "output_type": "stream",
     "text": [
      "\n"
     ]
    },
    {
     "name": "stdout",
     "output_type": "stream",
     "text": [
      "Data for  DELTAMAGNT.NS saved to C:\\Users\\anind\\Desktop\\Indiana University Bloomington\\Semester 2\\I606 Network Science\\Project\\Data\\rerunning\\Project_Auto_and_Finance_Sector_250424\\Financial_Data\\ DELTAMAGNT.NS_data.xlsx\n",
      "Downloading data for  EPACK.NS\n"
     ]
    },
    {
     "name": "stderr",
     "output_type": "stream",
     "text": [
      "[*********************100%%**********************]  1 of 1 completed\n",
      "\n",
      "1 Failed download:\n",
      "['EPACK.NS']: Exception(\"%ticker%: Data doesn't exist for startDate = 1609439400, endDate = 1703961000\")\n",
      "[*********************100%%**********************]  1 of 1 completed\n"
     ]
    },
    {
     "name": "stdout",
     "output_type": "stream",
     "text": [
      "No data found for  EPACK.NS\n",
      "Downloading data for  EMIL.NS\n",
      "Data for  EMIL.NS saved to C:\\Users\\anind\\Desktop\\Indiana University Bloomington\\Semester 2\\I606 Network Science\\Project\\Data\\rerunning\\Project_Auto_and_Finance_Sector_250424\\Financial_Data\\ EMIL.NS_data.xlsx\n",
      "Downloading data for  ELIN.NS\n"
     ]
    },
    {
     "name": "stderr",
     "output_type": "stream",
     "text": [
      "[*********************100%%**********************]  1 of 1 completed\n"
     ]
    },
    {
     "name": "stdout",
     "output_type": "stream",
     "text": [
      "Data for  ELIN.NS saved to C:\\Users\\anind\\Desktop\\Indiana University Bloomington\\Semester 2\\I606 Network Science\\Project\\Data\\rerunning\\Project_Auto_and_Finance_Sector_250424\\Financial_Data\\ ELIN.NS_data.xlsx\n",
      "Downloading data for  GENUSPOWER.NS\n"
     ]
    },
    {
     "name": "stderr",
     "output_type": "stream",
     "text": [
      "[*********************100%%**********************]  1 of 1 completed\n",
      "[*********************100%%**********************]  1 of 1 completed\n"
     ]
    },
    {
     "name": "stdout",
     "output_type": "stream",
     "text": [
      "Data for  GENUSPOWER.NS saved to C:\\Users\\anind\\Desktop\\Indiana University Bloomington\\Semester 2\\I606 Network Science\\Project\\Data\\rerunning\\Project_Auto_and_Finance_Sector_250424\\Financial_Data\\ GENUSPOWER.NS_data.xlsx\n",
      "Downloading data for  HIRECT.NS\n",
      "Data for  HIRECT.NS saved to C:\\Users\\anind\\Desktop\\Indiana University Bloomington\\Semester 2\\I606 Network Science\\Project\\Data\\rerunning\\Project_Auto_and_Finance_Sector_250424\\Financial_Data\\ HIRECT.NS_data.xlsx\n",
      "Downloading data for  HONAUT.NS\n"
     ]
    },
    {
     "name": "stderr",
     "output_type": "stream",
     "text": [
      "[*********************100%%**********************]  1 of 1 completed\n",
      "[*********************100%%**********************]  1 of 1 completed"
     ]
    },
    {
     "name": "stdout",
     "output_type": "stream",
     "text": [
      "Data for  HONAUT.NS saved to C:\\Users\\anind\\Desktop\\Indiana University Bloomington\\Semester 2\\I606 Network Science\\Project\\Data\\rerunning\\Project_Auto_and_Finance_Sector_250424\\Financial_Data\\ HONAUT.NS_data.xlsx\n",
      "Downloading data for  IONEXCHANG.NS\n"
     ]
    },
    {
     "name": "stderr",
     "output_type": "stream",
     "text": [
      "\n"
     ]
    },
    {
     "name": "stdout",
     "output_type": "stream",
     "text": [
      "Data for  IONEXCHANG.NS saved to C:\\Users\\anind\\Desktop\\Indiana University Bloomington\\Semester 2\\I606 Network Science\\Project\\Data\\rerunning\\Project_Auto_and_Finance_Sector_250424\\Financial_Data\\ IONEXCHANG.NS_data.xlsx\n",
      "Downloading data for  KAYNES.NS\n"
     ]
    },
    {
     "name": "stderr",
     "output_type": "stream",
     "text": [
      "[*********************100%%**********************]  1 of 1 completed\n",
      "[*********************100%%**********************]  1 of 1 completed\n"
     ]
    },
    {
     "name": "stdout",
     "output_type": "stream",
     "text": [
      "Data for  KAYNES.NS saved to C:\\Users\\anind\\Desktop\\Indiana University Bloomington\\Semester 2\\I606 Network Science\\Project\\Data\\rerunning\\Project_Auto_and_Finance_Sector_250424\\Financial_Data\\ KAYNES.NS_data.xlsx\n",
      "Downloading data for  MICEL.NS\n",
      "Data for  MICEL.NS saved to C:\\Users\\anind\\Desktop\\Indiana University Bloomington\\Semester 2\\I606 Network Science\\Project\\Data\\rerunning\\Project_Auto_and_Finance_Sector_250424\\Financial_Data\\ MICEL.NS_data.xlsx\n",
      "Downloading data for  NITIRAJ.NS\n"
     ]
    },
    {
     "name": "stderr",
     "output_type": "stream",
     "text": [
      "[*********************100%%**********************]  1 of 1 completed\n",
      "[*********************100%%**********************]  1 of 1 completed"
     ]
    },
    {
     "name": "stdout",
     "output_type": "stream",
     "text": [
      "Data for  NITIRAJ.NS saved to C:\\Users\\anind\\Desktop\\Indiana University Bloomington\\Semester 2\\I606 Network Science\\Project\\Data\\rerunning\\Project_Auto_and_Finance_Sector_250424\\Financial_Data\\ NITIRAJ.NS_data.xlsx\n",
      "Downloading data for  PGEL.NS\n",
      "Data for  PGEL.NS saved to C:\\Users\\anind\\Desktop\\Indiana University Bloomington\\Semester 2\\I606 Network Science\\Project\\Data\\rerunning\\Project_Auto_and_Finance_Sector_250424\\Financial_Data\\ PGEL.NS_data.xlsx\n",
      "Downloading data for  SYRMA.NS\n"
     ]
    },
    {
     "name": "stderr",
     "output_type": "stream",
     "text": [
      "\n",
      "[*********************100%%**********************]  1 of 1 completed\n",
      "[*********************100%%**********************]  1 of 1 completed"
     ]
    },
    {
     "name": "stdout",
     "output_type": "stream",
     "text": [
      "Data for  SYRMA.NS saved to C:\\Users\\anind\\Desktop\\Indiana University Bloomington\\Semester 2\\I606 Network Science\\Project\\Data\\rerunning\\Project_Auto_and_Finance_Sector_250424\\Financial_Data\\ SYRMA.NS_data.xlsx\n",
      "Downloading data for  UNIDT.NS\n"
     ]
    },
    {
     "name": "stderr",
     "output_type": "stream",
     "text": [
      "\n",
      "[*********************100%%**********************]  1 of 1 completed"
     ]
    },
    {
     "name": "stdout",
     "output_type": "stream",
     "text": [
      "Data for  UNIDT.NS saved to C:\\Users\\anind\\Desktop\\Indiana University Bloomington\\Semester 2\\I606 Network Science\\Project\\Data\\rerunning\\Project_Auto_and_Finance_Sector_250424\\Financial_Data\\ UNIDT.NS_data.xlsx\n",
      "Processing file: C:\\Users\\anind\\Desktop\\Indiana University Bloomington\\Semester 2\\I606 Network Science\\Project\\Data\\rerunning\\Project_Auto_and_Finance_Sector_250424\\Engineering___Heavy.xlsx\n",
      "Downloading data for  ACE.NS\n"
     ]
    },
    {
     "name": "stderr",
     "output_type": "stream",
     "text": [
      "\n"
     ]
    },
    {
     "name": "stdout",
     "output_type": "stream",
     "text": [
      "Data for  ACE.NS saved to C:\\Users\\anind\\Desktop\\Indiana University Bloomington\\Semester 2\\I606 Network Science\\Project\\Data\\rerunning\\Project_Auto_and_Finance_Sector_250424\\Financial_Data\\ ACE.NS_data.xlsx\n",
      "Downloading data for  BEML.NS\n"
     ]
    },
    {
     "name": "stderr",
     "output_type": "stream",
     "text": [
      "[*********************100%%**********************]  1 of 1 completed\n"
     ]
    },
    {
     "name": "stdout",
     "output_type": "stream",
     "text": [
      "Data for  BEML.NS saved to C:\\Users\\anind\\Desktop\\Indiana University Bloomington\\Semester 2\\I606 Network Science\\Project\\Data\\rerunning\\Project_Auto_and_Finance_Sector_250424\\Financial_Data\\ BEML.NS_data.xlsx\n",
      "Downloading data for  JWL.NS\n"
     ]
    },
    {
     "name": "stderr",
     "output_type": "stream",
     "text": [
      "[*********************100%%**********************]  1 of 1 completed\n"
     ]
    },
    {
     "name": "stdout",
     "output_type": "stream",
     "text": [
      "Data for  JWL.NS saved to C:\\Users\\anind\\Desktop\\Indiana University Bloomington\\Semester 2\\I606 Network Science\\Project\\Data\\rerunning\\Project_Auto_and_Finance_Sector_250424\\Financial_Data\\ JWL.NS_data.xlsx\n",
      "Downloading data for  JYOTICNC.NS\n"
     ]
    },
    {
     "name": "stderr",
     "output_type": "stream",
     "text": [
      "[*********************100%%**********************]  1 of 1 completed\n",
      "\n",
      "1 Failed download:\n",
      "['JYOTICNC.NS']: Exception(\"%ticker%: Data doesn't exist for startDate = 1609439400, endDate = 1703961000\")\n"
     ]
    },
    {
     "name": "stdout",
     "output_type": "stream",
     "text": [
      "No data found for  JYOTICNC.NS\n",
      "Downloading data for  PRAJIND.NS\n"
     ]
    },
    {
     "name": "stderr",
     "output_type": "stream",
     "text": [
      "[*********************100%%**********************]  1 of 1 completed\n",
      "[*********************100%%**********************]  1 of 1 completed"
     ]
    },
    {
     "name": "stdout",
     "output_type": "stream",
     "text": [
      "Data for  PRAJIND.NS saved to C:\\Users\\anind\\Desktop\\Indiana University Bloomington\\Semester 2\\I606 Network Science\\Project\\Data\\rerunning\\Project_Auto_and_Finance_Sector_250424\\Financial_Data\\ PRAJIND.NS_data.xlsx\n",
      "Downloading data for  TIL.NS\n"
     ]
    },
    {
     "name": "stderr",
     "output_type": "stream",
     "text": [
      "\n"
     ]
    },
    {
     "name": "stdout",
     "output_type": "stream",
     "text": [
      "Data for  TIL.NS saved to C:\\Users\\anind\\Desktop\\Indiana University Bloomington\\Semester 2\\I606 Network Science\\Project\\Data\\rerunning\\Project_Auto_and_Finance_Sector_250424\\Financial_Data\\ TIL.NS_data.xlsx\n",
      "Downloading data for  TEXRAIL.NS\n"
     ]
    },
    {
     "name": "stderr",
     "output_type": "stream",
     "text": [
      "[*********************100%%**********************]  1 of 1 completed\n"
     ]
    },
    {
     "name": "stdout",
     "output_type": "stream",
     "text": [
      "Data for  TEXRAIL.NS saved to C:\\Users\\anind\\Desktop\\Indiana University Bloomington\\Semester 2\\I606 Network Science\\Project\\Data\\rerunning\\Project_Auto_and_Finance_Sector_250424\\Financial_Data\\ TEXRAIL.NS_data.xlsx\n",
      "Downloading data for  THERMAX.NS\n"
     ]
    },
    {
     "name": "stderr",
     "output_type": "stream",
     "text": [
      "[*********************100%%**********************]  1 of 1 completed\n",
      "[*********************100%%**********************]  1 of 1 completed"
     ]
    },
    {
     "name": "stdout",
     "output_type": "stream",
     "text": [
      "Data for  THERMAX.NS saved to C:\\Users\\anind\\Desktop\\Indiana University Bloomington\\Semester 2\\I606 Network Science\\Project\\Data\\rerunning\\Project_Auto_and_Finance_Sector_250424\\Financial_Data\\ THERMAX.NS_data.xlsx\n",
      "Downloading data for  TITAGARH.NS\n",
      "Data for  TITAGARH.NS saved to C:\\Users\\anind\\Desktop\\Indiana University Bloomington\\Semester 2\\I606 Network Science\\Project\\Data\\rerunning\\Project_Auto_and_Finance_Sector_250424\\Financial_Data\\ TITAGARH.NS_data.xlsx\n",
      "Downloading data for  IDEAFORGE.NS\n"
     ]
    },
    {
     "name": "stderr",
     "output_type": "stream",
     "text": [
      "\n",
      "[*********************100%%**********************]  1 of 1 completed\n",
      "[*********************100%%**********************]  1 of 1 completed\n"
     ]
    },
    {
     "name": "stdout",
     "output_type": "stream",
     "text": [
      "Data for  IDEAFORGE.NS saved to C:\\Users\\anind\\Desktop\\Indiana University Bloomington\\Semester 2\\I606 Network Science\\Project\\Data\\rerunning\\Project_Auto_and_Finance_Sector_250424\\Financial_Data\\ IDEAFORGE.NS_data.xlsx\n",
      "Processing file: C:\\Users\\anind\\Desktop\\Indiana University Bloomington\\Semester 2\\I606 Network Science\\Project\\Data\\rerunning\\Project_Auto_and_Finance_Sector_250424\\E_commerce___Listing.xlsx\n",
      "Downloading data for  CARTRADE.NS\n",
      "Data for  CARTRADE.NS saved to C:\\Users\\anind\\Desktop\\Indiana University Bloomington\\Semester 2\\I606 Network Science\\Project\\Data\\rerunning\\Project_Auto_and_Finance_Sector_250424\\Financial_Data\\ CARTRADE.NS_data.xlsx\n",
      "Downloading data for  DIGIDRIVE.NS\n"
     ]
    },
    {
     "name": "stderr",
     "output_type": "stream",
     "text": [
      "[*********************100%%**********************]  1 of 1 completed\n",
      "\n",
      "1 Failed download:\n",
      "['DIGIDRIVE.NS']: Exception(\"%ticker%: Data doesn't exist for startDate = 1609439400, endDate = 1703961000\")\n",
      "[*********************100%%**********************]  1 of 1 completed\n"
     ]
    },
    {
     "name": "stdout",
     "output_type": "stream",
     "text": [
      "No data found for  DIGIDRIVE.NS\n",
      "Downloading data for  NYKAA.NS\n"
     ]
    },
    {
     "name": "stderr",
     "output_type": "stream",
     "text": [
      "[*********************100%%**********************]  1 of 1 completed"
     ]
    },
    {
     "name": "stdout",
     "output_type": "stream",
     "text": [
      "Data for  NYKAA.NS saved to C:\\Users\\anind\\Desktop\\Indiana University Bloomington\\Semester 2\\I606 Network Science\\Project\\Data\\rerunning\\Project_Auto_and_Finance_Sector_250424\\Financial_Data\\ NYKAA.NS_data.xlsx\n",
      "Downloading data for  INDIAMART.NS\n",
      "Data for  INDIAMART.NS saved to C:\\Users\\anind\\Desktop\\Indiana University Bloomington\\Semester 2\\I606 Network Science\\Project\\Data\\rerunning\\Project_Auto_and_Finance_Sector_250424\\Financial_Data\\ INDIAMART.NS_data.xlsx\n",
      "Downloading data for  ISFT.NS\n"
     ]
    },
    {
     "name": "stderr",
     "output_type": "stream",
     "text": [
      "\n",
      "[*********************100%%**********************]  1 of 1 completed\n",
      "[*********************100%%**********************]  1 of 1 completed"
     ]
    },
    {
     "name": "stdout",
     "output_type": "stream",
     "text": [
      "Data for  ISFT.NS saved to C:\\Users\\anind\\Desktop\\Indiana University Bloomington\\Semester 2\\I606 Network Science\\Project\\Data\\rerunning\\Project_Auto_and_Finance_Sector_250424\\Financial_Data\\ ISFT.NS_data.xlsx\n",
      "Downloading data for  JUSTDIAL.NS\n",
      "Data for  JUSTDIAL.NS saved to C:\\Users\\anind\\Desktop\\Indiana University Bloomington\\Semester 2\\I606 Network Science\\Project\\Data\\rerunning\\Project_Auto_and_Finance_Sector_250424\\Financial_Data\\ JUSTDIAL.NS_data.xlsx\n",
      "Processing file: C:\\Users\\anind\\Desktop\\Indiana University Bloomington\\Semester 2\\I606 Network Science\\Project\\Data\\rerunning\\Project_Auto_and_Finance_Sector_250424\\Finance___Investments.xlsx\n",
      "Downloading data for  AHL.NS\n"
     ]
    },
    {
     "name": "stderr",
     "output_type": "stream",
     "text": [
      "\n",
      "[*********************100%%**********************]  1 of 1 completed\n",
      "[*********************100%%**********************]  1 of 1 completed\n"
     ]
    },
    {
     "name": "stdout",
     "output_type": "stream",
     "text": [
      "Data for  AHL.NS saved to C:\\Users\\anind\\Desktop\\Indiana University Bloomington\\Semester 2\\I606 Network Science\\Project\\Data\\rerunning\\Project_Auto_and_Finance_Sector_250424\\Financial_Data\\ AHL.NS_data.xlsx\n",
      "Downloading data for  ABCAPITAL.NS\n",
      "Data for  ABCAPITAL.NS saved to C:\\Users\\anind\\Desktop\\Indiana University Bloomington\\Semester 2\\I606 Network Science\\Project\\Data\\rerunning\\Project_Auto_and_Finance_Sector_250424\\Financial_Data\\ ABCAPITAL.NS_data.xlsx\n",
      "Downloading data for  ALANKIT.NS\n"
     ]
    },
    {
     "name": "stderr",
     "output_type": "stream",
     "text": [
      "[*********************100%%**********************]  1 of 1 completed\n",
      "[*********************100%%**********************]  1 of 1 completed"
     ]
    },
    {
     "name": "stdout",
     "output_type": "stream",
     "text": [
      "Data for  ALANKIT.NS saved to C:\\Users\\anind\\Desktop\\Indiana University Bloomington\\Semester 2\\I606 Network Science\\Project\\Data\\rerunning\\Project_Auto_and_Finance_Sector_250424\\Financial_Data\\ ALANKIT.NS_data.xlsx\n",
      "Downloading data for  ANANDRATHI.NS\n"
     ]
    },
    {
     "name": "stderr",
     "output_type": "stream",
     "text": [
      "\n",
      "[*********************100%%**********************]  1 of 1 completed\n",
      "[*********************100%%**********************]  1 of 1 completed"
     ]
    },
    {
     "name": "stdout",
     "output_type": "stream",
     "text": [
      "Data for  ANANDRATHI.NS saved to C:\\Users\\anind\\Desktop\\Indiana University Bloomington\\Semester 2\\I606 Network Science\\Project\\Data\\rerunning\\Project_Auto_and_Finance_Sector_250424\\Financial_Data\\ ANANDRATHI.NS_data.xlsx\n",
      "Downloading data for  AVONMORE.NS\n",
      "Data for  AVONMORE.NS saved to C:\\Users\\anind\\Desktop\\Indiana University Bloomington\\Semester 2\\I606 Network Science\\Project\\Data\\rerunning\\Project_Auto_and_Finance_Sector_250424\\Financial_Data\\ AVONMORE.NS_data.xlsx\n",
      "Downloading data for  BFINVEST.NS\n"
     ]
    },
    {
     "name": "stderr",
     "output_type": "stream",
     "text": [
      "\n",
      "[*********************100%%**********************]  1 of 1 completed\n",
      "[*********************100%%**********************]  1 of 1 completed"
     ]
    },
    {
     "name": "stdout",
     "output_type": "stream",
     "text": [
      "Data for  BFINVEST.NS saved to C:\\Users\\anind\\Desktop\\Indiana University Bloomington\\Semester 2\\I606 Network Science\\Project\\Data\\rerunning\\Project_Auto_and_Finance_Sector_250424\\Financial_Data\\ BFINVEST.NS_data.xlsx\n",
      "Downloading data for  BAIDFIN.NS\n",
      "Data for  BAIDFIN.NS saved to C:\\Users\\anind\\Desktop\\Indiana University Bloomington\\Semester 2\\I606 Network Science\\Project\\Data\\rerunning\\Project_Auto_and_Finance_Sector_250424\\Financial_Data\\ BAIDFIN.NS_data.xlsx\n",
      "Downloading data for  BAJAJFINSV.NS\n"
     ]
    },
    {
     "name": "stderr",
     "output_type": "stream",
     "text": [
      "\n",
      "[*********************100%%**********************]  1 of 1 completed"
     ]
    },
    {
     "name": "stdout",
     "output_type": "stream",
     "text": [
      "Data for  BAJAJFINSV.NS saved to C:\\Users\\anind\\Desktop\\Indiana University Bloomington\\Semester 2\\I606 Network Science\\Project\\Data\\rerunning\\Project_Auto_and_Finance_Sector_250424\\Financial_Data\\ BAJAJFINSV.NS_data.xlsx\n",
      "Downloading data for  BAJAJHLDNG.NS\n"
     ]
    },
    {
     "name": "stderr",
     "output_type": "stream",
     "text": [
      "\n",
      "[*********************100%%**********************]  1 of 1 completed"
     ]
    },
    {
     "name": "stdout",
     "output_type": "stream",
     "text": [
      "Data for  BAJAJHLDNG.NS saved to C:\\Users\\anind\\Desktop\\Indiana University Bloomington\\Semester 2\\I606 Network Science\\Project\\Data\\rerunning\\Project_Auto_and_Finance_Sector_250424\\Financial_Data\\ BAJAJHLDNG.NS_data.xlsx\n",
      "Downloading data for  CSLFINANCE.NS\n",
      "Data for  CSLFINANCE.NS saved to C:\\Users\\anind\\Desktop\\Indiana University Bloomington\\Semester 2\\I606 Network Science\\Project\\Data\\rerunning\\Project_Auto_and_Finance_Sector_250424\\Financial_Data\\ CSLFINANCE.NS_data.xlsx\n",
      "Downloading data for  CENTRUM.NS\n"
     ]
    },
    {
     "name": "stderr",
     "output_type": "stream",
     "text": [
      "\n",
      "[*********************100%%**********************]  1 of 1 completed\n",
      "[*********************100%%**********************]  1 of 1 completed\n"
     ]
    },
    {
     "name": "stdout",
     "output_type": "stream",
     "text": [
      "Data for  CENTRUM.NS saved to C:\\Users\\anind\\Desktop\\Indiana University Bloomington\\Semester 2\\I606 Network Science\\Project\\Data\\rerunning\\Project_Auto_and_Finance_Sector_250424\\Financial_Data\\ CENTRUM.NS_data.xlsx\n",
      "Downloading data for  CHOICEIN.NS\n",
      "Data for  CHOICEIN.NS saved to C:\\Users\\anind\\Desktop\\Indiana University Bloomington\\Semester 2\\I606 Network Science\\Project\\Data\\rerunning\\Project_Auto_and_Finance_Sector_250424\\Financial_Data\\ CHOICEIN.NS_data.xlsx\n",
      "Downloading data for  CHOLAHLDNG.NS\n"
     ]
    },
    {
     "name": "stderr",
     "output_type": "stream",
     "text": [
      "[*********************100%%**********************]  1 of 1 completed\n"
     ]
    },
    {
     "name": "stdout",
     "output_type": "stream",
     "text": [
      "Data for  CHOLAHLDNG.NS saved to C:\\Users\\anind\\Desktop\\Indiana University Bloomington\\Semester 2\\I606 Network Science\\Project\\Data\\rerunning\\Project_Auto_and_Finance_Sector_250424\\Financial_Data\\ CHOLAHLDNG.NS_data.xlsx\n",
      "Downloading data for  CREST.NS\n"
     ]
    },
    {
     "name": "stderr",
     "output_type": "stream",
     "text": [
      "[*********************100%%**********************]  1 of 1 completed\n",
      "[*********************100%%**********************]  1 of 1 completed"
     ]
    },
    {
     "name": "stdout",
     "output_type": "stream",
     "text": [
      "Data for  CREST.NS saved to C:\\Users\\anind\\Desktop\\Indiana University Bloomington\\Semester 2\\I606 Network Science\\Project\\Data\\rerunning\\Project_Auto_and_Finance_Sector_250424\\Financial_Data\\ CREST.NS_data.xlsx\n",
      "Downloading data for  DELPHIFX.NS\n"
     ]
    },
    {
     "name": "stderr",
     "output_type": "stream",
     "text": [
      "\n"
     ]
    },
    {
     "name": "stdout",
     "output_type": "stream",
     "text": [
      "Data for  DELPHIFX.NS saved to C:\\Users\\anind\\Desktop\\Indiana University Bloomington\\Semester 2\\I606 Network Science\\Project\\Data\\rerunning\\Project_Auto_and_Finance_Sector_250424\\Financial_Data\\ DELPHIFX.NS_data.xlsx\n",
      "Downloading data for  DHANI.NS\n"
     ]
    },
    {
     "name": "stderr",
     "output_type": "stream",
     "text": [
      "[*********************100%%**********************]  1 of 1 completed\n",
      "[*********************100%%**********************]  1 of 1 completed"
     ]
    },
    {
     "name": "stdout",
     "output_type": "stream",
     "text": [
      "Data for  DHANI.NS saved to C:\\Users\\anind\\Desktop\\Indiana University Bloomington\\Semester 2\\I606 Network Science\\Project\\Data\\rerunning\\Project_Auto_and_Finance_Sector_250424\\Financial_Data\\ DHANI.NS_data.xlsx\n",
      "Downloading data for  EDELWEISS.NS\n"
     ]
    },
    {
     "name": "stderr",
     "output_type": "stream",
     "text": [
      "\n",
      "[*********************100%%**********************]  1 of 1 completed"
     ]
    },
    {
     "name": "stdout",
     "output_type": "stream",
     "text": [
      "Data for  EDELWEISS.NS saved to C:\\Users\\anind\\Desktop\\Indiana University Bloomington\\Semester 2\\I606 Network Science\\Project\\Data\\rerunning\\Project_Auto_and_Finance_Sector_250424\\Financial_Data\\ EDELWEISS.NS_data.xlsx\n",
      "Downloading data for  FEDFINA.NS\n",
      "Data for  FEDFINA.NS saved to C:\\Users\\anind\\Desktop\\Indiana University Bloomington\\Semester 2\\I606 Network Science\\Project\\Data\\rerunning\\Project_Auto_and_Finance_Sector_250424\\Financial_Data\\ FEDFINA.NS_data.xlsx\n",
      "Downloading data for  FIVESTAR.NS\n"
     ]
    },
    {
     "name": "stderr",
     "output_type": "stream",
     "text": [
      "\n",
      "[*********************100%%**********************]  1 of 1 completed\n",
      "[*********************100%%**********************]  1 of 1 completed\n"
     ]
    },
    {
     "name": "stdout",
     "output_type": "stream",
     "text": [
      "Data for  FIVESTAR.NS saved to C:\\Users\\anind\\Desktop\\Indiana University Bloomington\\Semester 2\\I606 Network Science\\Project\\Data\\rerunning\\Project_Auto_and_Finance_Sector_250424\\Financial_Data\\ FIVESTAR.NS_data.xlsx\n",
      "Downloading data for  FUSION.NS\n",
      "Data for  FUSION.NS saved to C:\\Users\\anind\\Desktop\\Indiana University Bloomington\\Semester 2\\I606 Network Science\\Project\\Data\\rerunning\\Project_Auto_and_Finance_Sector_250424\\Financial_Data\\ FUSION.NS_data.xlsx\n",
      "Downloading data for  GANGESSECU.NS\n"
     ]
    },
    {
     "name": "stderr",
     "output_type": "stream",
     "text": [
      "[*********************100%%**********************]  1 of 1 completed\n",
      "[*********************100%%**********************]  1 of 1 completed"
     ]
    },
    {
     "name": "stdout",
     "output_type": "stream",
     "text": [
      "Data for  GANGESSECU.NS saved to C:\\Users\\anind\\Desktop\\Indiana University Bloomington\\Semester 2\\I606 Network Science\\Project\\Data\\rerunning\\Project_Auto_and_Finance_Sector_250424\\Financial_Data\\ GANGESSECU.NS_data.xlsx\n",
      "Downloading data for  ICDSLTD.NS\n",
      "Data for  ICDSLTD.NS saved to C:\\Users\\anind\\Desktop\\Indiana University Bloomington\\Semester 2\\I606 Network Science\\Project\\Data\\rerunning\\Project_Auto_and_Finance_Sector_250424\\Financial_Data\\ ICDSLTD.NS_data.xlsx\n",
      "Downloading data for  ISGEC.NS\n"
     ]
    },
    {
     "name": "stderr",
     "output_type": "stream",
     "text": [
      "\n",
      "[*********************100%%**********************]  1 of 1 completed\n",
      "[*********************100%%**********************]  1 of 1 completed\n"
     ]
    },
    {
     "name": "stdout",
     "output_type": "stream",
     "text": [
      "Data for  ISGEC.NS saved to C:\\Users\\anind\\Desktop\\Indiana University Bloomington\\Semester 2\\I606 Network Science\\Project\\Data\\rerunning\\Project_Auto_and_Finance_Sector_250424\\Financial_Data\\ ISGEC.NS_data.xlsx\n",
      "Downloading data for  IEL.NS\n",
      "Data for  IEL.NS saved to C:\\Users\\anind\\Desktop\\Indiana University Bloomington\\Semester 2\\I606 Network Science\\Project\\Data\\rerunning\\Project_Auto_and_Finance_Sector_250424\\Financial_Data\\ IEL.NS_data.xlsx\n",
      "Downloading data for  IITL.NS\n"
     ]
    },
    {
     "name": "stderr",
     "output_type": "stream",
     "text": [
      "[*********************100%%**********************]  1 of 1 completed\n",
      "[*********************100%%**********************]  1 of 1 completed"
     ]
    },
    {
     "name": "stdout",
     "output_type": "stream",
     "text": [
      "Data for  IITL.NS saved to C:\\Users\\anind\\Desktop\\Indiana University Bloomington\\Semester 2\\I606 Network Science\\Project\\Data\\rerunning\\Project_Auto_and_Finance_Sector_250424\\Financial_Data\\ IITL.NS_data.xlsx\n",
      "Downloading data for  JSWHL.NS\n"
     ]
    },
    {
     "name": "stderr",
     "output_type": "stream",
     "text": [
      "\n",
      "[*********************100%%**********************]  1 of 1 completed\n"
     ]
    },
    {
     "name": "stdout",
     "output_type": "stream",
     "text": [
      "Data for  JSWHL.NS saved to C:\\Users\\anind\\Desktop\\Indiana University Bloomington\\Semester 2\\I606 Network Science\\Project\\Data\\rerunning\\Project_Auto_and_Finance_Sector_250424\\Financial_Data\\ JSWHL.NS_data.xlsx\n",
      "Downloading data for  JPOLYINVST.NS\n",
      "Data for  JPOLYINVST.NS saved to C:\\Users\\anind\\Desktop\\Indiana University Bloomington\\Semester 2\\I606 Network Science\\Project\\Data\\rerunning\\Project_Auto_and_Finance_Sector_250424\\Financial_Data\\ JPOLYINVST.NS_data.xlsx\n",
      "Downloading data for  JIOFIN.NS\n"
     ]
    },
    {
     "name": "stderr",
     "output_type": "stream",
     "text": [
      "[*********************100%%**********************]  1 of 1 completed\n",
      "[*********************100%%**********************]  1 of 1 completed\n"
     ]
    },
    {
     "name": "stdout",
     "output_type": "stream",
     "text": [
      "Data for  JIOFIN.NS saved to C:\\Users\\anind\\Desktop\\Indiana University Bloomington\\Semester 2\\I606 Network Science\\Project\\Data\\rerunning\\Project_Auto_and_Finance_Sector_250424\\Financial_Data\\ JIOFIN.NS_data.xlsx\n",
      "Downloading data for  KFINTECH.NS\n",
      "Data for  KFINTECH.NS saved to C:\\Users\\anind\\Desktop\\Indiana University Bloomington\\Semester 2\\I606 Network Science\\Project\\Data\\rerunning\\Project_Auto_and_Finance_Sector_250424\\Financial_Data\\ KFINTECH.NS_data.xlsx\n",
      "Downloading data for  KICL.NS\n"
     ]
    },
    {
     "name": "stderr",
     "output_type": "stream",
     "text": [
      "[*********************100%%**********************]  1 of 1 completed\n"
     ]
    },
    {
     "name": "stdout",
     "output_type": "stream",
     "text": [
      "Data for  KICL.NS saved to C:\\Users\\anind\\Desktop\\Indiana University Bloomington\\Semester 2\\I606 Network Science\\Project\\Data\\rerunning\\Project_Auto_and_Finance_Sector_250424\\Financial_Data\\ KICL.NS_data.xlsx\n",
      "Downloading data for  LFIC.NS\n"
     ]
    },
    {
     "name": "stderr",
     "output_type": "stream",
     "text": [
      "[*********************100%%**********************]  1 of 1 completed\n",
      "[*********************100%%**********************]  1 of 1 completed"
     ]
    },
    {
     "name": "stdout",
     "output_type": "stream",
     "text": [
      "Data for  LFIC.NS saved to C:\\Users\\anind\\Desktop\\Indiana University Bloomington\\Semester 2\\I606 Network Science\\Project\\Data\\rerunning\\Project_Auto_and_Finance_Sector_250424\\Financial_Data\\ LFIC.NS_data.xlsx\n",
      "Downloading data for  MCDHOLDING.NS\n",
      "Data for  MCDHOLDING.NS saved to C:\\Users\\anind\\Desktop\\Indiana University Bloomington\\Semester 2\\I606 Network Science\\Project\\Data\\rerunning\\Project_Auto_and_Finance_Sector_250424\\Financial_Data\\ MCDHOLDING.NS_data.xlsx\n",
      "Downloading data for  MONARCH.NS\n"
     ]
    },
    {
     "name": "stderr",
     "output_type": "stream",
     "text": [
      "\n",
      "[*********************100%%**********************]  1 of 1 completed\n",
      "[*********************100%%**********************]  1 of 1 completed\n",
      "[*********************100%%**********************]  1 of 1 completed"
     ]
    },
    {
     "name": "stdout",
     "output_type": "stream",
     "text": [
      "Data for  MONARCH.NS saved to C:\\Users\\anind\\Desktop\\Indiana University Bloomington\\Semester 2\\I606 Network Science\\Project\\Data\\rerunning\\Project_Auto_and_Finance_Sector_250424\\Financial_Data\\ MONARCH.NS_data.xlsx\n",
      "Downloading data for  MUFIN.NS\n",
      "Data for  MUFIN.NS saved to C:\\Users\\anind\\Desktop\\Indiana University Bloomington\\Semester 2\\I606 Network Science\\Project\\Data\\rerunning\\Project_Auto_and_Finance_Sector_250424\\Financial_Data\\ MUFIN.NS_data.xlsx\n",
      "Downloading data for  MUTHOOTMF.NS\n"
     ]
    },
    {
     "name": "stderr",
     "output_type": "stream",
     "text": [
      "\n",
      "[*********************100%%**********************]  1 of 1 completed\n"
     ]
    },
    {
     "name": "stdout",
     "output_type": "stream",
     "text": [
      "Data for  MUTHOOTMF.NS saved to C:\\Users\\anind\\Desktop\\Indiana University Bloomington\\Semester 2\\I606 Network Science\\Project\\Data\\rerunning\\Project_Auto_and_Finance_Sector_250424\\Financial_Data\\ MUTHOOTMF.NS_data.xlsx\n",
      "Downloading data for  NAHARCAP.NS\n"
     ]
    },
    {
     "name": "stderr",
     "output_type": "stream",
     "text": [
      "[*********************100%%**********************]  1 of 1 completed"
     ]
    },
    {
     "name": "stdout",
     "output_type": "stream",
     "text": [
      "Data for  NAHARCAP.NS saved to C:\\Users\\anind\\Desktop\\Indiana University Bloomington\\Semester 2\\I606 Network Science\\Project\\Data\\rerunning\\Project_Auto_and_Finance_Sector_250424\\Financial_Data\\ NAHARCAP.NS_data.xlsx\n",
      "Downloading data for  NSIL.NS\n"
     ]
    },
    {
     "name": "stderr",
     "output_type": "stream",
     "text": [
      "\n",
      "[*********************100%%**********************]  1 of 1 completed\n"
     ]
    },
    {
     "name": "stdout",
     "output_type": "stream",
     "text": [
      "Data for  NSIL.NS saved to C:\\Users\\anind\\Desktop\\Indiana University Bloomington\\Semester 2\\I606 Network Science\\Project\\Data\\rerunning\\Project_Auto_and_Finance_Sector_250424\\Financial_Data\\ NSIL.NS_data.xlsx\n",
      "Downloading data for  NUVAMA.NS\n",
      "Data for  NUVAMA.NS saved to C:\\Users\\anind\\Desktop\\Indiana University Bloomington\\Semester 2\\I606 Network Science\\Project\\Data\\rerunning\\Project_Auto_and_Finance_Sector_250424\\Financial_Data\\ NUVAMA.NS_data.xlsx\n",
      "Downloading data for  PFS.NS\n"
     ]
    },
    {
     "name": "stderr",
     "output_type": "stream",
     "text": [
      "[*********************100%%**********************]  1 of 1 completed\n",
      "[*********************100%%**********************]  1 of 1 completed"
     ]
    },
    {
     "name": "stdout",
     "output_type": "stream",
     "text": [
      "Data for  PFS.NS saved to C:\\Users\\anind\\Desktop\\Indiana University Bloomington\\Semester 2\\I606 Network Science\\Project\\Data\\rerunning\\Project_Auto_and_Finance_Sector_250424\\Financial_Data\\ PFS.NS_data.xlsx\n",
      "Downloading data for  PALASHSECU.NS\n"
     ]
    },
    {
     "name": "stderr",
     "output_type": "stream",
     "text": [
      "\n",
      "[*********************100%%**********************]  1 of 1 completed"
     ]
    },
    {
     "name": "stdout",
     "output_type": "stream",
     "text": [
      "Data for  PALASHSECU.NS saved to C:\\Users\\anind\\Desktop\\Indiana University Bloomington\\Semester 2\\I606 Network Science\\Project\\Data\\rerunning\\Project_Auto_and_Finance_Sector_250424\\Financial_Data\\ PALASHSECU.NS_data.xlsx\n",
      "Downloading data for  PILANIINVS.NS\n"
     ]
    },
    {
     "name": "stderr",
     "output_type": "stream",
     "text": [
      "\n",
      "[*********************100%%**********************]  1 of 1 completed\n"
     ]
    },
    {
     "name": "stdout",
     "output_type": "stream",
     "text": [
      "Data for  PILANIINVS.NS saved to C:\\Users\\anind\\Desktop\\Indiana University Bloomington\\Semester 2\\I606 Network Science\\Project\\Data\\rerunning\\Project_Auto_and_Finance_Sector_250424\\Financial_Data\\ PILANIINVS.NS_data.xlsx\n",
      "Downloading data for  PRUDENT.NS\n",
      "Data for  PRUDENT.NS saved to C:\\Users\\anind\\Desktop\\Indiana University Bloomington\\Semester 2\\I606 Network Science\\Project\\Data\\rerunning\\Project_Auto_and_Finance_Sector_250424\\Financial_Data\\ PRUDENT.NS_data.xlsx\n",
      "Downloading data for  RANEHOLDIN.NS\n"
     ]
    },
    {
     "name": "stderr",
     "output_type": "stream",
     "text": [
      "[*********************100%%**********************]  1 of 1 completed\n",
      "[*********************100%%**********************]  1 of 1 completed"
     ]
    },
    {
     "name": "stdout",
     "output_type": "stream",
     "text": [
      "Data for  RANEHOLDIN.NS saved to C:\\Users\\anind\\Desktop\\Indiana University Bloomington\\Semester 2\\I606 Network Science\\Project\\Data\\rerunning\\Project_Auto_and_Finance_Sector_250424\\Financial_Data\\ RANEHOLDIN.NS_data.xlsx\n",
      "Downloading data for  RELCAPITAL.NS\n"
     ]
    },
    {
     "name": "stderr",
     "output_type": "stream",
     "text": [
      "\n",
      "[*********************100%%**********************]  1 of 1 completed"
     ]
    },
    {
     "name": "stdout",
     "output_type": "stream",
     "text": [
      "Data for  RELCAPITAL.NS saved to C:\\Users\\anind\\Desktop\\Indiana University Bloomington\\Semester 2\\I606 Network Science\\Project\\Data\\rerunning\\Project_Auto_and_Finance_Sector_250424\\Financial_Data\\ RELCAPITAL.NS_data.xlsx\n",
      "Downloading data for  SBFC.NS\n",
      "Data for  SBFC.NS saved to C:\\Users\\anind\\Desktop\\Indiana University Bloomington\\Semester 2\\I606 Network Science\\Project\\Data\\rerunning\\Project_Auto_and_Finance_Sector_250424\\Financial_Data\\ SBFC.NS_data.xlsx\n",
      "Downloading data for  SILINV.NS\n"
     ]
    },
    {
     "name": "stderr",
     "output_type": "stream",
     "text": [
      "\n",
      "[*********************100%%**********************]  1 of 1 completed\n",
      "[*********************100%%**********************]  1 of 1 completed"
     ]
    },
    {
     "name": "stdout",
     "output_type": "stream",
     "text": [
      "Data for  SILINV.NS saved to C:\\Users\\anind\\Desktop\\Indiana University Bloomington\\Semester 2\\I606 Network Science\\Project\\Data\\rerunning\\Project_Auto_and_Finance_Sector_250424\\Financial_Data\\ SILINV.NS_data.xlsx\n",
      "Downloading data for  SMCGLOBAL.NS\n"
     ]
    },
    {
     "name": "stderr",
     "output_type": "stream",
     "text": [
      "\n",
      "[*********************100%%**********************]  1 of 1 completed"
     ]
    },
    {
     "name": "stdout",
     "output_type": "stream",
     "text": [
      "Data for  SMCGLOBAL.NS saved to C:\\Users\\anind\\Desktop\\Indiana University Bloomington\\Semester 2\\I606 Network Science\\Project\\Data\\rerunning\\Project_Auto_and_Finance_Sector_250424\\Financial_Data\\ SMCGLOBAL.NS_data.xlsx\n",
      "Downloading data for  STEL.NS\n"
     ]
    },
    {
     "name": "stderr",
     "output_type": "stream",
     "text": [
      "\n",
      "[*********************100%%**********************]  1 of 1 completed\n",
      "[*********************100%%**********************]  1 of 1 completed"
     ]
    },
    {
     "name": "stdout",
     "output_type": "stream",
     "text": [
      "Data for  STEL.NS saved to C:\\Users\\anind\\Desktop\\Indiana University Bloomington\\Semester 2\\I606 Network Science\\Project\\Data\\rerunning\\Project_Auto_and_Finance_Sector_250424\\Financial_Data\\ STEL.NS_data.xlsx\n",
      "Downloading data for  SINDHUTRAD.NS\n",
      "Data for  SINDHUTRAD.NS saved to C:\\Users\\anind\\Desktop\\Indiana University Bloomington\\Semester 2\\I606 Network Science\\Project\\Data\\rerunning\\Project_Auto_and_Finance_Sector_250424\\Financial_Data\\ SINDHUTRAD.NS_data.xlsx\n",
      "Downloading data for  STARTECK.NS\n"
     ]
    },
    {
     "name": "stderr",
     "output_type": "stream",
     "text": [
      "\n",
      "[*********************100%%**********************]  1 of 1 completed\n"
     ]
    },
    {
     "name": "stdout",
     "output_type": "stream",
     "text": [
      "Data for  STARTECK.NS saved to C:\\Users\\anind\\Desktop\\Indiana University Bloomington\\Semester 2\\I606 Network Science\\Project\\Data\\rerunning\\Project_Auto_and_Finance_Sector_250424\\Financial_Data\\ STARTECK.NS_data.xlsx\n",
      "Downloading data for  SUMMITSEC.NS\n",
      "Data for  SUMMITSEC.NS saved to C:\\Users\\anind\\Desktop\\Indiana University Bloomington\\Semester 2\\I606 Network Science\\Project\\Data\\rerunning\\Project_Auto_and_Finance_Sector_250424\\Financial_Data\\ SUMMITSEC.NS_data.xlsx\n",
      "Downloading data for  SUVIDHAA.NS\n"
     ]
    },
    {
     "name": "stderr",
     "output_type": "stream",
     "text": [
      "[*********************100%%**********************]  1 of 1 completed\n",
      "[*********************100%%**********************]  1 of 1 completed"
     ]
    },
    {
     "name": "stdout",
     "output_type": "stream",
     "text": [
      "Data for  SUVIDHAA.NS saved to C:\\Users\\anind\\Desktop\\Indiana University Bloomington\\Semester 2\\I606 Network Science\\Project\\Data\\rerunning\\Project_Auto_and_Finance_Sector_250424\\Financial_Data\\ SUVIDHAA.NS_data.xlsx\n",
      "Downloading data for  TATAINVEST.NS\n"
     ]
    },
    {
     "name": "stderr",
     "output_type": "stream",
     "text": [
      "\n",
      "[*********************100%%**********************]  1 of 1 completed"
     ]
    },
    {
     "name": "stdout",
     "output_type": "stream",
     "text": [
      "Data for  TATAINVEST.NS saved to C:\\Users\\anind\\Desktop\\Indiana University Bloomington\\Semester 2\\I606 Network Science\\Project\\Data\\rerunning\\Project_Auto_and_Finance_Sector_250424\\Financial_Data\\ TATAINVEST.NS_data.xlsx\n",
      "Downloading data for  TFCILTD.NS\n",
      "Data for  TFCILTD.NS saved to C:\\Users\\anind\\Desktop\\Indiana University Bloomington\\Semester 2\\I606 Network Science\\Project\\Data\\rerunning\\Project_Auto_and_Finance_Sector_250424\\Financial_Data\\ TFCILTD.NS_data.xlsx\n",
      "Downloading data for  TRU.NS\n"
     ]
    },
    {
     "name": "stderr",
     "output_type": "stream",
     "text": [
      "\n",
      "[*********************100%%**********************]  1 of 1 completed\n",
      "[*********************100%%**********************]  1 of 1 completed\n"
     ]
    },
    {
     "name": "stdout",
     "output_type": "stream",
     "text": [
      "Data for  TRU.NS saved to C:\\Users\\anind\\Desktop\\Indiana University Bloomington\\Semester 2\\I606 Network Science\\Project\\Data\\rerunning\\Project_Auto_and_Finance_Sector_250424\\Financial_Data\\ TRU.NS_data.xlsx\n",
      "Downloading data for  UGROCAP.NS\n",
      "Data for  UGROCAP.NS saved to C:\\Users\\anind\\Desktop\\Indiana University Bloomington\\Semester 2\\I606 Network Science\\Project\\Data\\rerunning\\Project_Auto_and_Finance_Sector_250424\\Financial_Data\\ UGROCAP.NS_data.xlsx\n",
      "Downloading data for  VHL.NS\n"
     ]
    },
    {
     "name": "stderr",
     "output_type": "stream",
     "text": [
      "[*********************100%%**********************]  1 of 1 completed\n",
      "[*********************100%%**********************]  1 of 1 completed"
     ]
    },
    {
     "name": "stdout",
     "output_type": "stream",
     "text": [
      "Data for  VHL.NS saved to C:\\Users\\anind\\Desktop\\Indiana University Bloomington\\Semester 2\\I606 Network Science\\Project\\Data\\rerunning\\Project_Auto_and_Finance_Sector_250424\\Financial_Data\\ VHL.NS_data.xlsx\n",
      "Downloading data for  VIJIFIN.NS\n"
     ]
    },
    {
     "name": "stderr",
     "output_type": "stream",
     "text": [
      "\n",
      "[*********************100%%**********************]  1 of 1 completed"
     ]
    },
    {
     "name": "stdout",
     "output_type": "stream",
     "text": [
      "Data for  VIJIFIN.NS saved to C:\\Users\\anind\\Desktop\\Indiana University Bloomington\\Semester 2\\I606 Network Science\\Project\\Data\\rerunning\\Project_Auto_and_Finance_Sector_250424\\Financial_Data\\ VIJIFIN.NS_data.xlsx\n",
      "Downloading data for  WILLAMAGOR.NS\n"
     ]
    },
    {
     "name": "stderr",
     "output_type": "stream",
     "text": [
      "\n"
     ]
    },
    {
     "name": "stdout",
     "output_type": "stream",
     "text": [
      "Data for  WILLAMAGOR.NS saved to C:\\Users\\anind\\Desktop\\Indiana University Bloomington\\Semester 2\\I606 Network Science\\Project\\Data\\rerunning\\Project_Auto_and_Finance_Sector_250424\\Financial_Data\\ WILLAMAGOR.NS_data.xlsx\n",
      "Processing file: C:\\Users\\anind\\Desktop\\Indiana University Bloomington\\Semester 2\\I606 Network Science\\Project\\Data\\rerunning\\Project_Auto_and_Finance_Sector_250424\\General_Insurance.xlsx\n",
      "Downloading data for Unknown.NS\n"
     ]
    },
    {
     "name": "stderr",
     "output_type": "stream",
     "text": [
      "[*********************100%%**********************]  1 of 1 completed\n",
      "\n",
      "1 Failed download:\n",
      "['UNKNOWN.NS']: Exception('%ticker%: No timezone found, symbol may be delisted')\n",
      "[*********************100%%**********************]  1 of 1 completed\n"
     ]
    },
    {
     "name": "stdout",
     "output_type": "stream",
     "text": [
      "No data found for Unknown.NS\n",
      "Downloading data for  ICICIGI.NS\n",
      "Data for  ICICIGI.NS saved to C:\\Users\\anind\\Desktop\\Indiana University Bloomington\\Semester 2\\I606 Network Science\\Project\\Data\\rerunning\\Project_Auto_and_Finance_Sector_250424\\Financial_Data\\ ICICIGI.NS_data.xlsx\n",
      "Downloading data for  STARHEALTH.NS\n"
     ]
    },
    {
     "name": "stderr",
     "output_type": "stream",
     "text": [
      "[*********************100%%**********************]  1 of 1 completed\n",
      "[*********************100%%**********************]  1 of 1 completed"
     ]
    },
    {
     "name": "stdout",
     "output_type": "stream",
     "text": [
      "Data for  STARHEALTH.NS saved to C:\\Users\\anind\\Desktop\\Indiana University Bloomington\\Semester 2\\I606 Network Science\\Project\\Data\\rerunning\\Project_Auto_and_Finance_Sector_250424\\Financial_Data\\ STARHEALTH.NS_data.xlsx\n",
      "Downloading data for  NIACL.NS\n"
     ]
    },
    {
     "name": "stderr",
     "output_type": "stream",
     "text": [
      "\n"
     ]
    },
    {
     "name": "stdout",
     "output_type": "stream",
     "text": [
      "Data for  NIACL.NS saved to C:\\Users\\anind\\Desktop\\Indiana University Bloomington\\Semester 2\\I606 Network Science\\Project\\Data\\rerunning\\Project_Auto_and_Finance_Sector_250424\\Financial_Data\\ NIACL.NS_data.xlsx\n",
      "Processing file: C:\\Users\\anind\\Desktop\\Indiana University Bloomington\\Semester 2\\I606 Network Science\\Project\\Data\\rerunning\\Project_Auto_and_Finance_Sector_250424\\Heavy_Electrical_Equipment.xlsx\n",
      "Downloading data for  ABB.NS\n"
     ]
    },
    {
     "name": "stderr",
     "output_type": "stream",
     "text": [
      "[*********************100%%**********************]  1 of 1 completed\n",
      "[*********************100%%**********************]  1 of 1 completed"
     ]
    },
    {
     "name": "stdout",
     "output_type": "stream",
     "text": [
      "Data for  ABB.NS saved to C:\\Users\\anind\\Desktop\\Indiana University Bloomington\\Semester 2\\I606 Network Science\\Project\\Data\\rerunning\\Project_Auto_and_Finance_Sector_250424\\Financial_Data\\ ABB.NS_data.xlsx\n",
      "Downloading data for  AARON.NS\n"
     ]
    },
    {
     "name": "stderr",
     "output_type": "stream",
     "text": [
      "\n",
      "[*********************100%%**********************]  1 of 1 completed"
     ]
    },
    {
     "name": "stdout",
     "output_type": "stream",
     "text": [
      "Data for  AARON.NS saved to C:\\Users\\anind\\Desktop\\Indiana University Bloomington\\Semester 2\\I606 Network Science\\Project\\Data\\rerunning\\Project_Auto_and_Finance_Sector_250424\\Financial_Data\\ AARON.NS_data.xlsx\n",
      "Downloading data for  BBL.NS\n",
      "Data for  BBL.NS saved to C:\\Users\\anind\\Desktop\\Indiana University Bloomington\\Semester 2\\I606 Network Science\\Project\\Data\\rerunning\\Project_Auto_and_Finance_Sector_250424\\Financial_Data\\ BBL.NS_data.xlsx\n",
      "Downloading data for  BHEL.NS\n"
     ]
    },
    {
     "name": "stderr",
     "output_type": "stream",
     "text": [
      "\n",
      "[*********************100%%**********************]  1 of 1 completed\n",
      "[*********************100%%**********************]  1 of 1 completed"
     ]
    },
    {
     "name": "stdout",
     "output_type": "stream",
     "text": [
      "Data for  BHEL.NS saved to C:\\Users\\anind\\Desktop\\Indiana University Bloomington\\Semester 2\\I606 Network Science\\Project\\Data\\rerunning\\Project_Auto_and_Finance_Sector_250424\\Financial_Data\\ BHEL.NS_data.xlsx\n",
      "Downloading data for  CGPOWER.NS\n"
     ]
    },
    {
     "name": "stderr",
     "output_type": "stream",
     "text": [
      "\n",
      "[*********************100%%**********************]  1 of 1 completed\n"
     ]
    },
    {
     "name": "stdout",
     "output_type": "stream",
     "text": [
      "Data for  CGPOWER.NS saved to C:\\Users\\anind\\Desktop\\Indiana University Bloomington\\Semester 2\\I606 Network Science\\Project\\Data\\rerunning\\Project_Auto_and_Finance_Sector_250424\\Financial_Data\\ CGPOWER.NS_data.xlsx\n",
      "Downloading data for  EMCO.NS\n",
      "Data for  EMCO.NS saved to C:\\Users\\anind\\Desktop\\Indiana University Bloomington\\Semester 2\\I606 Network Science\\Project\\Data\\rerunning\\Project_Auto_and_Finance_Sector_250424\\Financial_Data\\ EMCO.NS_data.xlsx\n",
      "Downloading data for  EXICOM.NS\n"
     ]
    },
    {
     "name": "stderr",
     "output_type": "stream",
     "text": [
      "[*********************100%%**********************]  1 of 1 completed\n",
      "\n",
      "1 Failed download:\n",
      "['EXICOM.NS']: Exception(\"%ticker%: Data doesn't exist for startDate = 1609439400, endDate = 1703961000\")\n",
      "[*********************100%%**********************]  1 of 1 completed\n"
     ]
    },
    {
     "name": "stdout",
     "output_type": "stream",
     "text": [
      "No data found for  EXICOM.NS\n",
      "Downloading data for  GET&D.NS\n"
     ]
    },
    {
     "name": "stderr",
     "output_type": "stream",
     "text": [
      "[*********************100%%**********************]  1 of 1 completed"
     ]
    },
    {
     "name": "stdout",
     "output_type": "stream",
     "text": [
      "Data for  GET&D.NS saved to C:\\Users\\anind\\Desktop\\Indiana University Bloomington\\Semester 2\\I606 Network Science\\Project\\Data\\rerunning\\Project_Auto_and_Finance_Sector_250424\\Financial_Data\\ GET&D.NS_data.xlsx\n",
      "Downloading data for  POWERINDIA.NS\n",
      "Data for  POWERINDIA.NS saved to C:\\Users\\anind\\Desktop\\Indiana University Bloomington\\Semester 2\\I606 Network Science\\Project\\Data\\rerunning\\Project_Auto_and_Finance_Sector_250424\\Financial_Data\\ POWERINDIA.NS_data.xlsx\n",
      "Downloading data for  INDLMETER.NS\n"
     ]
    },
    {
     "name": "stderr",
     "output_type": "stream",
     "text": [
      "\n",
      "[*********************100%%**********************]  1 of 1 completed\n"
     ]
    },
    {
     "name": "stdout",
     "output_type": "stream",
     "text": [
      "Data for  INDLMETER.NS saved to C:\\Users\\anind\\Desktop\\Indiana University Bloomington\\Semester 2\\I606 Network Science\\Project\\Data\\rerunning\\Project_Auto_and_Finance_Sector_250424\\Financial_Data\\ INDLMETER.NS_data.xlsx\n",
      "Downloading data for  INDOTECH.NS\n"
     ]
    },
    {
     "name": "stderr",
     "output_type": "stream",
     "text": [
      "[*********************100%%**********************]  1 of 1 completed\n",
      "[*********************100%%**********************]  1 of 1 completed"
     ]
    },
    {
     "name": "stdout",
     "output_type": "stream",
     "text": [
      "Data for  INDOTECH.NS saved to C:\\Users\\anind\\Desktop\\Indiana University Bloomington\\Semester 2\\I606 Network Science\\Project\\Data\\rerunning\\Project_Auto_and_Finance_Sector_250424\\Financial_Data\\ INDOTECH.NS_data.xlsx\n",
      "Downloading data for  IWEL.NS\n",
      "Data for  IWEL.NS saved to C:\\Users\\anind\\Desktop\\Indiana University Bloomington\\Semester 2\\I606 Network Science\\Project\\Data\\rerunning\\Project_Auto_and_Finance_Sector_250424\\Financial_Data\\ IWEL.NS_data.xlsx\n",
      "Downloading data for  INOXWIND.NS\n"
     ]
    },
    {
     "name": "stderr",
     "output_type": "stream",
     "text": [
      "\n",
      "[*********************100%%**********************]  1 of 1 completed\n",
      "[*********************100%%**********************]  1 of 1 completed"
     ]
    },
    {
     "name": "stdout",
     "output_type": "stream",
     "text": [
      "Data for  INOXWIND.NS saved to C:\\Users\\anind\\Desktop\\Indiana University Bloomington\\Semester 2\\I606 Network Science\\Project\\Data\\rerunning\\Project_Auto_and_Finance_Sector_250424\\Financial_Data\\ INOXWIND.NS_data.xlsx\n",
      "Downloading data for  KECL.NS\n",
      "Data for  KECL.NS saved to C:\\Users\\anind\\Desktop\\Indiana University Bloomington\\Semester 2\\I606 Network Science\\Project\\Data\\rerunning\\Project_Auto_and_Finance_Sector_250424\\Financial_Data\\ KECL.NS_data.xlsx\n",
      "Downloading data for  SCHNEIDER.NS\n"
     ]
    },
    {
     "name": "stderr",
     "output_type": "stream",
     "text": [
      "\n",
      "[*********************100%%**********************]  1 of 1 completed\n"
     ]
    },
    {
     "name": "stdout",
     "output_type": "stream",
     "text": [
      "Data for  SCHNEIDER.NS saved to C:\\Users\\anind\\Desktop\\Indiana University Bloomington\\Semester 2\\I606 Network Science\\Project\\Data\\rerunning\\Project_Auto_and_Finance_Sector_250424\\Financial_Data\\ SCHNEIDER.NS_data.xlsx\n",
      "Downloading data for  SUZLON.NS\n"
     ]
    },
    {
     "name": "stderr",
     "output_type": "stream",
     "text": [
      "[*********************100%%**********************]  1 of 1 completed\n",
      "[*********************100%%**********************]  1 of 1 completed"
     ]
    },
    {
     "name": "stdout",
     "output_type": "stream",
     "text": [
      "Data for  SUZLON.NS saved to C:\\Users\\anind\\Desktop\\Indiana University Bloomington\\Semester 2\\I606 Network Science\\Project\\Data\\rerunning\\Project_Auto_and_Finance_Sector_250424\\Financial_Data\\ SUZLON.NS_data.xlsx\n",
      "Downloading data for  TDPOWERSYS.NS\n"
     ]
    },
    {
     "name": "stderr",
     "output_type": "stream",
     "text": [
      "\n",
      "[*********************100%%**********************]  1 of 1 completed"
     ]
    },
    {
     "name": "stdout",
     "output_type": "stream",
     "text": [
      "Data for  TDPOWERSYS.NS saved to C:\\Users\\anind\\Desktop\\Indiana University Bloomington\\Semester 2\\I606 Network Science\\Project\\Data\\rerunning\\Project_Auto_and_Finance_Sector_250424\\Financial_Data\\ TDPOWERSYS.NS_data.xlsx\n",
      "Downloading data for  TARAPUR.NS\n"
     ]
    },
    {
     "name": "stderr",
     "output_type": "stream",
     "text": [
      "\n",
      "[*********************100%%**********************]  1 of 1 completed"
     ]
    },
    {
     "name": "stdout",
     "output_type": "stream",
     "text": [
      "Data for  TARAPUR.NS saved to C:\\Users\\anind\\Desktop\\Indiana University Bloomington\\Semester 2\\I606 Network Science\\Project\\Data\\rerunning\\Project_Auto_and_Finance_Sector_250424\\Financial_Data\\ TARAPUR.NS_data.xlsx\n",
      "Downloading data for  TRIL.NS\n"
     ]
    },
    {
     "name": "stderr",
     "output_type": "stream",
     "text": [
      "\n",
      "[*********************100%%**********************]  1 of 1 completed"
     ]
    },
    {
     "name": "stdout",
     "output_type": "stream",
     "text": [
      "Data for  TRIL.NS saved to C:\\Users\\anind\\Desktop\\Indiana University Bloomington\\Semester 2\\I606 Network Science\\Project\\Data\\rerunning\\Project_Auto_and_Finance_Sector_250424\\Financial_Data\\ TRIL.NS_data.xlsx\n",
      "Downloading data for  TRITURBINE.NS\n"
     ]
    },
    {
     "name": "stderr",
     "output_type": "stream",
     "text": [
      "\n",
      "[*********************100%%**********************]  1 of 1 completed"
     ]
    },
    {
     "name": "stdout",
     "output_type": "stream",
     "text": [
      "Data for  TRITURBINE.NS saved to C:\\Users\\anind\\Desktop\\Indiana University Bloomington\\Semester 2\\I606 Network Science\\Project\\Data\\rerunning\\Project_Auto_and_Finance_Sector_250424\\Financial_Data\\ TRITURBINE.NS_data.xlsx\n",
      "Downloading data for  VOLTAMP.NS\n"
     ]
    },
    {
     "name": "stderr",
     "output_type": "stream",
     "text": [
      "\n",
      "[*********************100%%**********************]  1 of 1 completed"
     ]
    },
    {
     "name": "stdout",
     "output_type": "stream",
     "text": [
      "Data for  VOLTAMP.NS saved to C:\\Users\\anind\\Desktop\\Indiana University Bloomington\\Semester 2\\I606 Network Science\\Project\\Data\\rerunning\\Project_Auto_and_Finance_Sector_250424\\Financial_Data\\ VOLTAMP.NS_data.xlsx\n",
      "Processing file: C:\\Users\\anind\\Desktop\\Indiana University Bloomington\\Semester 2\\I606 Network Science\\Project\\Data\\rerunning\\Project_Auto_and_Finance_Sector_250424\\Housing_Finance.xlsx\n",
      "Downloading data for  AAVAS.NS\n"
     ]
    },
    {
     "name": "stderr",
     "output_type": "stream",
     "text": [
      "\n",
      "[*********************100%%**********************]  1 of 1 completed"
     ]
    },
    {
     "name": "stdout",
     "output_type": "stream",
     "text": [
      "Data for  AAVAS.NS saved to C:\\Users\\anind\\Desktop\\Indiana University Bloomington\\Semester 2\\I606 Network Science\\Project\\Data\\rerunning\\Project_Auto_and_Finance_Sector_250424\\Financial_Data\\ AAVAS.NS_data.xlsx\n",
      "Downloading data for  APTUS.NS\n",
      "Data for  APTUS.NS saved to C:\\Users\\anind\\Desktop\\Indiana University Bloomington\\Semester 2\\I606 Network Science\\Project\\Data\\rerunning\\Project_Auto_and_Finance_Sector_250424\\Financial_Data\\ APTUS.NS_data.xlsx\n",
      "Downloading data for  CANFINHOME.NS\n"
     ]
    },
    {
     "name": "stderr",
     "output_type": "stream",
     "text": [
      "\n",
      "[*********************100%%**********************]  1 of 1 completed\n"
     ]
    },
    {
     "name": "stdout",
     "output_type": "stream",
     "text": [
      "Data for  CANFINHOME.NS saved to C:\\Users\\anind\\Desktop\\Indiana University Bloomington\\Semester 2\\I606 Network Science\\Project\\Data\\rerunning\\Project_Auto_and_Finance_Sector_250424\\Financial_Data\\ CANFINHOME.NS_data.xlsx\n",
      "Downloading data for  CORALFINAC.NS\n"
     ]
    },
    {
     "name": "stderr",
     "output_type": "stream",
     "text": [
      "[*********************100%%**********************]  1 of 1 completed\n",
      "[*********************100%%**********************]  1 of 1 completed"
     ]
    },
    {
     "name": "stdout",
     "output_type": "stream",
     "text": [
      "Data for  CORALFINAC.NS saved to C:\\Users\\anind\\Desktop\\Indiana University Bloomington\\Semester 2\\I606 Network Science\\Project\\Data\\rerunning\\Project_Auto_and_Finance_Sector_250424\\Financial_Data\\ CORALFINAC.NS_data.xlsx\n",
      "Downloading data for  GICHSGFIN.NS\n"
     ]
    },
    {
     "name": "stderr",
     "output_type": "stream",
     "text": [
      "\n",
      "[*********************100%%**********************]  1 of 1 completed"
     ]
    },
    {
     "name": "stdout",
     "output_type": "stream",
     "text": [
      "Data for  GICHSGFIN.NS saved to C:\\Users\\anind\\Desktop\\Indiana University Bloomington\\Semester 2\\I606 Network Science\\Project\\Data\\rerunning\\Project_Auto_and_Finance_Sector_250424\\Financial_Data\\ GICHSGFIN.NS_data.xlsx\n",
      "Downloading data for  HOMEFIRST.NS\n",
      "Data for  HOMEFIRST.NS saved to C:\\Users\\anind\\Desktop\\Indiana University Bloomington\\Semester 2\\I606 Network Science\\Project\\Data\\rerunning\\Project_Auto_and_Finance_Sector_250424\\Financial_Data\\ HOMEFIRST.NS_data.xlsx\n",
      "Downloading data for  HDFC.NS\n"
     ]
    },
    {
     "name": "stderr",
     "output_type": "stream",
     "text": [
      "\n",
      "[*********************100%%**********************]  1 of 1 completed\n",
      "\n",
      "1 Failed download:\n",
      "['HDFC.NS']: Exception('%ticker%: No price data found, symbol may be delisted (1d 2021-01-01 -> 2023-12-31)')\n",
      "[*********************100%%**********************]  1 of 1 completed\n"
     ]
    },
    {
     "name": "stdout",
     "output_type": "stream",
     "text": [
      "No data found for  HDFC.NS\n",
      "Downloading data for  HUDCO.NS\n",
      "Data for  HUDCO.NS saved to C:\\Users\\anind\\Desktop\\Indiana University Bloomington\\Semester 2\\I606 Network Science\\Project\\Data\\rerunning\\Project_Auto_and_Finance_Sector_250424\\Financial_Data\\ HUDCO.NS_data.xlsx\n",
      "Downloading data for  INDIASHLTR.NS\n"
     ]
    },
    {
     "name": "stderr",
     "output_type": "stream",
     "text": [
      "[*********************100%%**********************]  1 of 1 completed\n"
     ]
    },
    {
     "name": "stdout",
     "output_type": "stream",
     "text": [
      "Data for  INDIASHLTR.NS saved to C:\\Users\\anind\\Desktop\\Indiana University Bloomington\\Semester 2\\I606 Network Science\\Project\\Data\\rerunning\\Project_Auto_and_Finance_Sector_250424\\Financial_Data\\ INDIASHLTR.NS_data.xlsx\n",
      "Downloading data for  IBULHSGFIN.NS\n"
     ]
    },
    {
     "name": "stderr",
     "output_type": "stream",
     "text": [
      "[*********************100%%**********************]  1 of 1 completed\n",
      "[*********************100%%**********************]  1 of 1 completed"
     ]
    },
    {
     "name": "stdout",
     "output_type": "stream",
     "text": [
      "Data for  IBULHSGFIN.NS saved to C:\\Users\\anind\\Desktop\\Indiana University Bloomington\\Semester 2\\I606 Network Science\\Project\\Data\\rerunning\\Project_Auto_and_Finance_Sector_250424\\Financial_Data\\ IBULHSGFIN.NS_data.xlsx\n",
      "Downloading data for  LICHSGFIN.NS\n"
     ]
    },
    {
     "name": "stderr",
     "output_type": "stream",
     "text": [
      "\n"
     ]
    },
    {
     "name": "stdout",
     "output_type": "stream",
     "text": [
      "Data for  LICHSGFIN.NS saved to C:\\Users\\anind\\Desktop\\Indiana University Bloomington\\Semester 2\\I606 Network Science\\Project\\Data\\rerunning\\Project_Auto_and_Finance_Sector_250424\\Financial_Data\\ LICHSGFIN.NS_data.xlsx\n",
      "Downloading data for  PNBHOUSING.NS\n"
     ]
    },
    {
     "name": "stderr",
     "output_type": "stream",
     "text": [
      "[*********************100%%**********************]  1 of 1 completed\n",
      "[*********************100%%**********************]  1 of 1 completed"
     ]
    },
    {
     "name": "stdout",
     "output_type": "stream",
     "text": [
      "Data for  PNBHOUSING.NS saved to C:\\Users\\anind\\Desktop\\Indiana University Bloomington\\Semester 2\\I606 Network Science\\Project\\Data\\rerunning\\Project_Auto_and_Finance_Sector_250424\\Financial_Data\\ PNBHOUSING.NS_data.xlsx\n",
      "Downloading data for  RHFL.NS\n",
      "Data for  RHFL.NS saved to C:\\Users\\anind\\Desktop\\Indiana University Bloomington\\Semester 2\\I606 Network Science\\Project\\Data\\rerunning\\Project_Auto_and_Finance_Sector_250424\\Financial_Data\\ RHFL.NS_data.xlsx\n",
      "Downloading data for  REPCOHOME.NS\n"
     ]
    },
    {
     "name": "stderr",
     "output_type": "stream",
     "text": [
      "\n",
      "[*********************100%%**********************]  1 of 1 completed\n",
      "[*********************100%%**********************]  1 of 1 completed"
     ]
    },
    {
     "name": "stdout",
     "output_type": "stream",
     "text": [
      "Data for  REPCOHOME.NS saved to C:\\Users\\anind\\Desktop\\Indiana University Bloomington\\Semester 2\\I606 Network Science\\Project\\Data\\rerunning\\Project_Auto_and_Finance_Sector_250424\\Financial_Data\\ REPCOHOME.NS_data.xlsx\n",
      "Downloading data for  SRGHFL.NS\n",
      "Data for  SRGHFL.NS saved to C:\\Users\\anind\\Desktop\\Indiana University Bloomington\\Semester 2\\I606 Network Science\\Project\\Data\\rerunning\\Project_Auto_and_Finance_Sector_250424\\Financial_Data\\ SRGHFL.NS_data.xlsx\n",
      "Processing file: C:\\Users\\anind\\Desktop\\Indiana University Bloomington\\Semester 2\\I606 Network Science\\Project\\Data\\rerunning\\Project_Auto_and_Finance_Sector_250424\\Industrial_Machinery__Equipment___Goods.xlsx\n",
      "Downloading data for  AIAENG.NS\n"
     ]
    },
    {
     "name": "stderr",
     "output_type": "stream",
     "text": [
      "\n",
      "[*********************100%%**********************]  1 of 1 completed\n"
     ]
    },
    {
     "name": "stdout",
     "output_type": "stream",
     "text": [
      "Data for  AIAENG.NS saved to C:\\Users\\anind\\Desktop\\Indiana University Bloomington\\Semester 2\\I606 Network Science\\Project\\Data\\rerunning\\Project_Auto_and_Finance_Sector_250424\\Financial_Data\\ AIAENG.NS_data.xlsx\n",
      "Downloading data for  ADORWELD.NS\n"
     ]
    },
    {
     "name": "stderr",
     "output_type": "stream",
     "text": [
      "[*********************100%%**********************]  1 of 1 completed\n"
     ]
    },
    {
     "name": "stdout",
     "output_type": "stream",
     "text": [
      "Data for  ADORWELD.NS saved to C:\\Users\\anind\\Desktop\\Indiana University Bloomington\\Semester 2\\I606 Network Science\\Project\\Data\\rerunning\\Project_Auto_and_Finance_Sector_250424\\Financial_Data\\ ADORWELD.NS_data.xlsx\n",
      "Downloading data for  BHARATFORG.NS\n"
     ]
    },
    {
     "name": "stderr",
     "output_type": "stream",
     "text": [
      "[*********************100%%**********************]  1 of 1 completed\n"
     ]
    },
    {
     "name": "stdout",
     "output_type": "stream",
     "text": [
      "Data for  BHARATFORG.NS saved to C:\\Users\\anind\\Desktop\\Indiana University Bloomington\\Semester 2\\I606 Network Science\\Project\\Data\\rerunning\\Project_Auto_and_Finance_Sector_250424\\Financial_Data\\ BHARATFORG.NS_data.xlsx\n",
      "Downloading data for  CARBORUNIV.NS\n"
     ]
    },
    {
     "name": "stderr",
     "output_type": "stream",
     "text": [
      "[*********************100%%**********************]  1 of 1 completed\n",
      "[*********************100%%**********************]  1 of 1 completed"
     ]
    },
    {
     "name": "stdout",
     "output_type": "stream",
     "text": [
      "Data for  CARBORUNIV.NS saved to C:\\Users\\anind\\Desktop\\Indiana University Bloomington\\Semester 2\\I606 Network Science\\Project\\Data\\rerunning\\Project_Auto_and_Finance_Sector_250424\\Financial_Data\\ CARBORUNIV.NS_data.xlsx\n",
      "Downloading data for  CRAFTSMAN.NS\n"
     ]
    },
    {
     "name": "stderr",
     "output_type": "stream",
     "text": [
      "\n",
      "[*********************100%%**********************]  1 of 1 completed\n"
     ]
    },
    {
     "name": "stdout",
     "output_type": "stream",
     "text": [
      "Data for  CRAFTSMAN.NS saved to C:\\Users\\anind\\Desktop\\Indiana University Bloomington\\Semester 2\\I606 Network Science\\Project\\Data\\rerunning\\Project_Auto_and_Finance_Sector_250424\\Financial_Data\\ CRAFTSMAN.NS_data.xlsx\n",
      "Downloading data for  CUMMINSIND.NS\n",
      "Data for  CUMMINSIND.NS saved to C:\\Users\\anind\\Desktop\\Indiana University Bloomington\\Semester 2\\I606 Network Science\\Project\\Data\\rerunning\\Project_Auto_and_Finance_Sector_250424\\Financial_Data\\ CUMMINSIND.NS_data.xlsx\n",
      "Downloading data for  DYNAMATECH.NS\n"
     ]
    },
    {
     "name": "stderr",
     "output_type": "stream",
     "text": [
      "[*********************100%%**********************]  1 of 1 completed\n",
      "[*********************100%%**********************]  1 of 1 completed"
     ]
    },
    {
     "name": "stdout",
     "output_type": "stream",
     "text": [
      "Data for  DYNAMATECH.NS saved to C:\\Users\\anind\\Desktop\\Indiana University Bloomington\\Semester 2\\I606 Network Science\\Project\\Data\\rerunning\\Project_Auto_and_Finance_Sector_250424\\Financial_Data\\ DYNAMATECH.NS_data.xlsx\n",
      "Downloading data for  EIMCOELECO.NS\n"
     ]
    },
    {
     "name": "stderr",
     "output_type": "stream",
     "text": [
      "\n",
      "[*********************100%%**********************]  1 of 1 completed\n"
     ]
    },
    {
     "name": "stdout",
     "output_type": "stream",
     "text": [
      "Data for  EIMCOELECO.NS saved to C:\\Users\\anind\\Desktop\\Indiana University Bloomington\\Semester 2\\I606 Network Science\\Project\\Data\\rerunning\\Project_Auto_and_Finance_Sector_250424\\Financial_Data\\ EIMCOELECO.NS_data.xlsx\n",
      "Downloading data for  ELECON.NS\n"
     ]
    },
    {
     "name": "stderr",
     "output_type": "stream",
     "text": [
      "[*********************100%%**********************]  1 of 1 completed"
     ]
    },
    {
     "name": "stdout",
     "output_type": "stream",
     "text": [
      "Data for  ELECON.NS saved to C:\\Users\\anind\\Desktop\\Indiana University Bloomington\\Semester 2\\I606 Network Science\\Project\\Data\\rerunning\\Project_Auto_and_Finance_Sector_250424\\Financial_Data\\ ELECON.NS_data.xlsx\n",
      "Downloading data for  ELGIEQUIP.NS\n"
     ]
    },
    {
     "name": "stderr",
     "output_type": "stream",
     "text": [
      "\n",
      "[*********************100%%**********************]  1 of 1 completed"
     ]
    },
    {
     "name": "stdout",
     "output_type": "stream",
     "text": [
      "Data for  ELGIEQUIP.NS saved to C:\\Users\\anind\\Desktop\\Indiana University Bloomington\\Semester 2\\I606 Network Science\\Project\\Data\\rerunning\\Project_Auto_and_Finance_Sector_250424\\Financial_Data\\ ELGIEQUIP.NS_data.xlsx\n",
      "Downloading data for  ESABINDIA.NS\n",
      "Data for  ESABINDIA.NS saved to C:\\Users\\anind\\Desktop\\Indiana University Bloomington\\Semester 2\\I606 Network Science\\Project\\Data\\rerunning\\Project_Auto_and_Finance_Sector_250424\\Financial_Data\\ ESABINDIA.NS_data.xlsx\n",
      "Downloading data for  GMMPFAUDLR.NS\n"
     ]
    },
    {
     "name": "stderr",
     "output_type": "stream",
     "text": [
      "\n",
      "[*********************100%%**********************]  1 of 1 completed\n",
      "[*********************100%%**********************]  1 of 1 completed\n"
     ]
    },
    {
     "name": "stdout",
     "output_type": "stream",
     "text": [
      "Data for  GMMPFAUDLR.NS saved to C:\\Users\\anind\\Desktop\\Indiana University Bloomington\\Semester 2\\I606 Network Science\\Project\\Data\\rerunning\\Project_Auto_and_Finance_Sector_250424\\Financial_Data\\ GMMPFAUDLR.NS_data.xlsx\n",
      "Downloading data for  GANGAFORGE.NS\n",
      "Data for  GANGAFORGE.NS saved to C:\\Users\\anind\\Desktop\\Indiana University Bloomington\\Semester 2\\I606 Network Science\\Project\\Data\\rerunning\\Project_Auto_and_Finance_Sector_250424\\Financial_Data\\ GANGAFORGE.NS_data.xlsx\n",
      "Downloading data for  GREAVESCOT.NS\n"
     ]
    },
    {
     "name": "stderr",
     "output_type": "stream",
     "text": [
      "[*********************100%%**********************]  1 of 1 completed\n",
      "[*********************100%%**********************]  1 of 1 completed"
     ]
    },
    {
     "name": "stdout",
     "output_type": "stream",
     "text": [
      "Data for  GREAVESCOT.NS saved to C:\\Users\\anind\\Desktop\\Indiana University Bloomington\\Semester 2\\I606 Network Science\\Project\\Data\\rerunning\\Project_Auto_and_Finance_Sector_250424\\Financial_Data\\ GREAVESCOT.NS_data.xlsx\n",
      "Downloading data for  GRINDWELL.NS\n"
     ]
    },
    {
     "name": "stderr",
     "output_type": "stream",
     "text": [
      "\n",
      "[*********************100%%**********************]  1 of 1 completed"
     ]
    },
    {
     "name": "stdout",
     "output_type": "stream",
     "text": [
      "Data for  GRINDWELL.NS saved to C:\\Users\\anind\\Desktop\\Indiana University Bloomington\\Semester 2\\I606 Network Science\\Project\\Data\\rerunning\\Project_Auto_and_Finance_Sector_250424\\Financial_Data\\ GRINDWELL.NS_data.xlsx\n",
      "Downloading data for  GUJAPOLLO.NS\n"
     ]
    },
    {
     "name": "stderr",
     "output_type": "stream",
     "text": [
      "\n"
     ]
    },
    {
     "name": "stdout",
     "output_type": "stream",
     "text": [
      "Data for  GUJAPOLLO.NS saved to C:\\Users\\anind\\Desktop\\Indiana University Bloomington\\Semester 2\\I606 Network Science\\Project\\Data\\rerunning\\Project_Auto_and_Finance_Sector_250424\\Financial_Data\\ GUJAPOLLO.NS_data.xlsx\n",
      "Downloading data for  HLEGLAS.NS\n"
     ]
    },
    {
     "name": "stderr",
     "output_type": "stream",
     "text": [
      "[*********************100%%**********************]  1 of 1 completed\n",
      "[*********************100%%**********************]  1 of 1 completed\n"
     ]
    },
    {
     "name": "stdout",
     "output_type": "stream",
     "text": [
      "Data for  HLEGLAS.NS saved to C:\\Users\\anind\\Desktop\\Indiana University Bloomington\\Semester 2\\I606 Network Science\\Project\\Data\\rerunning\\Project_Auto_and_Finance_Sector_250424\\Financial_Data\\ HLEGLAS.NS_data.xlsx\n",
      "Downloading data for  HMT.NS\n",
      "Data for  HMT.NS saved to C:\\Users\\anind\\Desktop\\Indiana University Bloomington\\Semester 2\\I606 Network Science\\Project\\Data\\rerunning\\Project_Auto_and_Finance_Sector_250424\\Financial_Data\\ HMT.NS_data.xlsx\n",
      "Downloading data for  HERCULES.NS\n"
     ]
    },
    {
     "name": "stderr",
     "output_type": "stream",
     "text": [
      "[*********************100%%**********************]  1 of 1 completed\n",
      "[*********************100%%**********************]  1 of 1 completed"
     ]
    },
    {
     "name": "stdout",
     "output_type": "stream",
     "text": [
      "Data for  HERCULES.NS saved to C:\\Users\\anind\\Desktop\\Indiana University Bloomington\\Semester 2\\I606 Network Science\\Project\\Data\\rerunning\\Project_Auto_and_Finance_Sector_250424\\Financial_Data\\ HERCULES.NS_data.xlsx\n",
      "Downloading data for  HILTON.NS\n"
     ]
    },
    {
     "name": "stderr",
     "output_type": "stream",
     "text": [
      "\n",
      "[*********************100%%**********************]  1 of 1 completed\n"
     ]
    },
    {
     "name": "stdout",
     "output_type": "stream",
     "text": [
      "Data for  HILTON.NS saved to C:\\Users\\anind\\Desktop\\Indiana University Bloomington\\Semester 2\\I606 Network Science\\Project\\Data\\rerunning\\Project_Auto_and_Finance_Sector_250424\\Financial_Data\\ HILTON.NS_data.xlsx\n",
      "Downloading data for  HONDAPOWER.NS\n",
      "Data for  HONDAPOWER.NS saved to C:\\Users\\anind\\Desktop\\Indiana University Bloomington\\Semester 2\\I606 Network Science\\Project\\Data\\rerunning\\Project_Auto_and_Finance_Sector_250424\\Financial_Data\\ HONDAPOWER.NS_data.xlsx\n",
      "Downloading data for  INGERRAND.NS\n"
     ]
    },
    {
     "name": "stderr",
     "output_type": "stream",
     "text": [
      "[*********************100%%**********************]  1 of 1 completed\n",
      "[*********************100%%**********************]  1 of 1 completed"
     ]
    },
    {
     "name": "stdout",
     "output_type": "stream",
     "text": [
      "Data for  INGERRAND.NS saved to C:\\Users\\anind\\Desktop\\Indiana University Bloomington\\Semester 2\\I606 Network Science\\Project\\Data\\rerunning\\Project_Auto_and_Finance_Sector_250424\\Financial_Data\\ INGERRAND.NS_data.xlsx\n",
      "Downloading data for  JAYNECOIND.NS\n",
      "Data for  JAYNECOIND.NS saved to C:\\Users\\anind\\Desktop\\Indiana University Bloomington\\Semester 2\\I606 Network Science\\Project\\Data\\rerunning\\Project_Auto_and_Finance_Sector_250424\\Financial_Data\\ JAYNECOIND.NS_data.xlsx\n",
      "Downloading data for  KABRAEXTRU.NS\n"
     ]
    },
    {
     "name": "stderr",
     "output_type": "stream",
     "text": [
      "\n",
      "[*********************100%%**********************]  1 of 1 completed\n",
      "[*********************100%%**********************]  1 of 1 completed"
     ]
    },
    {
     "name": "stdout",
     "output_type": "stream",
     "text": [
      "Data for  KABRAEXTRU.NS saved to C:\\Users\\anind\\Desktop\\Indiana University Bloomington\\Semester 2\\I606 Network Science\\Project\\Data\\rerunning\\Project_Auto_and_Finance_Sector_250424\\Financial_Data\\ KABRAEXTRU.NS_data.xlsx\n",
      "Downloading data for  KALYANIFRG.NS\n"
     ]
    },
    {
     "name": "stderr",
     "output_type": "stream",
     "text": [
      "\n",
      "[*********************100%%**********************]  1 of 1 completed"
     ]
    },
    {
     "name": "stdout",
     "output_type": "stream",
     "text": [
      "Data for  KALYANIFRG.NS saved to C:\\Users\\anind\\Desktop\\Indiana University Bloomington\\Semester 2\\I606 Network Science\\Project\\Data\\rerunning\\Project_Auto_and_Finance_Sector_250424\\Financial_Data\\ KALYANIFRG.NS_data.xlsx\n",
      "Downloading data for  KENNAMET.NS\n"
     ]
    },
    {
     "name": "stderr",
     "output_type": "stream",
     "text": [
      "\n",
      "[*********************100%%**********************]  1 of 1 completed"
     ]
    },
    {
     "name": "stdout",
     "output_type": "stream",
     "text": [
      "Data for  KENNAMET.NS saved to C:\\Users\\anind\\Desktop\\Indiana University Bloomington\\Semester 2\\I606 Network Science\\Project\\Data\\rerunning\\Project_Auto_and_Finance_Sector_250424\\Financial_Data\\ KENNAMET.NS_data.xlsx\n",
      "Downloading data for  KIRLOSIND.NS\n"
     ]
    },
    {
     "name": "stderr",
     "output_type": "stream",
     "text": [
      "\n",
      "[*********************100%%**********************]  1 of 1 completed\n"
     ]
    },
    {
     "name": "stdout",
     "output_type": "stream",
     "text": [
      "Data for  KIRLOSIND.NS saved to C:\\Users\\anind\\Desktop\\Indiana University Bloomington\\Semester 2\\I606 Network Science\\Project\\Data\\rerunning\\Project_Auto_and_Finance_Sector_250424\\Financial_Data\\ KIRLOSIND.NS_data.xlsx\n",
      "Downloading data for  KIRLOSENG.NS\n"
     ]
    },
    {
     "name": "stderr",
     "output_type": "stream",
     "text": [
      "[*********************100%%**********************]  1 of 1 completed"
     ]
    },
    {
     "name": "stdout",
     "output_type": "stream",
     "text": [
      "Data for  KIRLOSENG.NS saved to C:\\Users\\anind\\Desktop\\Indiana University Bloomington\\Semester 2\\I606 Network Science\\Project\\Data\\rerunning\\Project_Auto_and_Finance_Sector_250424\\Financial_Data\\ KIRLOSENG.NS_data.xlsx\n",
      "Downloading data for  KIRLPNU.NS\n",
      "Data for  KIRLPNU.NS saved to C:\\Users\\anind\\Desktop\\Indiana University Bloomington\\Semester 2\\I606 Network Science\\Project\\Data\\rerunning\\Project_Auto_and_Finance_Sector_250424\\Financial_Data\\ KIRLPNU.NS_data.xlsx\n",
      "Downloading data for  LGBBROSLTD.NS\n"
     ]
    },
    {
     "name": "stderr",
     "output_type": "stream",
     "text": [
      "\n",
      "[*********************100%%**********************]  1 of 1 completed\n",
      "[*********************100%%**********************]  1 of 1 completed"
     ]
    },
    {
     "name": "stdout",
     "output_type": "stream",
     "text": [
      "Data for  LGBBROSLTD.NS saved to C:\\Users\\anind\\Desktop\\Indiana University Bloomington\\Semester 2\\I606 Network Science\\Project\\Data\\rerunning\\Project_Auto_and_Finance_Sector_250424\\Financial_Data\\ LGBBROSLTD.NS_data.xlsx\n",
      "Downloading data for  LGBFORGE.NS\n",
      "Data for  LGBFORGE.NS saved to C:\\Users\\anind\\Desktop\\Indiana University Bloomington\\Semester 2\\I606 Network Science\\Project\\Data\\rerunning\\Project_Auto_and_Finance_Sector_250424\\Financial_Data\\ LGBFORGE.NS_data.xlsx\n",
      "Downloading data for  LAXMIMACH.NS\n"
     ]
    },
    {
     "name": "stderr",
     "output_type": "stream",
     "text": [
      "\n",
      "[*********************100%%**********************]  1 of 1 completed\n",
      "[*********************100%%**********************]  1 of 1 completed"
     ]
    },
    {
     "name": "stdout",
     "output_type": "stream",
     "text": [
      "Data for  LAXMIMACH.NS saved to C:\\Users\\anind\\Desktop\\Indiana University Bloomington\\Semester 2\\I606 Network Science\\Project\\Data\\rerunning\\Project_Auto_and_Finance_Sector_250424\\Financial_Data\\ LAXMIMACH.NS_data.xlsx\n",
      "Downloading data for  LAKPRE.NS\n",
      "Data for  LAKPRE.NS saved to C:\\Users\\anind\\Desktop\\Indiana University Bloomington\\Semester 2\\I606 Network Science\\Project\\Data\\rerunning\\Project_Auto_and_Finance_Sector_250424\\Financial_Data\\ LAKPRE.NS_data.xlsx\n",
      "Downloading data for  LLOYDSENGG.NS\n"
     ]
    },
    {
     "name": "stderr",
     "output_type": "stream",
     "text": [
      "\n",
      "[*********************100%%**********************]  1 of 1 completed\n",
      "[*********************100%%**********************]  1 of 1 completed\n"
     ]
    },
    {
     "name": "stdout",
     "output_type": "stream",
     "text": [
      "Data for  LLOYDSENGG.NS saved to C:\\Users\\anind\\Desktop\\Indiana University Bloomington\\Semester 2\\I606 Network Science\\Project\\Data\\rerunning\\Project_Auto_and_Finance_Sector_250424\\Financial_Data\\ LLOYDSENGG.NS_data.xlsx\n",
      "Downloading data for  LOKESHMACH.NS\n"
     ]
    },
    {
     "name": "stderr",
     "output_type": "stream",
     "text": [
      "[*********************100%%**********************]  1 of 1 completed"
     ]
    },
    {
     "name": "stdout",
     "output_type": "stream",
     "text": [
      "Data for  LOKESHMACH.NS saved to C:\\Users\\anind\\Desktop\\Indiana University Bloomington\\Semester 2\\I606 Network Science\\Project\\Data\\rerunning\\Project_Auto_and_Finance_Sector_250424\\Financial_Data\\ LOKESHMACH.NS_data.xlsx\n",
      "Downloading data for  MTARTECH.NS\n",
      "Data for  MTARTECH.NS saved to C:\\Users\\anind\\Desktop\\Indiana University Bloomington\\Semester 2\\I606 Network Science\\Project\\Data\\rerunning\\Project_Auto_and_Finance_Sector_250424\\Financial_Data\\ MTARTECH.NS_data.xlsx\n",
      "Downloading data for  MACPOWER.NS\n"
     ]
    },
    {
     "name": "stderr",
     "output_type": "stream",
     "text": [
      "\n",
      "[*********************100%%**********************]  1 of 1 completed\n",
      "[*********************100%%**********************]  1 of 1 completed"
     ]
    },
    {
     "name": "stdout",
     "output_type": "stream",
     "text": [
      "Data for  MACPOWER.NS saved to C:\\Users\\anind\\Desktop\\Indiana University Bloomington\\Semester 2\\I606 Network Science\\Project\\Data\\rerunning\\Project_Auto_and_Finance_Sector_250424\\Financial_Data\\ MACPOWER.NS_data.xlsx\n",
      "Downloading data for  MHLXMIRU.NS\n",
      "Data for  MHLXMIRU.NS saved to C:\\Users\\anind\\Desktop\\Indiana University Bloomington\\Semester 2\\I606 Network Science\\Project\\Data\\rerunning\\Project_Auto_and_Finance_Sector_250424\\Financial_Data\\ MHLXMIRU.NS_data.xlsx\n",
      "Downloading data for  MANUGRAPH.NS\n"
     ]
    },
    {
     "name": "stderr",
     "output_type": "stream",
     "text": [
      "\n",
      "[*********************100%%**********************]  1 of 1 completed\n"
     ]
    },
    {
     "name": "stdout",
     "output_type": "stream",
     "text": [
      "Data for  MANUGRAPH.NS saved to C:\\Users\\anind\\Desktop\\Indiana University Bloomington\\Semester 2\\I606 Network Science\\Project\\Data\\rerunning\\Project_Auto_and_Finance_Sector_250424\\Financial_Data\\ MANUGRAPH.NS_data.xlsx\n",
      "Downloading data for  MAZDA.NS\n"
     ]
    },
    {
     "name": "stderr",
     "output_type": "stream",
     "text": [
      "[*********************100%%**********************]  1 of 1 completed\n",
      "[*********************100%%**********************]  1 of 1 completed"
     ]
    },
    {
     "name": "stdout",
     "output_type": "stream",
     "text": [
      "Data for  MAZDA.NS saved to C:\\Users\\anind\\Desktop\\Indiana University Bloomington\\Semester 2\\I606 Network Science\\Project\\Data\\rerunning\\Project_Auto_and_Finance_Sector_250424\\Financial_Data\\ MAZDA.NS_data.xlsx\n",
      "Downloading data for  METALFORGE.NS\n"
     ]
    },
    {
     "name": "stderr",
     "output_type": "stream",
     "text": [
      "\n"
     ]
    },
    {
     "name": "stdout",
     "output_type": "stream",
     "text": [
      "Data for  METALFORGE.NS saved to C:\\Users\\anind\\Desktop\\Indiana University Bloomington\\Semester 2\\I606 Network Science\\Project\\Data\\rerunning\\Project_Auto_and_Finance_Sector_250424\\Financial_Data\\ METALFORGE.NS_data.xlsx\n",
      "Downloading data for  NELCAST.NS\n"
     ]
    },
    {
     "name": "stderr",
     "output_type": "stream",
     "text": [
      "[*********************100%%**********************]  1 of 1 completed\n",
      "[*********************100%%**********************]  1 of 1 completed"
     ]
    },
    {
     "name": "stdout",
     "output_type": "stream",
     "text": [
      "Data for  NELCAST.NS saved to C:\\Users\\anind\\Desktop\\Indiana University Bloomington\\Semester 2\\I606 Network Science\\Project\\Data\\rerunning\\Project_Auto_and_Finance_Sector_250424\\Financial_Data\\ NELCAST.NS_data.xlsx\n",
      "Downloading data for  ORIENTCER.NS\n",
      "Data for  ORIENTCER.NS saved to C:\\Users\\anind\\Desktop\\Indiana University Bloomington\\Semester 2\\I606 Network Science\\Project\\Data\\rerunning\\Project_Auto_and_Finance_Sector_250424\\Financial_Data\\ ORIENTCER.NS_data.xlsx\n",
      "Downloading data for  PITTIENG.NS\n"
     ]
    },
    {
     "name": "stderr",
     "output_type": "stream",
     "text": [
      "\n",
      "[*********************100%%**********************]  1 of 1 completed\n"
     ]
    },
    {
     "name": "stdout",
     "output_type": "stream",
     "text": [
      "Data for  PITTIENG.NS saved to C:\\Users\\anind\\Desktop\\Indiana University Bloomington\\Semester 2\\I606 Network Science\\Project\\Data\\rerunning\\Project_Auto_and_Finance_Sector_250424\\Financial_Data\\ PITTIENG.NS_data.xlsx\n",
      "Downloading data for  PIXTRANS.NS\n"
     ]
    },
    {
     "name": "stderr",
     "output_type": "stream",
     "text": [
      "[*********************100%%**********************]  1 of 1 completed\n",
      "[*********************100%%**********************]  1 of 1 completed\n"
     ]
    },
    {
     "name": "stdout",
     "output_type": "stream",
     "text": [
      "Data for  PIXTRANS.NS saved to C:\\Users\\anind\\Desktop\\Indiana University Bloomington\\Semester 2\\I606 Network Science\\Project\\Data\\rerunning\\Project_Auto_and_Finance_Sector_250424\\Financial_Data\\ PIXTRANS.NS_data.xlsx\n",
      "Downloading data for  PREMIER.NS\n"
     ]
    },
    {
     "name": "stderr",
     "output_type": "stream",
     "text": [
      "[*********************100%%**********************]  1 of 1 completed"
     ]
    },
    {
     "name": "stdout",
     "output_type": "stream",
     "text": [
      "Data for  PREMIER.NS saved to C:\\Users\\anind\\Desktop\\Indiana University Bloomington\\Semester 2\\I606 Network Science\\Project\\Data\\rerunning\\Project_Auto_and_Finance_Sector_250424\\Financial_Data\\ PREMIER.NS_data.xlsx\n",
      "Downloading data for  ARENTERP.NS\n"
     ]
    },
    {
     "name": "stderr",
     "output_type": "stream",
     "text": [
      "\n",
      "[*********************100%%**********************]  1 of 1 completed"
     ]
    },
    {
     "name": "stdout",
     "output_type": "stream",
     "text": [
      "Data for  ARENTERP.NS saved to C:\\Users\\anind\\Desktop\\Indiana University Bloomington\\Semester 2\\I606 Network Science\\Project\\Data\\rerunning\\Project_Auto_and_Finance_Sector_250424\\Financial_Data\\ ARENTERP.NS_data.xlsx\n",
      "Downloading data for  RKFORGE.NS\n"
     ]
    },
    {
     "name": "stderr",
     "output_type": "stream",
     "text": [
      "\n",
      "[*********************100%%**********************]  1 of 1 completed"
     ]
    },
    {
     "name": "stdout",
     "output_type": "stream",
     "text": [
      "Data for  RKFORGE.NS saved to C:\\Users\\anind\\Desktop\\Indiana University Bloomington\\Semester 2\\I606 Network Science\\Project\\Data\\rerunning\\Project_Auto_and_Finance_Sector_250424\\Financial_Data\\ RKFORGE.NS_data.xlsx\n",
      "Downloading data for  ROLEXRINGS.NS\n",
      "Data for  ROLEXRINGS.NS saved to C:\\Users\\anind\\Desktop\\Indiana University Bloomington\\Semester 2\\I606 Network Science\\Project\\Data\\rerunning\\Project_Auto_and_Finance_Sector_250424\\Financial_Data\\ ROLEXRINGS.NS_data.xlsx\n",
      "Downloading data for  SKFINDIA.NS\n"
     ]
    },
    {
     "name": "stderr",
     "output_type": "stream",
     "text": [
      "\n",
      "[*********************100%%**********************]  1 of 1 completed\n",
      "[*********************100%%**********************]  1 of 1 completed"
     ]
    },
    {
     "name": "stdout",
     "output_type": "stream",
     "text": [
      "Data for  SKFINDIA.NS saved to C:\\Users\\anind\\Desktop\\Indiana University Bloomington\\Semester 2\\I606 Network Science\\Project\\Data\\rerunning\\Project_Auto_and_Finance_Sector_250424\\Financial_Data\\ SKFINDIA.NS_data.xlsx\n",
      "Downloading data for  SANGHVIMOV.NS\n",
      "Data for  SANGHVIMOV.NS saved to C:\\Users\\anind\\Desktop\\Indiana University Bloomington\\Semester 2\\I606 Network Science\\Project\\Data\\rerunning\\Project_Auto_and_Finance_Sector_250424\\Financial_Data\\ SANGHVIMOV.NS_data.xlsx\n",
      "Downloading data for  SCHAEFFLER.NS\n"
     ]
    },
    {
     "name": "stderr",
     "output_type": "stream",
     "text": [
      "\n",
      "[*********************100%%**********************]  1 of 1 completed\n",
      "[*********************100%%**********************]  1 of 1 completed"
     ]
    },
    {
     "name": "stdout",
     "output_type": "stream",
     "text": [
      "Data for  SCHAEFFLER.NS saved to C:\\Users\\anind\\Desktop\\Indiana University Bloomington\\Semester 2\\I606 Network Science\\Project\\Data\\rerunning\\Project_Auto_and_Finance_Sector_250424\\Financial_Data\\ SCHAEFFLER.NS_data.xlsx\n",
      "Downloading data for  SEMAC.NS\n"
     ]
    },
    {
     "name": "stderr",
     "output_type": "stream",
     "text": [
      "\n",
      "[*********************100%%**********************]  1 of 1 completed"
     ]
    },
    {
     "name": "stdout",
     "output_type": "stream",
     "text": [
      "Data for  SEMAC.NS saved to C:\\Users\\anind\\Desktop\\Indiana University Bloomington\\Semester 2\\I606 Network Science\\Project\\Data\\rerunning\\Project_Auto_and_Finance_Sector_250424\\Financial_Data\\ SEMAC.NS_data.xlsx\n",
      "Downloading data for  SOMICONVEY.NS\n",
      "Data for  SOMICONVEY.NS saved to C:\\Users\\anind\\Desktop\\Indiana University Bloomington\\Semester 2\\I606 Network Science\\Project\\Data\\rerunning\\Project_Auto_and_Finance_Sector_250424\\Financial_Data\\ SOMICONVEY.NS_data.xlsx\n",
      "Downloading data for  STEELCAS.NS\n"
     ]
    },
    {
     "name": "stderr",
     "output_type": "stream",
     "text": [
      "\n",
      "[*********************100%%**********************]  1 of 1 completed\n",
      "[*********************100%%**********************]  1 of 1 completed"
     ]
    },
    {
     "name": "stdout",
     "output_type": "stream",
     "text": [
      "Data for  STEELCAS.NS saved to C:\\Users\\anind\\Desktop\\Indiana University Bloomington\\Semester 2\\I606 Network Science\\Project\\Data\\rerunning\\Project_Auto_and_Finance_Sector_250424\\Financial_Data\\ STEELCAS.NS_data.xlsx\n",
      "Downloading data for  STERTOOLS.NS\n"
     ]
    },
    {
     "name": "stderr",
     "output_type": "stream",
     "text": [
      "\n",
      "[*********************100%%**********************]  1 of 1 completed"
     ]
    },
    {
     "name": "stdout",
     "output_type": "stream",
     "text": [
      "Data for  STERTOOLS.NS saved to C:\\Users\\anind\\Desktop\\Indiana University Bloomington\\Semester 2\\I606 Network Science\\Project\\Data\\rerunning\\Project_Auto_and_Finance_Sector_250424\\Financial_Data\\ STERTOOLS.NS_data.xlsx\n",
      "Downloading data for  SUNCLAY.NS\n",
      "Data for  SUNCLAY.NS saved to C:\\Users\\anind\\Desktop\\Indiana University Bloomington\\Semester 2\\I606 Network Science\\Project\\Data\\rerunning\\Project_Auto_and_Finance_Sector_250424\\Financial_Data\\ SUNCLAY.NS_data.xlsx\n",
      "Downloading data for  SGIL.NS\n"
     ]
    },
    {
     "name": "stderr",
     "output_type": "stream",
     "text": [
      "\n",
      "[*********************100%%**********************]  1 of 1 completed\n",
      "[*********************100%%**********************]  1 of 1 completed\n"
     ]
    },
    {
     "name": "stdout",
     "output_type": "stream",
     "text": [
      "Data for  SGIL.NS saved to C:\\Users\\anind\\Desktop\\Indiana University Bloomington\\Semester 2\\I606 Network Science\\Project\\Data\\rerunning\\Project_Auto_and_Finance_Sector_250424\\Financial_Data\\ SGIL.NS_data.xlsx\n",
      "Downloading data for  TRF.NS\n",
      "Data for  TRF.NS saved to C:\\Users\\anind\\Desktop\\Indiana University Bloomington\\Semester 2\\I606 Network Science\\Project\\Data\\rerunning\\Project_Auto_and_Finance_Sector_250424\\Financial_Data\\ TRF.NS_data.xlsx\n",
      "Downloading data for  TEGA.NS\n"
     ]
    },
    {
     "name": "stderr",
     "output_type": "stream",
     "text": [
      "[*********************100%%**********************]  1 of 1 completed\n",
      "[*********************100%%**********************]  1 of 1 completed"
     ]
    },
    {
     "name": "stdout",
     "output_type": "stream",
     "text": [
      "Data for  TEGA.NS saved to C:\\Users\\anind\\Desktop\\Indiana University Bloomington\\Semester 2\\I606 Network Science\\Project\\Data\\rerunning\\Project_Auto_and_Finance_Sector_250424\\Financial_Data\\ TEGA.NS_data.xlsx\n",
      "Downloading data for  INDIANCARD.NS\n"
     ]
    },
    {
     "name": "stderr",
     "output_type": "stream",
     "text": [
      "\n",
      "[*********************100%%**********************]  1 of 1 completed"
     ]
    },
    {
     "name": "stdout",
     "output_type": "stream",
     "text": [
      "Data for  INDIANCARD.NS saved to C:\\Users\\anind\\Desktop\\Indiana University Bloomington\\Semester 2\\I606 Network Science\\Project\\Data\\rerunning\\Project_Auto_and_Finance_Sector_250424\\Financial_Data\\ INDIANCARD.NS_data.xlsx\n",
      "Downloading data for  TIMKEN.NS\n"
     ]
    },
    {
     "name": "stderr",
     "output_type": "stream",
     "text": [
      "\n",
      "[*********************100%%**********************]  1 of 1 completed"
     ]
    },
    {
     "name": "stdout",
     "output_type": "stream",
     "text": [
      "Data for  TIMKEN.NS saved to C:\\Users\\anind\\Desktop\\Indiana University Bloomington\\Semester 2\\I606 Network Science\\Project\\Data\\rerunning\\Project_Auto_and_Finance_Sector_250424\\Financial_Data\\ TIMKEN.NS_data.xlsx\n",
      "Downloading data for  TIRUPATIFL.NS\n"
     ]
    },
    {
     "name": "stderr",
     "output_type": "stream",
     "text": [
      "\n",
      "[*********************100%%**********************]  1 of 1 completed"
     ]
    },
    {
     "name": "stdout",
     "output_type": "stream",
     "text": [
      "Data for  TIRUPATIFL.NS saved to C:\\Users\\anind\\Desktop\\Indiana University Bloomington\\Semester 2\\I606 Network Science\\Project\\Data\\rerunning\\Project_Auto_and_Finance_Sector_250424\\Financial_Data\\ TIRUPATIFL.NS_data.xlsx\n",
      "Downloading data for  UNIPARTS.NS\n",
      "Data for  UNIPARTS.NS saved to C:\\Users\\anind\\Desktop\\Indiana University Bloomington\\Semester 2\\I606 Network Science\\Project\\Data\\rerunning\\Project_Auto_and_Finance_Sector_250424\\Financial_Data\\ UNIPARTS.NS_data.xlsx\n",
      "Downloading data for  VIKASECO.NS\n"
     ]
    },
    {
     "name": "stderr",
     "output_type": "stream",
     "text": [
      "\n",
      "[*********************100%%**********************]  1 of 1 completed\n",
      "[*********************100%%**********************]  1 of 1 completed"
     ]
    },
    {
     "name": "stdout",
     "output_type": "stream",
     "text": [
      "Data for  VIKASECO.NS saved to C:\\Users\\anind\\Desktop\\Indiana University Bloomington\\Semester 2\\I606 Network Science\\Project\\Data\\rerunning\\Project_Auto_and_Finance_Sector_250424\\Financial_Data\\ VIKASECO.NS_data.xlsx\n",
      "Downloading data for  WSI.NS\n",
      "Data for  WSI.NS saved to C:\\Users\\anind\\Desktop\\Indiana University Bloomington\\Semester 2\\I606 Network Science\\Project\\Data\\rerunning\\Project_Auto_and_Finance_Sector_250424\\Financial_Data\\ WSI.NS_data.xlsx\n",
      "Downloading data for  WALCHANNAG.NS\n"
     ]
    },
    {
     "name": "stderr",
     "output_type": "stream",
     "text": [
      "\n",
      "[*********************100%%**********************]  1 of 1 completed\n",
      "[*********************100%%**********************]  1 of 1 completed\n"
     ]
    },
    {
     "name": "stdout",
     "output_type": "stream",
     "text": [
      "Data for  WALCHANNAG.NS saved to C:\\Users\\anind\\Desktop\\Indiana University Bloomington\\Semester 2\\I606 Network Science\\Project\\Data\\rerunning\\Project_Auto_and_Finance_Sector_250424\\Financial_Data\\ WALCHANNAG.NS_data.xlsx\n",
      "Downloading data for  WENDT.NS\n",
      "Data for  WENDT.NS saved to C:\\Users\\anind\\Desktop\\Indiana University Bloomington\\Semester 2\\I606 Network Science\\Project\\Data\\rerunning\\Project_Auto_and_Finance_Sector_250424\\Financial_Data\\ WENDT.NS_data.xlsx\n",
      "Downloading data for  WINDMACHIN.NS\n"
     ]
    },
    {
     "name": "stderr",
     "output_type": "stream",
     "text": [
      "[*********************100%%**********************]  1 of 1 completed\n",
      "[*********************100%%**********************]  1 of 1 completed"
     ]
    },
    {
     "name": "stdout",
     "output_type": "stream",
     "text": [
      "Data for  WINDMACHIN.NS saved to C:\\Users\\anind\\Desktop\\Indiana University Bloomington\\Semester 2\\I606 Network Science\\Project\\Data\\rerunning\\Project_Auto_and_Finance_Sector_250424\\Financial_Data\\ WINDMACHIN.NS_data.xlsx\n",
      "Downloading data for  YUKEN.NS\n"
     ]
    },
    {
     "name": "stderr",
     "output_type": "stream",
     "text": [
      "\n",
      "[*********************100%%**********************]  1 of 1 completed"
     ]
    },
    {
     "name": "stdout",
     "output_type": "stream",
     "text": [
      "Data for  YUKEN.NS saved to C:\\Users\\anind\\Desktop\\Indiana University Bloomington\\Semester 2\\I606 Network Science\\Project\\Data\\rerunning\\Project_Auto_and_Finance_Sector_250424\\Financial_Data\\ YUKEN.NS_data.xlsx\n",
      "Processing file: C:\\Users\\anind\\Desktop\\Indiana University Bloomington\\Semester 2\\I606 Network Science\\Project\\Data\\rerunning\\Project_Auto_and_Finance_Sector_250424\\Investment_Banking___Brokerage_Services.xlsx\n",
      "Downloading data for  5PAISA.NS\n",
      "Data for  5PAISA.NS saved to C:\\Users\\anind\\Desktop\\Indiana University Bloomington\\Semester 2\\I606 Network Science\\Project\\Data\\rerunning\\Project_Auto_and_Finance_Sector_250424\\Financial_Data\\ 5PAISA.NS_data.xlsx\n",
      "Downloading data for  ALMONDZ.NS\n"
     ]
    },
    {
     "name": "stderr",
     "output_type": "stream",
     "text": [
      "\n",
      "[*********************100%%**********************]  1 of 1 completed\n",
      "[*********************100%%**********************]  1 of 1 completed"
     ]
    },
    {
     "name": "stdout",
     "output_type": "stream",
     "text": [
      "Data for  ALMONDZ.NS saved to C:\\Users\\anind\\Desktop\\Indiana University Bloomington\\Semester 2\\I606 Network Science\\Project\\Data\\rerunning\\Project_Auto_and_Finance_Sector_250424\\Financial_Data\\ ALMONDZ.NS_data.xlsx\n",
      "Downloading data for  ANGELONE.NS\n"
     ]
    },
    {
     "name": "stderr",
     "output_type": "stream",
     "text": [
      "\n",
      "[*********************100%%**********************]  1 of 1 completed"
     ]
    },
    {
     "name": "stdout",
     "output_type": "stream",
     "text": [
      "Data for  ANGELONE.NS saved to C:\\Users\\anind\\Desktop\\Indiana University Bloomington\\Semester 2\\I606 Network Science\\Project\\Data\\rerunning\\Project_Auto_and_Finance_Sector_250424\\Financial_Data\\ ANGELONE.NS_data.xlsx\n",
      "Downloading data for  ARIHANTCAP.NS\n"
     ]
    },
    {
     "name": "stderr",
     "output_type": "stream",
     "text": [
      "\n",
      "[*********************100%%**********************]  1 of 1 completed"
     ]
    },
    {
     "name": "stdout",
     "output_type": "stream",
     "text": [
      "Data for  ARIHANTCAP.NS saved to C:\\Users\\anind\\Desktop\\Indiana University Bloomington\\Semester 2\\I606 Network Science\\Project\\Data\\rerunning\\Project_Auto_and_Finance_Sector_250424\\Financial_Data\\ ARIHANTCAP.NS_data.xlsx\n",
      "Downloading data for  BLBLIMITED.NS\n"
     ]
    },
    {
     "name": "stderr",
     "output_type": "stream",
     "text": [
      "\n",
      "[*********************100%%**********************]  1 of 1 completed"
     ]
    },
    {
     "name": "stdout",
     "output_type": "stream",
     "text": [
      "Data for  BLBLIMITED.NS saved to C:\\Users\\anind\\Desktop\\Indiana University Bloomington\\Semester 2\\I606 Network Science\\Project\\Data\\rerunning\\Project_Auto_and_Finance_Sector_250424\\Financial_Data\\ BLBLIMITED.NS_data.xlsx\n",
      "Downloading data for  DBSTOCKBRO.NS\n"
     ]
    },
    {
     "name": "stderr",
     "output_type": "stream",
     "text": [
      "\n",
      "[*********************100%%**********************]  1 of 1 completed"
     ]
    },
    {
     "name": "stdout",
     "output_type": "stream",
     "text": [
      "Data for  DBSTOCKBRO.NS saved to C:\\Users\\anind\\Desktop\\Indiana University Bloomington\\Semester 2\\I606 Network Science\\Project\\Data\\rerunning\\Project_Auto_and_Finance_Sector_250424\\Financial_Data\\ DBSTOCKBRO.NS_data.xlsx\n",
      "Downloading data for  DOLATALGO.NS\n",
      "Data for  DOLATALGO.NS saved to C:\\Users\\anind\\Desktop\\Indiana University Bloomington\\Semester 2\\I606 Network Science\\Project\\Data\\rerunning\\Project_Auto_and_Finance_Sector_250424\\Financial_Data\\ DOLATALGO.NS_data.xlsx\n",
      "Downloading data for  EMKAY.NS\n"
     ]
    },
    {
     "name": "stderr",
     "output_type": "stream",
     "text": [
      "\n",
      "[*********************100%%**********************]  1 of 1 completed\n",
      "[*********************100%%**********************]  1 of 1 completed\n",
      "[*********************100%%**********************]  1 of 1 completed"
     ]
    },
    {
     "name": "stdout",
     "output_type": "stream",
     "text": [
      "Data for  EMKAY.NS saved to C:\\Users\\anind\\Desktop\\Indiana University Bloomington\\Semester 2\\I606 Network Science\\Project\\Data\\rerunning\\Project_Auto_and_Finance_Sector_250424\\Financial_Data\\ EMKAY.NS_data.xlsx\n",
      "Downloading data for  GATECH.NS\n",
      "Data for  GATECH.NS saved to C:\\Users\\anind\\Desktop\\Indiana University Bloomington\\Semester 2\\I606 Network Science\\Project\\Data\\rerunning\\Project_Auto_and_Finance_Sector_250424\\Financial_Data\\ GATECH.NS_data.xlsx\n",
      "Downloading data for  GEOJITFSL.NS\n"
     ]
    },
    {
     "name": "stderr",
     "output_type": "stream",
     "text": [
      "\n",
      "[*********************100%%**********************]  1 of 1 completed"
     ]
    },
    {
     "name": "stdout",
     "output_type": "stream",
     "text": [
      "Data for  GEOJITFSL.NS saved to C:\\Users\\anind\\Desktop\\Indiana University Bloomington\\Semester 2\\I606 Network Science\\Project\\Data\\rerunning\\Project_Auto_and_Finance_Sector_250424\\Financial_Data\\ GEOJITFSL.NS_data.xlsx\n",
      "Downloading data for  ISEC.NS\n",
      "Data for  ISEC.NS saved to C:\\Users\\anind\\Desktop\\Indiana University Bloomington\\Semester 2\\I606 Network Science\\Project\\Data\\rerunning\\Project_Auto_and_Finance_Sector_250424\\Financial_Data\\ ISEC.NS_data.xlsx\n",
      "Downloading data for  IIFLSEC.NS\n"
     ]
    },
    {
     "name": "stderr",
     "output_type": "stream",
     "text": [
      "\n",
      "[*********************100%%**********************]  1 of 1 completed\n",
      "[*********************100%%**********************]  1 of 1 completed\n"
     ]
    },
    {
     "name": "stdout",
     "output_type": "stream",
     "text": [
      "Data for  IIFLSEC.NS saved to C:\\Users\\anind\\Desktop\\Indiana University Bloomington\\Semester 2\\I606 Network Science\\Project\\Data\\rerunning\\Project_Auto_and_Finance_Sector_250424\\Financial_Data\\ IIFLSEC.NS_data.xlsx\n",
      "Downloading data for  INDBANK.NS\n"
     ]
    },
    {
     "name": "stderr",
     "output_type": "stream",
     "text": [
      "[*********************100%%**********************]  1 of 1 completed"
     ]
    },
    {
     "name": "stdout",
     "output_type": "stream",
     "text": [
      "Data for  INDBANK.NS saved to C:\\Users\\anind\\Desktop\\Indiana University Bloomington\\Semester 2\\I606 Network Science\\Project\\Data\\rerunning\\Project_Auto_and_Finance_Sector_250424\\Financial_Data\\ INDBANK.NS_data.xlsx\n",
      "Downloading data for  INDOTHAI.NS\n",
      "Data for  INDOTHAI.NS saved to C:\\Users\\anind\\Desktop\\Indiana University Bloomington\\Semester 2\\I606 Network Science\\Project\\Data\\rerunning\\Project_Auto_and_Finance_Sector_250424\\Financial_Data\\ INDOTHAI.NS_data.xlsx\n",
      "Downloading data for  INVENTURE.NS\n"
     ]
    },
    {
     "name": "stderr",
     "output_type": "stream",
     "text": [
      "\n",
      "[*********************100%%**********************]  1 of 1 completed\n",
      "[*********************100%%**********************]  1 of 1 completed"
     ]
    },
    {
     "name": "stdout",
     "output_type": "stream",
     "text": [
      "Data for  INVENTURE.NS saved to C:\\Users\\anind\\Desktop\\Indiana University Bloomington\\Semester 2\\I606 Network Science\\Project\\Data\\rerunning\\Project_Auto_and_Finance_Sector_250424\\Financial_Data\\ INVENTURE.NS_data.xlsx\n",
      "Downloading data for  JMFINANCIL.NS\n"
     ]
    },
    {
     "name": "stderr",
     "output_type": "stream",
     "text": [
      "\n",
      "[*********************100%%**********************]  1 of 1 completed"
     ]
    },
    {
     "name": "stdout",
     "output_type": "stream",
     "text": [
      "Data for  JMFINANCIL.NS saved to C:\\Users\\anind\\Desktop\\Indiana University Bloomington\\Semester 2\\I606 Network Science\\Project\\Data\\rerunning\\Project_Auto_and_Finance_Sector_250424\\Financial_Data\\ JMFINANCIL.NS_data.xlsx\n",
      "Downloading data for  KEYFINSERV.NS\n"
     ]
    },
    {
     "name": "stderr",
     "output_type": "stream",
     "text": [
      "\n",
      "[*********************100%%**********************]  1 of 1 completed"
     ]
    },
    {
     "name": "stdout",
     "output_type": "stream",
     "text": [
      "Data for  KEYFINSERV.NS saved to C:\\Users\\anind\\Desktop\\Indiana University Bloomington\\Semester 2\\I606 Network Science\\Project\\Data\\rerunning\\Project_Auto_and_Finance_Sector_250424\\Financial_Data\\ KEYFINSERV.NS_data.xlsx\n",
      "Downloading data for  KHANDSE.NS\n"
     ]
    },
    {
     "name": "stderr",
     "output_type": "stream",
     "text": [
      "\n",
      "[*********************100%%**********************]  1 of 1 completed"
     ]
    },
    {
     "name": "stdout",
     "output_type": "stream",
     "text": [
      "Data for  KHANDSE.NS saved to C:\\Users\\anind\\Desktop\\Indiana University Bloomington\\Semester 2\\I606 Network Science\\Project\\Data\\rerunning\\Project_Auto_and_Finance_Sector_250424\\Financial_Data\\ KHANDSE.NS_data.xlsx\n",
      "Downloading data for  MASKINVEST.NS\n"
     ]
    },
    {
     "name": "stderr",
     "output_type": "stream",
     "text": [
      "\n",
      "[*********************100%%**********************]  1 of 1 completed"
     ]
    },
    {
     "name": "stdout",
     "output_type": "stream",
     "text": [
      "Data for  MASKINVEST.NS saved to C:\\Users\\anind\\Desktop\\Indiana University Bloomington\\Semester 2\\I606 Network Science\\Project\\Data\\rerunning\\Project_Auto_and_Finance_Sector_250424\\Financial_Data\\ MASKINVEST.NS_data.xlsx\n",
      "Downloading data for  MOTILALOFS.NS\n"
     ]
    },
    {
     "name": "stderr",
     "output_type": "stream",
     "text": [
      "\n",
      "[*********************100%%**********************]  1 of 1 completed"
     ]
    },
    {
     "name": "stdout",
     "output_type": "stream",
     "text": [
      "Data for  MOTILALOFS.NS saved to C:\\Users\\anind\\Desktop\\Indiana University Bloomington\\Semester 2\\I606 Network Science\\Project\\Data\\rerunning\\Project_Auto_and_Finance_Sector_250424\\Financial_Data\\ MOTILALOFS.NS_data.xlsx\n",
      "Downloading data for  NDGL.NS\n"
     ]
    },
    {
     "name": "stderr",
     "output_type": "stream",
     "text": [
      "\n",
      "[*********************100%%**********************]  1 of 1 completed\n"
     ]
    },
    {
     "name": "stdout",
     "output_type": "stream",
     "text": [
      "Data for  NDGL.NS saved to C:\\Users\\anind\\Desktop\\Indiana University Bloomington\\Semester 2\\I606 Network Science\\Project\\Data\\rerunning\\Project_Auto_and_Finance_Sector_250424\\Financial_Data\\ NDGL.NS_data.xlsx\n",
      "Downloading data for  ONELIFECAP.NS\n",
      "Data for  ONELIFECAP.NS saved to C:\\Users\\anind\\Desktop\\Indiana University Bloomington\\Semester 2\\I606 Network Science\\Project\\Data\\rerunning\\Project_Auto_and_Finance_Sector_250424\\Financial_Data\\ ONELIFECAP.NS_data.xlsx\n",
      "Downloading data for  PNBGILTS.NS\n"
     ]
    },
    {
     "name": "stderr",
     "output_type": "stream",
     "text": [
      "[*********************100%%**********************]  1 of 1 completed\n",
      "[*********************100%%**********************]  1 of 1 completed"
     ]
    },
    {
     "name": "stdout",
     "output_type": "stream",
     "text": [
      "Data for  PNBGILTS.NS saved to C:\\Users\\anind\\Desktop\\Indiana University Bloomington\\Semester 2\\I606 Network Science\\Project\\Data\\rerunning\\Project_Auto_and_Finance_Sector_250424\\Financial_Data\\ PNBGILTS.NS_data.xlsx\n",
      "Downloading data for  PRIMESECU.NS\n"
     ]
    },
    {
     "name": "stderr",
     "output_type": "stream",
     "text": [
      "\n",
      "[*********************100%%**********************]  1 of 1 completed"
     ]
    },
    {
     "name": "stdout",
     "output_type": "stream",
     "text": [
      "Data for  PRIMESECU.NS saved to C:\\Users\\anind\\Desktop\\Indiana University Bloomington\\Semester 2\\I606 Network Science\\Project\\Data\\rerunning\\Project_Auto_and_Finance_Sector_250424\\Financial_Data\\ PRIMESECU.NS_data.xlsx\n",
      "Downloading data for  RELIGARE.NS\n"
     ]
    },
    {
     "name": "stderr",
     "output_type": "stream",
     "text": [
      "\n"
     ]
    },
    {
     "name": "stdout",
     "output_type": "stream",
     "text": [
      "Data for  RELIGARE.NS saved to C:\\Users\\anind\\Desktop\\Indiana University Bloomington\\Semester 2\\I606 Network Science\\Project\\Data\\rerunning\\Project_Auto_and_Finance_Sector_250424\\Financial_Data\\ RELIGARE.NS_data.xlsx\n",
      "Downloading data for  SHAREINDIA.NS\n"
     ]
    },
    {
     "name": "stderr",
     "output_type": "stream",
     "text": [
      "[*********************100%%**********************]  1 of 1 completed\n"
     ]
    },
    {
     "name": "stdout",
     "output_type": "stream",
     "text": [
      "Data for  SHAREINDIA.NS saved to C:\\Users\\anind\\Desktop\\Indiana University Bloomington\\Semester 2\\I606 Network Science\\Project\\Data\\rerunning\\Project_Auto_and_Finance_Sector_250424\\Financial_Data\\ SHAREINDIA.NS_data.xlsx\n",
      "Downloading data for  STEELCITY.NS\n"
     ]
    },
    {
     "name": "stderr",
     "output_type": "stream",
     "text": [
      "[*********************100%%**********************]  1 of 1 completed\n"
     ]
    },
    {
     "name": "stdout",
     "output_type": "stream",
     "text": [
      "Data for  STEELCITY.NS saved to C:\\Users\\anind\\Desktop\\Indiana University Bloomington\\Semester 2\\I606 Network Science\\Project\\Data\\rerunning\\Project_Auto_and_Finance_Sector_250424\\Financial_Data\\ STEELCITY.NS_data.xlsx\n",
      "Downloading data for  THEINVEST.NS\n"
     ]
    },
    {
     "name": "stderr",
     "output_type": "stream",
     "text": [
      "[*********************100%%**********************]  1 of 1 completed\n",
      "[*********************100%%**********************]  1 of 1 completed"
     ]
    },
    {
     "name": "stdout",
     "output_type": "stream",
     "text": [
      "Data for  THEINVEST.NS saved to C:\\Users\\anind\\Desktop\\Indiana University Bloomington\\Semester 2\\I606 Network Science\\Project\\Data\\rerunning\\Project_Auto_and_Finance_Sector_250424\\Financial_Data\\ THEINVEST.NS_data.xlsx\n",
      "Downloading data for  TIMESGTY.NS\n"
     ]
    },
    {
     "name": "stderr",
     "output_type": "stream",
     "text": [
      "\n",
      "[*********************100%%**********************]  1 of 1 completed\n"
     ]
    },
    {
     "name": "stdout",
     "output_type": "stream",
     "text": [
      "Data for  TIMESGTY.NS saved to C:\\Users\\anind\\Desktop\\Indiana University Bloomington\\Semester 2\\I606 Network Science\\Project\\Data\\rerunning\\Project_Auto_and_Finance_Sector_250424\\Financial_Data\\ TIMESGTY.NS_data.xlsx\n",
      "Downloading data for  21STCENMGM.NS\n",
      "Data for  21STCENMGM.NS saved to C:\\Users\\anind\\Desktop\\Indiana University Bloomington\\Semester 2\\I606 Network Science\\Project\\Data\\rerunning\\Project_Auto_and_Finance_Sector_250424\\Financial_Data\\ 21STCENMGM.NS_data.xlsx\n",
      "Downloading data for  VLSFINANCE.NS\n"
     ]
    },
    {
     "name": "stderr",
     "output_type": "stream",
     "text": [
      "[*********************100%%**********************]  1 of 1 completed\n",
      "[*********************100%%**********************]  1 of 1 completed"
     ]
    },
    {
     "name": "stdout",
     "output_type": "stream",
     "text": [
      "Data for  VLSFINANCE.NS saved to C:\\Users\\anind\\Desktop\\Indiana University Bloomington\\Semester 2\\I606 Network Science\\Project\\Data\\rerunning\\Project_Auto_and_Finance_Sector_250424\\Financial_Data\\ VLSFINANCE.NS_data.xlsx\n",
      "Downloading data for  WEALTH.NS\n",
      "Data for  WEALTH.NS saved to C:\\Users\\anind\\Desktop\\Indiana University Bloomington\\Semester 2\\I606 Network Science\\Project\\Data\\rerunning\\Project_Auto_and_Finance_Sector_250424\\Financial_Data\\ WEALTH.NS_data.xlsx\n",
      "Processing file: C:\\Users\\anind\\Desktop\\Indiana University Bloomington\\Semester 2\\I606 Network Science\\Project\\Data\\rerunning\\Project_Auto_and_Finance_Sector_250424\\Iron___Steel.xlsx\n",
      "Downloading data for  AEROFLEX.NS\n"
     ]
    },
    {
     "name": "stderr",
     "output_type": "stream",
     "text": [
      "\n",
      "[*********************100%%**********************]  1 of 1 completed\n",
      "[*********************100%%**********************]  1 of 1 completed\n"
     ]
    },
    {
     "name": "stdout",
     "output_type": "stream",
     "text": [
      "Data for  AEROFLEX.NS saved to C:\\Users\\anind\\Desktop\\Indiana University Bloomington\\Semester 2\\I606 Network Science\\Project\\Data\\rerunning\\Project_Auto_and_Finance_Sector_250424\\Financial_Data\\ AEROFLEX.NS_data.xlsx\n",
      "Downloading data for  ANKITMETAL.NS\n",
      "Data for  ANKITMETAL.NS saved to C:\\Users\\anind\\Desktop\\Indiana University Bloomington\\Semester 2\\I606 Network Science\\Project\\Data\\rerunning\\Project_Auto_and_Finance_Sector_250424\\Financial_Data\\ ANKITMETAL.NS_data.xlsx\n",
      "Downloading data for  BKMINDST.NS\n"
     ]
    },
    {
     "name": "stderr",
     "output_type": "stream",
     "text": [
      "[*********************100%%**********************]  1 of 1 completed\n",
      "[*********************100%%**********************]  1 of 1 completed\n"
     ]
    },
    {
     "name": "stdout",
     "output_type": "stream",
     "text": [
      "Data for  BKMINDST.NS saved to C:\\Users\\anind\\Desktop\\Indiana University Bloomington\\Semester 2\\I606 Network Science\\Project\\Data\\rerunning\\Project_Auto_and_Finance_Sector_250424\\Financial_Data\\ BKMINDST.NS_data.xlsx\n",
      "Downloading data for  BEDMUTHA.NS\n",
      "Data for  BEDMUTHA.NS saved to C:\\Users\\anind\\Desktop\\Indiana University Bloomington\\Semester 2\\I606 Network Science\\Project\\Data\\rerunning\\Project_Auto_and_Finance_Sector_250424\\Financial_Data\\ BEDMUTHA.NS_data.xlsx\n",
      "Downloading data for  BHARATWIRE.NS\n"
     ]
    },
    {
     "name": "stderr",
     "output_type": "stream",
     "text": [
      "[*********************100%%**********************]  1 of 1 completed\n",
      "[*********************100%%**********************]  1 of 1 completed"
     ]
    },
    {
     "name": "stdout",
     "output_type": "stream",
     "text": [
      "Data for  BHARATWIRE.NS saved to C:\\Users\\anind\\Desktop\\Indiana University Bloomington\\Semester 2\\I606 Network Science\\Project\\Data\\rerunning\\Project_Auto_and_Finance_Sector_250424\\Financial_Data\\ BHARATWIRE.NS_data.xlsx\n",
      "Downloading data for  DPWIRES.NS\n"
     ]
    },
    {
     "name": "stderr",
     "output_type": "stream",
     "text": [
      "\n",
      "[*********************100%%**********************]  1 of 1 completed"
     ]
    },
    {
     "name": "stdout",
     "output_type": "stream",
     "text": [
      "Data for  DPWIRES.NS saved to C:\\Users\\anind\\Desktop\\Indiana University Bloomington\\Semester 2\\I606 Network Science\\Project\\Data\\rerunning\\Project_Auto_and_Finance_Sector_250424\\Financial_Data\\ DPWIRES.NS_data.xlsx\n",
      "Downloading data for  ELECTCAST.NS\n",
      "Data for  ELECTCAST.NS saved to C:\\Users\\anind\\Desktop\\Indiana University Bloomington\\Semester 2\\I606 Network Science\\Project\\Data\\rerunning\\Project_Auto_and_Finance_Sector_250424\\Financial_Data\\ ELECTCAST.NS_data.xlsx\n",
      "Downloading data for  ELECTHERM.NS\n"
     ]
    },
    {
     "name": "stderr",
     "output_type": "stream",
     "text": [
      "\n",
      "[*********************100%%**********************]  1 of 1 completed\n"
     ]
    },
    {
     "name": "stdout",
     "output_type": "stream",
     "text": [
      "Data for  ELECTHERM.NS saved to C:\\Users\\anind\\Desktop\\Indiana University Bloomington\\Semester 2\\I606 Network Science\\Project\\Data\\rerunning\\Project_Auto_and_Finance_Sector_250424\\Financial_Data\\ ELECTHERM.NS_data.xlsx\n",
      "Downloading data for  GALLISPAT.NS\n"
     ]
    },
    {
     "name": "stderr",
     "output_type": "stream",
     "text": [
      "[*********************100%%**********************]  1 of 1 completed\n",
      "\n",
      "1 Failed download:\n",
      "['GALLISPAT.NS']: Exception('%ticker%: No timezone found, symbol may be delisted')\n",
      "[*********************100%%**********************]  1 of 1 completed\n"
     ]
    },
    {
     "name": "stdout",
     "output_type": "stream",
     "text": [
      "No data found for  GALLISPAT.NS\n",
      "Downloading data for  GALLANTT.NS\n",
      "Data for  GALLANTT.NS saved to C:\\Users\\anind\\Desktop\\Indiana University Bloomington\\Semester 2\\I606 Network Science\\Project\\Data\\rerunning\\Project_Auto_and_Finance_Sector_250424\\Financial_Data\\ GALLANTT.NS_data.xlsx\n",
      "Downloading data for  GEEKAYWIRE.NS\n"
     ]
    },
    {
     "name": "stderr",
     "output_type": "stream",
     "text": [
      "[*********************100%%**********************]  1 of 1 completed\n"
     ]
    },
    {
     "name": "stdout",
     "output_type": "stream",
     "text": [
      "Data for  GEEKAYWIRE.NS saved to C:\\Users\\anind\\Desktop\\Indiana University Bloomington\\Semester 2\\I606 Network Science\\Project\\Data\\rerunning\\Project_Auto_and_Finance_Sector_250424\\Financial_Data\\ GEEKAYWIRE.NS_data.xlsx\n",
      "Downloading data for  GPIL.NS\n"
     ]
    },
    {
     "name": "stderr",
     "output_type": "stream",
     "text": [
      "[*********************100%%**********************]  1 of 1 completed\n",
      "[*********************100%%**********************]  1 of 1 completed"
     ]
    },
    {
     "name": "stdout",
     "output_type": "stream",
     "text": [
      "Data for  GPIL.NS saved to C:\\Users\\anind\\Desktop\\Indiana University Bloomington\\Semester 2\\I606 Network Science\\Project\\Data\\rerunning\\Project_Auto_and_Finance_Sector_250424\\Financial_Data\\ GPIL.NS_data.xlsx\n",
      "Downloading data for  GOODLUCK.NS\n"
     ]
    },
    {
     "name": "stderr",
     "output_type": "stream",
     "text": [
      "\n",
      "[*********************100%%**********************]  1 of 1 completed"
     ]
    },
    {
     "name": "stdout",
     "output_type": "stream",
     "text": [
      "Data for  GOODLUCK.NS saved to C:\\Users\\anind\\Desktop\\Indiana University Bloomington\\Semester 2\\I606 Network Science\\Project\\Data\\rerunning\\Project_Auto_and_Finance_Sector_250424\\Financial_Data\\ GOODLUCK.NS_data.xlsx\n",
      "Downloading data for  GFSTEELS.NS\n"
     ]
    },
    {
     "name": "stderr",
     "output_type": "stream",
     "text": [
      "\n",
      "[*********************100%%**********************]  1 of 1 completed"
     ]
    },
    {
     "name": "stdout",
     "output_type": "stream",
     "text": [
      "Data for  GFSTEELS.NS saved to C:\\Users\\anind\\Desktop\\Indiana University Bloomington\\Semester 2\\I606 Network Science\\Project\\Data\\rerunning\\Project_Auto_and_Finance_Sector_250424\\Financial_Data\\ GFSTEELS.NS_data.xlsx\n",
      "Downloading data for  HISARMETAL.NS\n"
     ]
    },
    {
     "name": "stderr",
     "output_type": "stream",
     "text": [
      "\n",
      "[*********************100%%**********************]  1 of 1 completed"
     ]
    },
    {
     "name": "stdout",
     "output_type": "stream",
     "text": [
      "Data for  HISARMETAL.NS saved to C:\\Users\\anind\\Desktop\\Indiana University Bloomington\\Semester 2\\I606 Network Science\\Project\\Data\\rerunning\\Project_Auto_and_Finance_Sector_250424\\Financial_Data\\ HISARMETAL.NS_data.xlsx\n",
      "Downloading data for  ISMTLTD.NS\n",
      "Data for  ISMTLTD.NS saved to C:\\Users\\anind\\Desktop\\Indiana University Bloomington\\Semester 2\\I606 Network Science\\Project\\Data\\rerunning\\Project_Auto_and_Finance_Sector_250424\\Financial_Data\\ ISMTLTD.NS_data.xlsx\n",
      "Downloading data for  INCREDIBLE.NS\n"
     ]
    },
    {
     "name": "stderr",
     "output_type": "stream",
     "text": [
      "\n",
      "[*********************100%%**********************]  1 of 1 completed\n",
      "[*********************100%%**********************]  1 of 1 completed\n"
     ]
    },
    {
     "name": "stdout",
     "output_type": "stream",
     "text": [
      "Data for  INCREDIBLE.NS saved to C:\\Users\\anind\\Desktop\\Indiana University Bloomington\\Semester 2\\I606 Network Science\\Project\\Data\\rerunning\\Project_Auto_and_Finance_Sector_250424\\Financial_Data\\ INCREDIBLE.NS_data.xlsx\n",
      "Downloading data for  IMFA.NS\n",
      "Data for  IMFA.NS saved to C:\\Users\\anind\\Desktop\\Indiana University Bloomington\\Semester 2\\I606 Network Science\\Project\\Data\\rerunning\\Project_Auto_and_Finance_Sector_250424\\Financial_Data\\ IMFA.NS_data.xlsx\n",
      "Downloading data for  JSWISPL.NS\n"
     ]
    },
    {
     "name": "stderr",
     "output_type": "stream",
     "text": [
      "[*********************100%%**********************]  1 of 1 completed\n",
      "\n",
      "1 Failed download:\n",
      "['JSWISPL.NS']: Exception('%ticker%: No price data found, symbol may be delisted (1d 2021-01-01 -> 2023-12-31)')\n",
      "[*********************100%%**********************]  1 of 1 completed\n"
     ]
    },
    {
     "name": "stdout",
     "output_type": "stream",
     "text": [
      "No data found for  JSWISPL.NS\n",
      "Downloading data for  JSWSTEEL.NS\n"
     ]
    },
    {
     "name": "stderr",
     "output_type": "stream",
     "text": [
      "[*********************100%%**********************]  1 of 1 completed"
     ]
    },
    {
     "name": "stdout",
     "output_type": "stream",
     "text": [
      "Data for  JSWSTEEL.NS saved to C:\\Users\\anind\\Desktop\\Indiana University Bloomington\\Semester 2\\I606 Network Science\\Project\\Data\\rerunning\\Project_Auto_and_Finance_Sector_250424\\Financial_Data\\ JSWSTEEL.NS_data.xlsx\n",
      "Downloading data for  JAIBALAJI.NS\n"
     ]
    },
    {
     "name": "stderr",
     "output_type": "stream",
     "text": [
      "\n",
      "[*********************100%%**********************]  1 of 1 completed"
     ]
    },
    {
     "name": "stdout",
     "output_type": "stream",
     "text": [
      "Data for  JAIBALAJI.NS saved to C:\\Users\\anind\\Desktop\\Indiana University Bloomington\\Semester 2\\I606 Network Science\\Project\\Data\\rerunning\\Project_Auto_and_Finance_Sector_250424\\Financial_Data\\ JAIBALAJI.NS_data.xlsx\n",
      "Downloading data for  JINDALSAW.NS\n"
     ]
    },
    {
     "name": "stderr",
     "output_type": "stream",
     "text": [
      "\n",
      "[*********************100%%**********************]  1 of 1 completed"
     ]
    },
    {
     "name": "stdout",
     "output_type": "stream",
     "text": [
      "Data for  JINDALSAW.NS saved to C:\\Users\\anind\\Desktop\\Indiana University Bloomington\\Semester 2\\I606 Network Science\\Project\\Data\\rerunning\\Project_Auto_and_Finance_Sector_250424\\Financial_Data\\ JINDALSAW.NS_data.xlsx\n",
      "Downloading data for  JSLHISAR.NS\n",
      "Data for  JSLHISAR.NS saved to C:\\Users\\anind\\Desktop\\Indiana University Bloomington\\Semester 2\\I606 Network Science\\Project\\Data\\rerunning\\Project_Auto_and_Finance_Sector_250424\\Financial_Data\\ JSLHISAR.NS_data.xlsx\n",
      "Downloading data for  JSL.NS\n"
     ]
    },
    {
     "name": "stderr",
     "output_type": "stream",
     "text": [
      "\n",
      "[*********************100%%**********************]  1 of 1 completed\n",
      "[*********************100%%**********************]  1 of 1 completed"
     ]
    },
    {
     "name": "stdout",
     "output_type": "stream",
     "text": [
      "Data for  JSL.NS saved to C:\\Users\\anind\\Desktop\\Indiana University Bloomington\\Semester 2\\I606 Network Science\\Project\\Data\\rerunning\\Project_Auto_and_Finance_Sector_250424\\Financial_Data\\ JSL.NS_data.xlsx\n",
      "Downloading data for  JINDALSTEL.NS\n"
     ]
    },
    {
     "name": "stderr",
     "output_type": "stream",
     "text": [
      "\n",
      "[*********************100%%**********************]  1 of 1 completed"
     ]
    },
    {
     "name": "stdout",
     "output_type": "stream",
     "text": [
      "Data for  JINDALSTEL.NS saved to C:\\Users\\anind\\Desktop\\Indiana University Bloomington\\Semester 2\\I606 Network Science\\Project\\Data\\rerunning\\Project_Auto_and_Finance_Sector_250424\\Financial_Data\\ JINDALSTEL.NS_data.xlsx\n",
      "Downloading data for  KSL.NS\n"
     ]
    },
    {
     "name": "stderr",
     "output_type": "stream",
     "text": [
      "\n",
      "[*********************100%%**********************]  1 of 1 completed"
     ]
    },
    {
     "name": "stdout",
     "output_type": "stream",
     "text": [
      "Data for  KSL.NS saved to C:\\Users\\anind\\Desktop\\Indiana University Bloomington\\Semester 2\\I606 Network Science\\Project\\Data\\rerunning\\Project_Auto_and_Finance_Sector_250424\\Financial_Data\\ KSL.NS_data.xlsx\n",
      "Downloading data for  KAMDHENU.NS\n"
     ]
    },
    {
     "name": "stderr",
     "output_type": "stream",
     "text": [
      "\n",
      "[*********************100%%**********************]  1 of 1 completed"
     ]
    },
    {
     "name": "stdout",
     "output_type": "stream",
     "text": [
      "Data for  KAMDHENU.NS saved to C:\\Users\\anind\\Desktop\\Indiana University Bloomington\\Semester 2\\I606 Network Science\\Project\\Data\\rerunning\\Project_Auto_and_Finance_Sector_250424\\Financial_Data\\ KAMDHENU.NS_data.xlsx\n",
      "Downloading data for  KIRLFER.NS\n",
      "Data for  KIRLFER.NS saved to C:\\Users\\anind\\Desktop\\Indiana University Bloomington\\Semester 2\\I606 Network Science\\Project\\Data\\rerunning\\Project_Auto_and_Finance_Sector_250424\\Financial_Data\\ KIRLFER.NS_data.xlsx\n",
      "Downloading data for  KRITIKA.NS\n"
     ]
    },
    {
     "name": "stderr",
     "output_type": "stream",
     "text": [
      "\n",
      "[*********************100%%**********************]  1 of 1 completed\n",
      "[*********************100%%**********************]  1 of 1 completed"
     ]
    },
    {
     "name": "stdout",
     "output_type": "stream",
     "text": [
      "Data for  KRITIKA.NS saved to C:\\Users\\anind\\Desktop\\Indiana University Bloomington\\Semester 2\\I606 Network Science\\Project\\Data\\rerunning\\Project_Auto_and_Finance_Sector_250424\\Financial_Data\\ KRITIKA.NS_data.xlsx\n",
      "Downloading data for  LLOYDSME.NS\n",
      "Data for  LLOYDSME.NS saved to C:\\Users\\anind\\Desktop\\Indiana University Bloomington\\Semester 2\\I606 Network Science\\Project\\Data\\rerunning\\Project_Auto_and_Finance_Sector_250424\\Financial_Data\\ LLOYDSME.NS_data.xlsx\n",
      "Downloading data for  MMFL.NS\n"
     ]
    },
    {
     "name": "stderr",
     "output_type": "stream",
     "text": [
      "\n",
      "[*********************100%%**********************]  1 of 1 completed\n",
      "[*********************100%%**********************]  1 of 1 completed"
     ]
    },
    {
     "name": "stdout",
     "output_type": "stream",
     "text": [
      "Data for  MMFL.NS saved to C:\\Users\\anind\\Desktop\\Indiana University Bloomington\\Semester 2\\I606 Network Science\\Project\\Data\\rerunning\\Project_Auto_and_Finance_Sector_250424\\Financial_Data\\ MMFL.NS_data.xlsx\n",
      "Downloading data for  MSPL.NS\n"
     ]
    },
    {
     "name": "stderr",
     "output_type": "stream",
     "text": [
      "\n",
      "[*********************100%%**********************]  1 of 1 completed"
     ]
    },
    {
     "name": "stdout",
     "output_type": "stream",
     "text": [
      "Data for  MSPL.NS saved to C:\\Users\\anind\\Desktop\\Indiana University Bloomington\\Semester 2\\I606 Network Science\\Project\\Data\\rerunning\\Project_Auto_and_Finance_Sector_250424\\Financial_Data\\ MSPL.NS_data.xlsx\n",
      "Downloading data for  MAHASTEEL.NS\n"
     ]
    },
    {
     "name": "stderr",
     "output_type": "stream",
     "text": [
      "\n",
      "[*********************100%%**********************]  1 of 1 completed"
     ]
    },
    {
     "name": "stdout",
     "output_type": "stream",
     "text": [
      "Data for  MAHASTEEL.NS saved to C:\\Users\\anind\\Desktop\\Indiana University Bloomington\\Semester 2\\I606 Network Science\\Project\\Data\\rerunning\\Project_Auto_and_Finance_Sector_250424\\Financial_Data\\ MAHASTEEL.NS_data.xlsx\n",
      "Downloading data for  MAHSEAMLES.NS\n"
     ]
    },
    {
     "name": "stderr",
     "output_type": "stream",
     "text": [
      "\n",
      "[*********************100%%**********************]  1 of 1 completed"
     ]
    },
    {
     "name": "stdout",
     "output_type": "stream",
     "text": [
      "Data for  MAHSEAMLES.NS saved to C:\\Users\\anind\\Desktop\\Indiana University Bloomington\\Semester 2\\I606 Network Science\\Project\\Data\\rerunning\\Project_Auto_and_Finance_Sector_250424\\Financial_Data\\ MAHSEAMLES.NS_data.xlsx\n",
      "Downloading data for  MAITHANALL.NS\n"
     ]
    },
    {
     "name": "stderr",
     "output_type": "stream",
     "text": [
      "\n",
      "[*********************100%%**********************]  1 of 1 completed"
     ]
    },
    {
     "name": "stdout",
     "output_type": "stream",
     "text": [
      "Data for  MAITHANALL.NS saved to C:\\Users\\anind\\Desktop\\Indiana University Bloomington\\Semester 2\\I606 Network Science\\Project\\Data\\rerunning\\Project_Auto_and_Finance_Sector_250424\\Financial_Data\\ MAITHANALL.NS_data.xlsx\n",
      "Downloading data for  MANAKCOAT.NS\n"
     ]
    },
    {
     "name": "stderr",
     "output_type": "stream",
     "text": [
      "\n"
     ]
    },
    {
     "name": "stdout",
     "output_type": "stream",
     "text": [
      "Data for  MANAKCOAT.NS saved to C:\\Users\\anind\\Desktop\\Indiana University Bloomington\\Semester 2\\I606 Network Science\\Project\\Data\\rerunning\\Project_Auto_and_Finance_Sector_250424\\Financial_Data\\ MANAKCOAT.NS_data.xlsx\n",
      "Downloading data for  MANAKSTEEL.NS\n"
     ]
    },
    {
     "name": "stderr",
     "output_type": "stream",
     "text": [
      "[*********************100%%**********************]  1 of 1 completed\n",
      "[*********************100%%**********************]  1 of 1 completed"
     ]
    },
    {
     "name": "stdout",
     "output_type": "stream",
     "text": [
      "Data for  MANAKSTEEL.NS saved to C:\\Users\\anind\\Desktop\\Indiana University Bloomington\\Semester 2\\I606 Network Science\\Project\\Data\\rerunning\\Project_Auto_and_Finance_Sector_250424\\Financial_Data\\ MANAKSTEEL.NS_data.xlsx\n",
      "Downloading data for  MIDHANI.NS\n"
     ]
    },
    {
     "name": "stderr",
     "output_type": "stream",
     "text": [
      "\n",
      "[*********************100%%**********************]  1 of 1 completed"
     ]
    },
    {
     "name": "stdout",
     "output_type": "stream",
     "text": [
      "Data for  MIDHANI.NS saved to C:\\Users\\anind\\Desktop\\Indiana University Bloomington\\Semester 2\\I606 Network Science\\Project\\Data\\rerunning\\Project_Auto_and_Finance_Sector_250424\\Financial_Data\\ MIDHANI.NS_data.xlsx\n",
      "Downloading data for  MUKANDLTD.NS\n"
     ]
    },
    {
     "name": "stderr",
     "output_type": "stream",
     "text": [
      "\n",
      "[*********************100%%**********************]  1 of 1 completed"
     ]
    },
    {
     "name": "stdout",
     "output_type": "stream",
     "text": [
      "Data for  MUKANDLTD.NS saved to C:\\Users\\anind\\Desktop\\Indiana University Bloomington\\Semester 2\\I606 Network Science\\Project\\Data\\rerunning\\Project_Auto_and_Finance_Sector_250424\\Financial_Data\\ MUKANDLTD.NS_data.xlsx\n",
      "Downloading data for  NSLNISP.NS\n",
      "Data for  NSLNISP.NS saved to C:\\Users\\anind\\Desktop\\Indiana University Bloomington\\Semester 2\\I606 Network Science\\Project\\Data\\rerunning\\Project_Auto_and_Finance_Sector_250424\\Financial_Data\\ NSLNISP.NS_data.xlsx\n",
      "Downloading data for  NATNLSTEEL.NS\n"
     ]
    },
    {
     "name": "stderr",
     "output_type": "stream",
     "text": [
      "\n",
      "[*********************100%%**********************]  1 of 1 completed\n",
      "\n",
      "1 Failed download:\n",
      "['NATNLSTEEL.NS']: Exception('%ticker%: No timezone found, symbol may be delisted')\n"
     ]
    },
    {
     "name": "stdout",
     "output_type": "stream",
     "text": [
      "No data found for  NATNLSTEEL.NS\n",
      "Downloading data for  PENIND.NS\n"
     ]
    },
    {
     "name": "stderr",
     "output_type": "stream",
     "text": [
      "[*********************100%%**********************]  1 of 1 completed\n",
      "[*********************100%%**********************]  1 of 1 completed"
     ]
    },
    {
     "name": "stdout",
     "output_type": "stream",
     "text": [
      "Data for  PENIND.NS saved to C:\\Users\\anind\\Desktop\\Indiana University Bloomington\\Semester 2\\I606 Network Science\\Project\\Data\\rerunning\\Project_Auto_and_Finance_Sector_250424\\Financial_Data\\ PENIND.NS_data.xlsx\n",
      "Downloading data for  PRAKASH.NS\n",
      "Data for  PRAKASH.NS saved to C:\\Users\\anind\\Desktop\\Indiana University Bloomington\\Semester 2\\I606 Network Science\\Project\\Data\\rerunning\\Project_Auto_and_Finance_Sector_250424\\Financial_Data\\ PRAKASH.NS_data.xlsx\n",
      "Downloading data for  RAJRATAN.NS\n"
     ]
    },
    {
     "name": "stderr",
     "output_type": "stream",
     "text": [
      "\n",
      "[*********************100%%**********************]  1 of 1 completed\n",
      "[*********************100%%**********************]  1 of 1 completed"
     ]
    },
    {
     "name": "stdout",
     "output_type": "stream",
     "text": [
      "Data for  RAJRATAN.NS saved to C:\\Users\\anind\\Desktop\\Indiana University Bloomington\\Semester 2\\I606 Network Science\\Project\\Data\\rerunning\\Project_Auto_and_Finance_Sector_250424\\Financial_Data\\ RAJRATAN.NS_data.xlsx\n",
      "Downloading data for  RATNAMANI.NS\n"
     ]
    },
    {
     "name": "stderr",
     "output_type": "stream",
     "text": [
      "\n",
      "[*********************100%%**********************]  1 of 1 completed\n",
      "[*********************100%%**********************]  1 of 1 completed"
     ]
    },
    {
     "name": "stdout",
     "output_type": "stream",
     "text": [
      "Data for  RATNAMANI.NS saved to C:\\Users\\anind\\Desktop\\Indiana University Bloomington\\Semester 2\\I606 Network Science\\Project\\Data\\rerunning\\Project_Auto_and_Finance_Sector_250424\\Financial_Data\\ RATNAMANI.NS_data.xlsx\n",
      "Downloading data for  RATNAVEER.NS\n",
      "Data for  RATNAVEER.NS saved to C:\\Users\\anind\\Desktop\\Indiana University Bloomington\\Semester 2\\I606 Network Science\\Project\\Data\\rerunning\\Project_Auto_and_Finance_Sector_250424\\Financial_Data\\ RATNAVEER.NS_data.xlsx\n",
      "Downloading data for  SALSTEEL.NS\n"
     ]
    },
    {
     "name": "stderr",
     "output_type": "stream",
     "text": [
      "\n",
      "[*********************100%%**********************]  1 of 1 completed"
     ]
    },
    {
     "name": "stdout",
     "output_type": "stream",
     "text": [
      "Data for  SALSTEEL.NS saved to C:\\Users\\anind\\Desktop\\Indiana University Bloomington\\Semester 2\\I606 Network Science\\Project\\Data\\rerunning\\Project_Auto_and_Finance_Sector_250424\\Financial_Data\\ SALSTEEL.NS_data.xlsx\n",
      "Downloading data for  SALASAR.NS\n",
      "Data for  SALASAR.NS saved to C:\\Users\\anind\\Desktop\\Indiana University Bloomington\\Semester 2\\I606 Network Science\\Project\\Data\\rerunning\\Project_Auto_and_Finance_Sector_250424\\Financial_Data\\ SALASAR.NS_data.xlsx\n",
      "Downloading data for  SARDAEN.NS\n"
     ]
    },
    {
     "name": "stderr",
     "output_type": "stream",
     "text": [
      "\n",
      "[*********************100%%**********************]  1 of 1 completed\n",
      "[*********************100%%**********************]  1 of 1 completed"
     ]
    },
    {
     "name": "stdout",
     "output_type": "stream",
     "text": [
      "Data for  SARDAEN.NS saved to C:\\Users\\anind\\Desktop\\Indiana University Bloomington\\Semester 2\\I606 Network Science\\Project\\Data\\rerunning\\Project_Auto_and_Finance_Sector_250424\\Financial_Data\\ SARDAEN.NS_data.xlsx\n",
      "Downloading data for  SMLT.NS\n"
     ]
    },
    {
     "name": "stderr",
     "output_type": "stream",
     "text": [
      "\n",
      "[*********************100%%**********************]  1 of 1 completed\n"
     ]
    },
    {
     "name": "stdout",
     "output_type": "stream",
     "text": [
      "Data for  SMLT.NS saved to C:\\Users\\anind\\Desktop\\Indiana University Bloomington\\Semester 2\\I606 Network Science\\Project\\Data\\rerunning\\Project_Auto_and_Finance_Sector_250424\\Financial_Data\\ SMLT.NS_data.xlsx\n",
      "Downloading data for  SATHAISPAT.NS\n",
      "Data for  SATHAISPAT.NS saved to C:\\Users\\anind\\Desktop\\Indiana University Bloomington\\Semester 2\\I606 Network Science\\Project\\Data\\rerunning\\Project_Auto_and_Finance_Sector_250424\\Financial_Data\\ SATHAISPAT.NS_data.xlsx\n",
      "Downloading data for  SHAHALLOYS.NS\n"
     ]
    },
    {
     "name": "stderr",
     "output_type": "stream",
     "text": [
      "[*********************100%%**********************]  1 of 1 completed\n",
      "[*********************100%%**********************]  1 of 1 completed\n"
     ]
    },
    {
     "name": "stdout",
     "output_type": "stream",
     "text": [
      "Data for  SHAHALLOYS.NS saved to C:\\Users\\anind\\Desktop\\Indiana University Bloomington\\Semester 2\\I606 Network Science\\Project\\Data\\rerunning\\Project_Auto_and_Finance_Sector_250424\\Financial_Data\\ SHAHALLOYS.NS_data.xlsx\n",
      "Downloading data for  SHAH.NS\n",
      "Data for  SHAH.NS saved to C:\\Users\\anind\\Desktop\\Indiana University Bloomington\\Semester 2\\I606 Network Science\\Project\\Data\\rerunning\\Project_Auto_and_Finance_Sector_250424\\Financial_Data\\ SHAH.NS_data.xlsx\n",
      "Downloading data for  SBCL.NS\n"
     ]
    },
    {
     "name": "stderr",
     "output_type": "stream",
     "text": [
      "[*********************100%%**********************]  1 of 1 completed\n",
      "[*********************100%%**********************]  1 of 1 completed"
     ]
    },
    {
     "name": "stdout",
     "output_type": "stream",
     "text": [
      "Data for  SBCL.NS saved to C:\\Users\\anind\\Desktop\\Indiana University Bloomington\\Semester 2\\I606 Network Science\\Project\\Data\\rerunning\\Project_Auto_and_Finance_Sector_250424\\Financial_Data\\ SBCL.NS_data.xlsx\n",
      "Downloading data for  SHYAMMETL.NS\n"
     ]
    },
    {
     "name": "stderr",
     "output_type": "stream",
     "text": [
      "\n",
      "[*********************100%%**********************]  1 of 1 completed"
     ]
    },
    {
     "name": "stdout",
     "output_type": "stream",
     "text": [
      "Data for  SHYAMMETL.NS saved to C:\\Users\\anind\\Desktop\\Indiana University Bloomington\\Semester 2\\I606 Network Science\\Project\\Data\\rerunning\\Project_Auto_and_Finance_Sector_250424\\Financial_Data\\ SHYAMMETL.NS_data.xlsx\n",
      "Downloading data for  SAIL.NS\n"
     ]
    },
    {
     "name": "stderr",
     "output_type": "stream",
     "text": [
      "\n",
      "[*********************100%%**********************]  1 of 1 completed\n"
     ]
    },
    {
     "name": "stdout",
     "output_type": "stream",
     "text": [
      "Data for  SAIL.NS saved to C:\\Users\\anind\\Desktop\\Indiana University Bloomington\\Semester 2\\I606 Network Science\\Project\\Data\\rerunning\\Project_Auto_and_Finance_Sector_250424\\Financial_Data\\ SAIL.NS_data.xlsx\n",
      "Downloading data for  STEELXIND.NS\n",
      "Data for  STEELXIND.NS saved to C:\\Users\\anind\\Desktop\\Indiana University Bloomington\\Semester 2\\I606 Network Science\\Project\\Data\\rerunning\\Project_Auto_and_Finance_Sector_250424\\Financial_Data\\ STEELXIND.NS_data.xlsx\n",
      "Downloading data for  SUNFLAG.NS\n"
     ]
    },
    {
     "name": "stderr",
     "output_type": "stream",
     "text": [
      "[*********************100%%**********************]  1 of 1 completed\n",
      "[*********************100%%**********************]  1 of 1 completed"
     ]
    },
    {
     "name": "stdout",
     "output_type": "stream",
     "text": [
      "Data for  SUNFLAG.NS saved to C:\\Users\\anind\\Desktop\\Indiana University Bloomington\\Semester 2\\I606 Network Science\\Project\\Data\\rerunning\\Project_Auto_and_Finance_Sector_250424\\Financial_Data\\ SUNFLAG.NS_data.xlsx\n",
      "Downloading data for  SUPREMEENG.NS\n",
      "Data for  SUPREMEENG.NS saved to C:\\Users\\anind\\Desktop\\Indiana University Bloomington\\Semester 2\\I606 Network Science\\Project\\Data\\rerunning\\Project_Auto_and_Finance_Sector_250424\\Financial_Data\\ SUPREMEENG.NS_data.xlsx\n",
      "Downloading data for  TATAMETALI.NS\n"
     ]
    },
    {
     "name": "stderr",
     "output_type": "stream",
     "text": [
      "\n",
      "[*********************100%%**********************]  1 of 1 completed\n",
      "\n",
      "1 Failed download:\n",
      "['TATAMETALI.NS']: Exception('%ticker%: No price data found, symbol may be delisted (1d 2021-01-01 -> 2023-12-31)')\n",
      "[*********************100%%**********************]  1 of 1 completed\n",
      "\n",
      "1 Failed download:\n",
      "['BHUSANSTL.NS']: Exception('%ticker%: No price data found, symbol may be delisted (1d 2021-01-01 -> 2023-12-31)')\n"
     ]
    },
    {
     "name": "stdout",
     "output_type": "stream",
     "text": [
      "No data found for  TATAMETALI.NS\n",
      "Downloading data for  BHUSANSTL.NS\n",
      "No data found for  BHUSANSTL.NS\n",
      "Downloading data for  TATASTLLP.NS\n"
     ]
    },
    {
     "name": "stderr",
     "output_type": "stream",
     "text": [
      "[*********************100%%**********************]  1 of 1 completed\n",
      "\n",
      "1 Failed download:\n",
      "['TATASTLLP.NS']: Exception('%ticker%: No timezone found, symbol may be delisted')\n"
     ]
    },
    {
     "name": "stdout",
     "output_type": "stream",
     "text": [
      "No data found for  TATASTLLP.NS\n",
      "Downloading data for  TATASTEEL.NS\n"
     ]
    },
    {
     "name": "stderr",
     "output_type": "stream",
     "text": [
      "[*********************100%%**********************]  1 of 1 completed\n",
      "[*********************100%%**********************]  1 of 1 completed"
     ]
    },
    {
     "name": "stdout",
     "output_type": "stream",
     "text": [
      "Data for  TATASTEEL.NS saved to C:\\Users\\anind\\Desktop\\Indiana University Bloomington\\Semester 2\\I606 Network Science\\Project\\Data\\rerunning\\Project_Auto_and_Finance_Sector_250424\\Financial_Data\\ TATASTEEL.NS_data.xlsx\n",
      "Downloading data for  TEMBO.NS\n",
      "Data for  TEMBO.NS saved to C:\\Users\\anind\\Desktop\\Indiana University Bloomington\\Semester 2\\I606 Network Science\\Project\\Data\\rerunning\\Project_Auto_and_Finance_Sector_250424\\Financial_Data\\ TEMBO.NS_data.xlsx\n",
      "Downloading data for  USHAMART.NS\n"
     ]
    },
    {
     "name": "stderr",
     "output_type": "stream",
     "text": [
      "\n",
      "[*********************100%%**********************]  1 of 1 completed\n"
     ]
    },
    {
     "name": "stdout",
     "output_type": "stream",
     "text": [
      "Data for  USHAMART.NS saved to C:\\Users\\anind\\Desktop\\Indiana University Bloomington\\Semester 2\\I606 Network Science\\Project\\Data\\rerunning\\Project_Auto_and_Finance_Sector_250424\\Financial_Data\\ USHAMART.NS_data.xlsx\n",
      "Downloading data for  UTTAMSTL.NS\n"
     ]
    },
    {
     "name": "stderr",
     "output_type": "stream",
     "text": [
      "[*********************100%%**********************]  1 of 1 completed\n",
      "\n",
      "1 Failed download:\n",
      "['UTTAMSTL.NS']: Exception('%ticker%: No timezone found, symbol may be delisted')\n",
      "[*********************100%%**********************]  1 of 1 completed\n"
     ]
    },
    {
     "name": "stdout",
     "output_type": "stream",
     "text": [
      "No data found for  UTTAMSTL.NS\n",
      "Downloading data for  VSSL.NS\n"
     ]
    },
    {
     "name": "stderr",
     "output_type": "stream",
     "text": [
      "[*********************100%%**********************]  1 of 1 completed\n"
     ]
    },
    {
     "name": "stdout",
     "output_type": "stream",
     "text": [
      "Data for  VSSL.NS saved to C:\\Users\\anind\\Desktop\\Indiana University Bloomington\\Semester 2\\I606 Network Science\\Project\\Data\\rerunning\\Project_Auto_and_Finance_Sector_250424\\Financial_Data\\ VSSL.NS_data.xlsx\n",
      "Downloading data for  VASWANI.NS\n"
     ]
    },
    {
     "name": "stderr",
     "output_type": "stream",
     "text": [
      "[*********************100%%**********************]  1 of 1 completed"
     ]
    },
    {
     "name": "stdout",
     "output_type": "stream",
     "text": [
      "Data for  VASWANI.NS saved to C:\\Users\\anind\\Desktop\\Indiana University Bloomington\\Semester 2\\I606 Network Science\\Project\\Data\\rerunning\\Project_Auto_and_Finance_Sector_250424\\Financial_Data\\ VASWANI.NS_data.xlsx\n",
      "Downloading data for  VISASTEEL.NS\n",
      "Data for  VISASTEEL.NS saved to C:\\Users\\anind\\Desktop\\Indiana University Bloomington\\Semester 2\\I606 Network Science\\Project\\Data\\rerunning\\Project_Auto_and_Finance_Sector_250424\\Financial_Data\\ VISASTEEL.NS_data.xlsx\n",
      "Processing file: C:\\Users\\anind\\Desktop\\Indiana University Bloomington\\Semester 2\\I606 Network Science\\Project\\Data\\rerunning\\Project_Auto_and_Finance_Sector_250424\\It_Services___Consulting.xlsx\n"
     ]
    },
    {
     "name": "stderr",
     "output_type": "stream",
     "text": [
      "\n",
      "[*********************100%%**********************]  1 of 1 completed"
     ]
    },
    {
     "name": "stdout",
     "output_type": "stream",
     "text": [
      "Downloading data for  3IINFOLTD.NS\n",
      "Data for  3IINFOLTD.NS saved to C:\\Users\\anind\\Desktop\\Indiana University Bloomington\\Semester 2\\I606 Network Science\\Project\\Data\\rerunning\\Project_Auto_and_Finance_Sector_250424\\Financial_Data\\ 3IINFOLTD.NS_data.xlsx\n",
      "Downloading data for  63MOONS.NS\n"
     ]
    },
    {
     "name": "stderr",
     "output_type": "stream",
     "text": [
      "\n",
      "[*********************100%%**********************]  1 of 1 completed\n",
      "[*********************100%%**********************]  1 of 1 completed\n"
     ]
    },
    {
     "name": "stdout",
     "output_type": "stream",
     "text": [
      "Data for  63MOONS.NS saved to C:\\Users\\anind\\Desktop\\Indiana University Bloomington\\Semester 2\\I606 Network Science\\Project\\Data\\rerunning\\Project_Auto_and_Finance_Sector_250424\\Financial_Data\\ 63MOONS.NS_data.xlsx\n",
      "Downloading data for  AAATECH.NS\n",
      "Data for  AAATECH.NS saved to C:\\Users\\anind\\Desktop\\Indiana University Bloomington\\Semester 2\\I606 Network Science\\Project\\Data\\rerunning\\Project_Auto_and_Finance_Sector_250424\\Financial_Data\\ AAATECH.NS_data.xlsx\n",
      "Downloading data for  GOLDTECH.NS\n"
     ]
    },
    {
     "name": "stderr",
     "output_type": "stream",
     "text": [
      "[*********************100%%**********************]  1 of 1 completed\n",
      "[*********************100%%**********************]  1 of 1 completed"
     ]
    },
    {
     "name": "stdout",
     "output_type": "stream",
     "text": [
      "Data for  GOLDTECH.NS saved to C:\\Users\\anind\\Desktop\\Indiana University Bloomington\\Semester 2\\I606 Network Science\\Project\\Data\\rerunning\\Project_Auto_and_Finance_Sector_250424\\Financial_Data\\ GOLDTECH.NS_data.xlsx\n",
      "Downloading data for  AIRAN.NS\n"
     ]
    },
    {
     "name": "stderr",
     "output_type": "stream",
     "text": [
      "\n",
      "[*********************100%%**********************]  1 of 1 completed"
     ]
    },
    {
     "name": "stdout",
     "output_type": "stream",
     "text": [
      "Data for  AIRAN.NS saved to C:\\Users\\anind\\Desktop\\Indiana University Bloomington\\Semester 2\\I606 Network Science\\Project\\Data\\rerunning\\Project_Auto_and_Finance_Sector_250424\\Financial_Data\\ AIRAN.NS_data.xlsx\n",
      "Downloading data for  ADSL.NS\n"
     ]
    },
    {
     "name": "stderr",
     "output_type": "stream",
     "text": [
      "\n",
      "[*********************100%%**********************]  1 of 1 completed\n"
     ]
    },
    {
     "name": "stdout",
     "output_type": "stream",
     "text": [
      "Data for  ADSL.NS saved to C:\\Users\\anind\\Desktop\\Indiana University Bloomington\\Semester 2\\I606 Network Science\\Project\\Data\\rerunning\\Project_Auto_and_Finance_Sector_250424\\Financial_Data\\ ADSL.NS_data.xlsx\n",
      "Downloading data for  ALLSEC.NS\n",
      "Data for  ALLSEC.NS saved to C:\\Users\\anind\\Desktop\\Indiana University Bloomington\\Semester 2\\I606 Network Science\\Project\\Data\\rerunning\\Project_Auto_and_Finance_Sector_250424\\Financial_Data\\ ALLSEC.NS_data.xlsx\n",
      "Downloading data for  AURIONPRO.NS\n"
     ]
    },
    {
     "name": "stderr",
     "output_type": "stream",
     "text": [
      "[*********************100%%**********************]  1 of 1 completed\n",
      "[*********************100%%**********************]  1 of 1 completed"
     ]
    },
    {
     "name": "stdout",
     "output_type": "stream",
     "text": [
      "Data for  AURIONPRO.NS saved to C:\\Users\\anind\\Desktop\\Indiana University Bloomington\\Semester 2\\I606 Network Science\\Project\\Data\\rerunning\\Project_Auto_and_Finance_Sector_250424\\Financial_Data\\ AURIONPRO.NS_data.xlsx\n",
      "Downloading data for  AURUM.NS\n",
      "Data for  AURUM.NS saved to C:\\Users\\anind\\Desktop\\Indiana University Bloomington\\Semester 2\\I606 Network Science\\Project\\Data\\rerunning\\Project_Auto_and_Finance_Sector_250424\\Financial_Data\\ AURUM.NS_data.xlsx\n",
      "Downloading data for  BLSE.NS\n"
     ]
    },
    {
     "name": "stderr",
     "output_type": "stream",
     "text": [
      "\n",
      "[*********************100%%**********************]  1 of 1 completed\n",
      "\n",
      "1 Failed download:\n",
      "['BLSE.NS']: Exception(\"%ticker%: Data doesn't exist for startDate = 1609439400, endDate = 1703961000\")\n",
      "[*********************100%%**********************]  1 of 1 completed\n"
     ]
    },
    {
     "name": "stdout",
     "output_type": "stream",
     "text": [
      "No data found for  BLSE.NS\n",
      "Downloading data for  BGLOBAL.NS\n"
     ]
    },
    {
     "name": "stderr",
     "output_type": "stream",
     "text": [
      "[*********************100%%**********************]  1 of 1 completed"
     ]
    },
    {
     "name": "stdout",
     "output_type": "stream",
     "text": [
      "Data for  BGLOBAL.NS saved to C:\\Users\\anind\\Desktop\\Indiana University Bloomington\\Semester 2\\I606 Network Science\\Project\\Data\\rerunning\\Project_Auto_and_Finance_Sector_250424\\Financial_Data\\ BGLOBAL.NS_data.xlsx\n",
      "Downloading data for  BSOFT.NS\n"
     ]
    },
    {
     "name": "stderr",
     "output_type": "stream",
     "text": [
      "\n"
     ]
    },
    {
     "name": "stdout",
     "output_type": "stream",
     "text": [
      "Data for  BSOFT.NS saved to C:\\Users\\anind\\Desktop\\Indiana University Bloomington\\Semester 2\\I606 Network Science\\Project\\Data\\rerunning\\Project_Auto_and_Finance_Sector_250424\\Financial_Data\\ BSOFT.NS_data.xlsx\n",
      "Downloading data for  BBOX.NS\n"
     ]
    },
    {
     "name": "stderr",
     "output_type": "stream",
     "text": [
      "[*********************100%%**********************]  1 of 1 completed\n"
     ]
    },
    {
     "name": "stdout",
     "output_type": "stream",
     "text": [
      "Data for  BBOX.NS saved to C:\\Users\\anind\\Desktop\\Indiana University Bloomington\\Semester 2\\I606 Network Science\\Project\\Data\\rerunning\\Project_Auto_and_Finance_Sector_250424\\Financial_Data\\ BBOX.NS_data.xlsx\n",
      "Downloading data for E.NS\n"
     ]
    },
    {
     "name": "stderr",
     "output_type": "stream",
     "text": [
      "[*********************100%%**********************]  1 of 1 completed\n",
      "\n",
      "1 Failed download:\n",
      "['E.NS']: Exception('%ticker%: No timezone found, symbol may be delisted')\n",
      "[*********************100%%**********************]  1 of 1 completed\n"
     ]
    },
    {
     "name": "stdout",
     "output_type": "stream",
     "text": [
      "No data found for E.NS\n",
      "Downloading data for  CALSOFT.NS\n"
     ]
    },
    {
     "name": "stderr",
     "output_type": "stream",
     "text": [
      "[*********************100%%**********************]  1 of 1 completed\n"
     ]
    },
    {
     "name": "stdout",
     "output_type": "stream",
     "text": [
      "Data for  CALSOFT.NS saved to C:\\Users\\anind\\Desktop\\Indiana University Bloomington\\Semester 2\\I606 Network Science\\Project\\Data\\rerunning\\Project_Auto_and_Finance_Sector_250424\\Financial_Data\\ CALSOFT.NS_data.xlsx\n",
      "Downloading data for  CTE.NS\n",
      "Data for  CTE.NS saved to C:\\Users\\anind\\Desktop\\Indiana University Bloomington\\Semester 2\\I606 Network Science\\Project\\Data\\rerunning\\Project_Auto_and_Finance_Sector_250424\\Financial_Data\\ CTE.NS_data.xlsx\n",
      "Downloading data for  CIGNITITEC.NS\n"
     ]
    },
    {
     "name": "stderr",
     "output_type": "stream",
     "text": [
      "[*********************100%%**********************]  1 of 1 completed\n",
      "[*********************100%%**********************]  1 of 1 completed"
     ]
    },
    {
     "name": "stdout",
     "output_type": "stream",
     "text": [
      "Data for  CIGNITITEC.NS saved to C:\\Users\\anind\\Desktop\\Indiana University Bloomington\\Semester 2\\I606 Network Science\\Project\\Data\\rerunning\\Project_Auto_and_Finance_Sector_250424\\Financial_Data\\ CIGNITITEC.NS_data.xlsx\n",
      "Downloading data for  COFORGE.NS\n",
      "Data for  COFORGE.NS saved to C:\\Users\\anind\\Desktop\\Indiana University Bloomington\\Semester 2\\I606 Network Science\\Project\\Data\\rerunning\\Project_Auto_and_Finance_Sector_250424\\Financial_Data\\ COFORGE.NS_data.xlsx\n",
      "Downloading data for  CYBERTECH.NS\n"
     ]
    },
    {
     "name": "stderr",
     "output_type": "stream",
     "text": [
      "\n",
      "[*********************100%%**********************]  1 of 1 completed\n",
      "[*********************100%%**********************]  1 of 1 completed"
     ]
    },
    {
     "name": "stdout",
     "output_type": "stream",
     "text": [
      "Data for  CYBERTECH.NS saved to C:\\Users\\anind\\Desktop\\Indiana University Bloomington\\Semester 2\\I606 Network Science\\Project\\Data\\rerunning\\Project_Auto_and_Finance_Sector_250424\\Financial_Data\\ CYBERTECH.NS_data.xlsx\n",
      "Downloading data for  CYIENT.NS\n"
     ]
    },
    {
     "name": "stderr",
     "output_type": "stream",
     "text": [
      "\n",
      "[*********************100%%**********************]  1 of 1 completed"
     ]
    },
    {
     "name": "stdout",
     "output_type": "stream",
     "text": [
      "Data for  CYIENT.NS saved to C:\\Users\\anind\\Desktop\\Indiana University Bloomington\\Semester 2\\I606 Network Science\\Project\\Data\\rerunning\\Project_Auto_and_Finance_Sector_250424\\Financial_Data\\ CYIENT.NS_data.xlsx\n",
      "Downloading data for  DRCSYSTEMS.NS\n",
      "Data for  DRCSYSTEMS.NS saved to C:\\Users\\anind\\Desktop\\Indiana University Bloomington\\Semester 2\\I606 Network Science\\Project\\Data\\rerunning\\Project_Auto_and_Finance_Sector_250424\\Financial_Data\\ DRCSYSTEMS.NS_data.xlsx\n",
      "Downloading data for  DATAMATICS.NS\n"
     ]
    },
    {
     "name": "stderr",
     "output_type": "stream",
     "text": [
      "\n",
      "[*********************100%%**********************]  1 of 1 completed\n",
      "[*********************100%%**********************]  1 of 1 completed\n"
     ]
    },
    {
     "name": "stdout",
     "output_type": "stream",
     "text": [
      "Data for  DATAMATICS.NS saved to C:\\Users\\anind\\Desktop\\Indiana University Bloomington\\Semester 2\\I606 Network Science\\Project\\Data\\rerunning\\Project_Auto_and_Finance_Sector_250424\\Financial_Data\\ DATAMATICS.NS_data.xlsx\n",
      "Downloading data for  DEVIT.NS\n",
      "Data for  DEVIT.NS saved to C:\\Users\\anind\\Desktop\\Indiana University Bloomington\\Semester 2\\I606 Network Science\\Project\\Data\\rerunning\\Project_Auto_and_Finance_Sector_250424\\Financial_Data\\ DEVIT.NS_data.xlsx\n",
      "Downloading data for  DUCON.NS\n"
     ]
    },
    {
     "name": "stderr",
     "output_type": "stream",
     "text": [
      "[*********************100%%**********************]  1 of 1 completed\n"
     ]
    },
    {
     "name": "stdout",
     "output_type": "stream",
     "text": [
      "Data for  DUCON.NS saved to C:\\Users\\anind\\Desktop\\Indiana University Bloomington\\Semester 2\\I606 Network Science\\Project\\Data\\rerunning\\Project_Auto_and_Finance_Sector_250424\\Financial_Data\\ DUCON.NS_data.xlsx\n",
      "Downloading data for  DSSL.NS\n"
     ]
    },
    {
     "name": "stderr",
     "output_type": "stream",
     "text": [
      "[*********************100%%**********************]  1 of 1 completed\n",
      "[*********************100%%**********************]  1 of 1 completed"
     ]
    },
    {
     "name": "stdout",
     "output_type": "stream",
     "text": [
      "Data for  DSSL.NS saved to C:\\Users\\anind\\Desktop\\Indiana University Bloomington\\Semester 2\\I606 Network Science\\Project\\Data\\rerunning\\Project_Auto_and_Finance_Sector_250424\\Financial_Data\\ DSSL.NS_data.xlsx\n",
      "Downloading data for  E2E.NS\n"
     ]
    },
    {
     "name": "stderr",
     "output_type": "stream",
     "text": [
      "\n",
      "[*********************100%%**********************]  1 of 1 completed\n"
     ]
    },
    {
     "name": "stdout",
     "output_type": "stream",
     "text": [
      "Data for  E2E.NS saved to C:\\Users\\anind\\Desktop\\Indiana University Bloomington\\Semester 2\\I606 Network Science\\Project\\Data\\rerunning\\Project_Auto_and_Finance_Sector_250424\\Financial_Data\\ E2E.NS_data.xlsx\n",
      "Downloading data for  GVPTECH.NS\n"
     ]
    },
    {
     "name": "stderr",
     "output_type": "stream",
     "text": [
      "[*********************100%%**********************]  1 of 1 completed\n"
     ]
    },
    {
     "name": "stdout",
     "output_type": "stream",
     "text": [
      "Data for  GVPTECH.NS saved to C:\\Users\\anind\\Desktop\\Indiana University Bloomington\\Semester 2\\I606 Network Science\\Project\\Data\\rerunning\\Project_Auto_and_Finance_Sector_250424\\Financial_Data\\ GVPTECH.NS_data.xlsx\n",
      "Downloading data for  GENESYS.NS\n"
     ]
    },
    {
     "name": "stderr",
     "output_type": "stream",
     "text": [
      "[*********************100%%**********************]  1 of 1 completed"
     ]
    },
    {
     "name": "stdout",
     "output_type": "stream",
     "text": [
      "Data for  GENESYS.NS saved to C:\\Users\\anind\\Desktop\\Indiana University Bloomington\\Semester 2\\I606 Network Science\\Project\\Data\\rerunning\\Project_Auto_and_Finance_Sector_250424\\Financial_Data\\ GENESYS.NS_data.xlsx\n",
      "Downloading data for  HCLTECH.NS\n"
     ]
    },
    {
     "name": "stderr",
     "output_type": "stream",
     "text": [
      "\n",
      "[*********************100%%**********************]  1 of 1 completed"
     ]
    },
    {
     "name": "stdout",
     "output_type": "stream",
     "text": [
      "Data for  HCLTECH.NS saved to C:\\Users\\anind\\Desktop\\Indiana University Bloomington\\Semester 2\\I606 Network Science\\Project\\Data\\rerunning\\Project_Auto_and_Finance_Sector_250424\\Financial_Data\\ HCLTECH.NS_data.xlsx\n",
      "Downloading data for  HAPPSTMNDS.NS\n"
     ]
    },
    {
     "name": "stderr",
     "output_type": "stream",
     "text": [
      "\n",
      "[*********************100%%**********************]  1 of 1 completed"
     ]
    },
    {
     "name": "stdout",
     "output_type": "stream",
     "text": [
      "Data for  HAPPSTMNDS.NS saved to C:\\Users\\anind\\Desktop\\Indiana University Bloomington\\Semester 2\\I606 Network Science\\Project\\Data\\rerunning\\Project_Auto_and_Finance_Sector_250424\\Financial_Data\\ HAPPSTMNDS.NS_data.xlsx\n",
      "Downloading data for  IRIS.NS\n",
      "Data for  IRIS.NS saved to C:\\Users\\anind\\Desktop\\Indiana University Bloomington\\Semester 2\\I606 Network Science\\Project\\Data\\rerunning\\Project_Auto_and_Finance_Sector_250424\\Financial_Data\\ IRIS.NS_data.xlsx\n",
      "Downloading data for  INFY.NS\n"
     ]
    },
    {
     "name": "stderr",
     "output_type": "stream",
     "text": [
      "\n",
      "[*********************100%%**********************]  1 of 1 completed\n",
      "[*********************100%%**********************]  1 of 1 completed"
     ]
    },
    {
     "name": "stdout",
     "output_type": "stream",
     "text": [
      "Data for  INFY.NS saved to C:\\Users\\anind\\Desktop\\Indiana University Bloomington\\Semester 2\\I606 Network Science\\Project\\Data\\rerunning\\Project_Auto_and_Finance_Sector_250424\\Financial_Data\\ INFY.NS_data.xlsx\n",
      "Downloading data for  KPITTECH.NS\n",
      "Data for  KPITTECH.NS saved to C:\\Users\\anind\\Desktop\\Indiana University Bloomington\\Semester 2\\I606 Network Science\\Project\\Data\\rerunning\\Project_Auto_and_Finance_Sector_250424\\Financial_Data\\ KPITTECH.NS_data.xlsx\n",
      "Downloading data for  KELLTONTEC.NS\n"
     ]
    },
    {
     "name": "stderr",
     "output_type": "stream",
     "text": [
      "\n",
      "[*********************100%%**********************]  1 of 1 completed\n",
      "[*********************100%%**********************]  1 of 1 completed"
     ]
    },
    {
     "name": "stdout",
     "output_type": "stream",
     "text": [
      "Data for  KELLTONTEC.NS saved to C:\\Users\\anind\\Desktop\\Indiana University Bloomington\\Semester 2\\I606 Network Science\\Project\\Data\\rerunning\\Project_Auto_and_Finance_Sector_250424\\Financial_Data\\ KELLTONTEC.NS_data.xlsx\n",
      "Downloading data for  KSOLVES.NS\n",
      "Data for  KSOLVES.NS saved to C:\\Users\\anind\\Desktop\\Indiana University Bloomington\\Semester 2\\I606 Network Science\\Project\\Data\\rerunning\\Project_Auto_and_Finance_Sector_250424\\Financial_Data\\ KSOLVES.NS_data.xlsx\n",
      "Downloading data for  LTIM.NS\n"
     ]
    },
    {
     "name": "stderr",
     "output_type": "stream",
     "text": [
      "\n",
      "[*********************100%%**********************]  1 of 1 completed\n",
      "[*********************100%%**********************]  1 of 1 completed\n"
     ]
    },
    {
     "name": "stdout",
     "output_type": "stream",
     "text": [
      "Data for  LTIM.NS saved to C:\\Users\\anind\\Desktop\\Indiana University Bloomington\\Semester 2\\I606 Network Science\\Project\\Data\\rerunning\\Project_Auto_and_Finance_Sector_250424\\Financial_Data\\ LTIM.NS_data.xlsx\n",
      "Downloading data for  LATENTVIEW.NS\n",
      "Data for  LATENTVIEW.NS saved to C:\\Users\\anind\\Desktop\\Indiana University Bloomington\\Semester 2\\I606 Network Science\\Project\\Data\\rerunning\\Project_Auto_and_Finance_Sector_250424\\Financial_Data\\ LATENTVIEW.NS_data.xlsx\n",
      "Downloading data for  VISESHINFO.NS\n"
     ]
    },
    {
     "name": "stderr",
     "output_type": "stream",
     "text": [
      "[*********************100%%**********************]  1 of 1 completed\n",
      "[*********************100%%**********************]  1 of 1 completed"
     ]
    },
    {
     "name": "stdout",
     "output_type": "stream",
     "text": [
      "Data for  VISESHINFO.NS saved to C:\\Users\\anind\\Desktop\\Indiana University Bloomington\\Semester 2\\I606 Network Science\\Project\\Data\\rerunning\\Project_Auto_and_Finance_Sector_250424\\Financial_Data\\ VISESHINFO.NS_data.xlsx\n",
      "Downloading data for  MASTEK.NS\n"
     ]
    },
    {
     "name": "stderr",
     "output_type": "stream",
     "text": [
      "\n"
     ]
    },
    {
     "name": "stdout",
     "output_type": "stream",
     "text": [
      "Data for  MASTEK.NS saved to C:\\Users\\anind\\Desktop\\Indiana University Bloomington\\Semester 2\\I606 Network Science\\Project\\Data\\rerunning\\Project_Auto_and_Finance_Sector_250424\\Financial_Data\\ MASTEK.NS_data.xlsx\n",
      "Downloading data for  MEDIASSIST.NS\n"
     ]
    },
    {
     "name": "stderr",
     "output_type": "stream",
     "text": [
      "[*********************100%%**********************]  1 of 1 completed\n",
      "\n",
      "1 Failed download:\n",
      "['MEDIASSIST.NS']: Exception(\"%ticker%: Data doesn't exist for startDate = 1609439400, endDate = 1703961000\")\n"
     ]
    },
    {
     "name": "stdout",
     "output_type": "stream",
     "text": [
      "No data found for  MEDIASSIST.NS\n",
      "Downloading data for  MEGASOFT.NS\n"
     ]
    },
    {
     "name": "stderr",
     "output_type": "stream",
     "text": [
      "[*********************100%%**********************]  1 of 1 completed\n",
      "[*********************100%%**********************]  1 of 1 completed\n"
     ]
    },
    {
     "name": "stdout",
     "output_type": "stream",
     "text": [
      "Data for  MEGASOFT.NS saved to C:\\Users\\anind\\Desktop\\Indiana University Bloomington\\Semester 2\\I606 Network Science\\Project\\Data\\rerunning\\Project_Auto_and_Finance_Sector_250424\\Financial_Data\\ MEGASOFT.NS_data.xlsx\n",
      "Downloading data for  MELSTAR.NS\n",
      "Data for  MELSTAR.NS saved to C:\\Users\\anind\\Desktop\\Indiana University Bloomington\\Semester 2\\I606 Network Science\\Project\\Data\\rerunning\\Project_Auto_and_Finance_Sector_250424\\Financial_Data\\ MELSTAR.NS_data.xlsx\n",
      "Downloading data for  MINDTREE.NS\n"
     ]
    },
    {
     "name": "stderr",
     "output_type": "stream",
     "text": [
      "[*********************100%%**********************]  1 of 1 completed\n",
      "\n",
      "1 Failed download:\n",
      "['MINDTREE.NS']: Exception('%ticker%: No timezone found, symbol may be delisted')\n",
      "[*********************100%%**********************]  1 of 1 completed\n"
     ]
    },
    {
     "name": "stdout",
     "output_type": "stream",
     "text": [
      "No data found for  MINDTREE.NS\n",
      "Downloading data for  MINDTECK.NS\n",
      "Data for  MINDTECK.NS saved to C:\\Users\\anind\\Desktop\\Indiana University Bloomington\\Semester 2\\I606 Network Science\\Project\\Data\\rerunning\\Project_Auto_and_Finance_Sector_250424\\Financial_Data\\ MINDTECK.NS_data.xlsx\n",
      "Downloading data for  MPHASIS.NS\n"
     ]
    },
    {
     "name": "stderr",
     "output_type": "stream",
     "text": [
      "[*********************100%%**********************]  1 of 1 completed\n",
      "[*********************100%%**********************]  1 of 1 completed\n",
      "[*********************100%%**********************]  1 of 1 completed"
     ]
    },
    {
     "name": "stdout",
     "output_type": "stream",
     "text": [
      "Data for  MPHASIS.NS saved to C:\\Users\\anind\\Desktop\\Indiana University Bloomington\\Semester 2\\I606 Network Science\\Project\\Data\\rerunning\\Project_Auto_and_Finance_Sector_250424\\Financial_Data\\ MPHASIS.NS_data.xlsx\n",
      "Downloading data for  NIITMTS.NS\n",
      "Data for  NIITMTS.NS saved to C:\\Users\\anind\\Desktop\\Indiana University Bloomington\\Semester 2\\I606 Network Science\\Project\\Data\\rerunning\\Project_Auto_and_Finance_Sector_250424\\Financial_Data\\ NIITMTS.NS_data.xlsx\n",
      "Downloading data for  NAZARA.NS\n"
     ]
    },
    {
     "name": "stderr",
     "output_type": "stream",
     "text": [
      "\n",
      "[*********************100%%**********************]  1 of 1 completed"
     ]
    },
    {
     "name": "stdout",
     "output_type": "stream",
     "text": [
      "Data for  NAZARA.NS saved to C:\\Users\\anind\\Desktop\\Indiana University Bloomington\\Semester 2\\I606 Network Science\\Project\\Data\\rerunning\\Project_Auto_and_Finance_Sector_250424\\Financial_Data\\ NAZARA.NS_data.xlsx\n",
      "Downloading data for  NETWEB.NS\n",
      "Data for  NETWEB.NS saved to C:\\Users\\anind\\Desktop\\Indiana University Bloomington\\Semester 2\\I606 Network Science\\Project\\Data\\rerunning\\Project_Auto_and_Finance_Sector_250424\\Financial_Data\\ NETWEB.NS_data.xlsx\n",
      "Downloading data for  NINSYS.NS\n"
     ]
    },
    {
     "name": "stderr",
     "output_type": "stream",
     "text": [
      "\n",
      "[*********************100%%**********************]  1 of 1 completed\n",
      "[*********************100%%**********************]  1 of 1 completed"
     ]
    },
    {
     "name": "stdout",
     "output_type": "stream",
     "text": [
      "Data for  NINSYS.NS saved to C:\\Users\\anind\\Desktop\\Indiana University Bloomington\\Semester 2\\I606 Network Science\\Project\\Data\\rerunning\\Project_Auto_and_Finance_Sector_250424\\Financial_Data\\ NINSYS.NS_data.xlsx\n",
      "Downloading data for  ONWARDTEC.NS\n"
     ]
    },
    {
     "name": "stderr",
     "output_type": "stream",
     "text": [
      "\n",
      "[*********************100%%**********************]  1 of 1 completed"
     ]
    },
    {
     "name": "stdout",
     "output_type": "stream",
     "text": [
      "Data for  ONWARDTEC.NS saved to C:\\Users\\anind\\Desktop\\Indiana University Bloomington\\Semester 2\\I606 Network Science\\Project\\Data\\rerunning\\Project_Auto_and_Finance_Sector_250424\\Financial_Data\\ ONWARDTEC.NS_data.xlsx\n",
      "Downloading data for  PALREDTEC.NS\n"
     ]
    },
    {
     "name": "stderr",
     "output_type": "stream",
     "text": [
      "\n",
      "[*********************100%%**********************]  1 of 1 completed"
     ]
    },
    {
     "name": "stdout",
     "output_type": "stream",
     "text": [
      "Data for  PALREDTEC.NS saved to C:\\Users\\anind\\Desktop\\Indiana University Bloomington\\Semester 2\\I606 Network Science\\Project\\Data\\rerunning\\Project_Auto_and_Finance_Sector_250424\\Financial_Data\\ PALREDTEC.NS_data.xlsx\n",
      "Downloading data for  PERSISTENT.NS\n"
     ]
    },
    {
     "name": "stderr",
     "output_type": "stream",
     "text": [
      "\n"
     ]
    },
    {
     "name": "stdout",
     "output_type": "stream",
     "text": [
      "Data for  PERSISTENT.NS saved to C:\\Users\\anind\\Desktop\\Indiana University Bloomington\\Semester 2\\I606 Network Science\\Project\\Data\\rerunning\\Project_Auto_and_Finance_Sector_250424\\Financial_Data\\ PERSISTENT.NS_data.xlsx\n",
      "Downloading data for  RSYSTEMS.NS\n"
     ]
    },
    {
     "name": "stderr",
     "output_type": "stream",
     "text": [
      "[*********************100%%**********************]  1 of 1 completed\n",
      "[*********************100%%**********************]  1 of 1 completed\n"
     ]
    },
    {
     "name": "stdout",
     "output_type": "stream",
     "text": [
      "Data for  RSYSTEMS.NS saved to C:\\Users\\anind\\Desktop\\Indiana University Bloomington\\Semester 2\\I606 Network Science\\Project\\Data\\rerunning\\Project_Auto_and_Finance_Sector_250424\\Financial_Data\\ RSYSTEMS.NS_data.xlsx\n",
      "Downloading data for  RPSGVENT.NS\n",
      "Data for  RPSGVENT.NS saved to C:\\Users\\anind\\Desktop\\Indiana University Bloomington\\Semester 2\\I606 Network Science\\Project\\Data\\rerunning\\Project_Auto_and_Finance_Sector_250424\\Financial_Data\\ RPSGVENT.NS_data.xlsx\n",
      "Downloading data for  RAMCOSYS.NS\n"
     ]
    },
    {
     "name": "stderr",
     "output_type": "stream",
     "text": [
      "[*********************100%%**********************]  1 of 1 completed\n"
     ]
    },
    {
     "name": "stdout",
     "output_type": "stream",
     "text": [
      "Data for  RAMCOSYS.NS saved to C:\\Users\\anind\\Desktop\\Indiana University Bloomington\\Semester 2\\I606 Network Science\\Project\\Data\\rerunning\\Project_Auto_and_Finance_Sector_250424\\Financial_Data\\ RAMCOSYS.NS_data.xlsx\n",
      "Downloading data for  RPTECH.NS\n"
     ]
    },
    {
     "name": "stderr",
     "output_type": "stream",
     "text": [
      "[*********************100%%**********************]  1 of 1 completed\n",
      "\n",
      "1 Failed download:\n",
      "['RPTECH.NS']: Exception(\"%ticker%: Data doesn't exist for startDate = 1609439400, endDate = 1703961000\")\n",
      "[*********************100%%**********************]  1 of 1 completed\n"
     ]
    },
    {
     "name": "stdout",
     "output_type": "stream",
     "text": [
      "No data found for  RPTECH.NS\n",
      "Downloading data for  RATEGAIN.NS\n",
      "Data for  RATEGAIN.NS saved to C:\\Users\\anind\\Desktop\\Indiana University Bloomington\\Semester 2\\I606 Network Science\\Project\\Data\\rerunning\\Project_Auto_and_Finance_Sector_250424\\Financial_Data\\ RATEGAIN.NS_data.xlsx\n",
      "Downloading data for  ROLTA.NS\n"
     ]
    },
    {
     "name": "stderr",
     "output_type": "stream",
     "text": [
      "[*********************100%%**********************]  1 of 1 completed\n",
      "[*********************100%%**********************]  1 of 1 completed"
     ]
    },
    {
     "name": "stdout",
     "output_type": "stream",
     "text": [
      "Data for  ROLTA.NS saved to C:\\Users\\anind\\Desktop\\Indiana University Bloomington\\Semester 2\\I606 Network Science\\Project\\Data\\rerunning\\Project_Auto_and_Finance_Sector_250424\\Financial_Data\\ ROLTA.NS_data.xlsx\n",
      "Downloading data for  SAKSOFT.NS\n"
     ]
    },
    {
     "name": "stderr",
     "output_type": "stream",
     "text": [
      "\n",
      "[*********************100%%**********************]  1 of 1 completed"
     ]
    },
    {
     "name": "stdout",
     "output_type": "stream",
     "text": [
      "Data for  SAKSOFT.NS saved to C:\\Users\\anind\\Desktop\\Indiana University Bloomington\\Semester 2\\I606 Network Science\\Project\\Data\\rerunning\\Project_Auto_and_Finance_Sector_250424\\Financial_Data\\ SAKSOFT.NS_data.xlsx\n",
      "Downloading data for  SECMARK.NS\n",
      "Data for  SECMARK.NS saved to C:\\Users\\anind\\Desktop\\Indiana University Bloomington\\Semester 2\\I606 Network Science\\Project\\Data\\rerunning\\Project_Auto_and_Finance_Sector_250424\\Financial_Data\\ SECMARK.NS_data.xlsx\n",
      "Downloading data for  SECURKLOUD.NS\n"
     ]
    },
    {
     "name": "stderr",
     "output_type": "stream",
     "text": [
      "\n",
      "[*********************100%%**********************]  1 of 1 completed\n"
     ]
    },
    {
     "name": "stdout",
     "output_type": "stream",
     "text": [
      "Data for  SECURKLOUD.NS saved to C:\\Users\\anind\\Desktop\\Indiana University Bloomington\\Semester 2\\I606 Network Science\\Project\\Data\\rerunning\\Project_Auto_and_Finance_Sector_250424\\Financial_Data\\ SECURKLOUD.NS_data.xlsx\n",
      "Downloading data for  SIGMA.NS\n"
     ]
    },
    {
     "name": "stderr",
     "output_type": "stream",
     "text": [
      "[*********************100%%**********************]  1 of 1 completed\n",
      "[*********************100%%**********************]  1 of 1 completed"
     ]
    },
    {
     "name": "stdout",
     "output_type": "stream",
     "text": [
      "Data for  SIGMA.NS saved to C:\\Users\\anind\\Desktop\\Indiana University Bloomington\\Semester 2\\I606 Network Science\\Project\\Data\\rerunning\\Project_Auto_and_Finance_Sector_250424\\Financial_Data\\ SIGMA.NS_data.xlsx\n",
      "Downloading data for  SILVERTUC.NS\n",
      "Data for  SILVERTUC.NS saved to C:\\Users\\anind\\Desktop\\Indiana University Bloomington\\Semester 2\\I606 Network Science\\Project\\Data\\rerunning\\Project_Auto_and_Finance_Sector_250424\\Financial_Data\\ SILVERTUC.NS_data.xlsx\n",
      "Downloading data for  SOFTTECH.NS\n"
     ]
    },
    {
     "name": "stderr",
     "output_type": "stream",
     "text": [
      "\n",
      "[*********************100%%**********************]  1 of 1 completed\n",
      "[*********************100%%**********************]  1 of 1 completed"
     ]
    },
    {
     "name": "stdout",
     "output_type": "stream",
     "text": [
      "Data for  SOFTTECH.NS saved to C:\\Users\\anind\\Desktop\\Indiana University Bloomington\\Semester 2\\I606 Network Science\\Project\\Data\\rerunning\\Project_Auto_and_Finance_Sector_250424\\Financial_Data\\ SOFTTECH.NS_data.xlsx\n",
      "Downloading data for  SONATSOFTW.NS\n"
     ]
    },
    {
     "name": "stderr",
     "output_type": "stream",
     "text": [
      "\n",
      "[*********************100%%**********************]  1 of 1 completed\n"
     ]
    },
    {
     "name": "stdout",
     "output_type": "stream",
     "text": [
      "Data for  SONATSOFTW.NS saved to C:\\Users\\anind\\Desktop\\Indiana University Bloomington\\Semester 2\\I606 Network Science\\Project\\Data\\rerunning\\Project_Auto_and_Finance_Sector_250424\\Financial_Data\\ SONATSOFTW.NS_data.xlsx\n",
      "Downloading data for  SPCENET.NS\n"
     ]
    },
    {
     "name": "stderr",
     "output_type": "stream",
     "text": [
      "[*********************100%%**********************]  1 of 1 completed"
     ]
    },
    {
     "name": "stdout",
     "output_type": "stream",
     "text": [
      "Data for  SPCENET.NS saved to C:\\Users\\anind\\Desktop\\Indiana University Bloomington\\Semester 2\\I606 Network Science\\Project\\Data\\rerunning\\Project_Auto_and_Finance_Sector_250424\\Financial_Data\\ SPCENET.NS_data.xlsx\n",
      "Downloading data for  TCS.NS\n"
     ]
    },
    {
     "name": "stderr",
     "output_type": "stream",
     "text": [
      "\n",
      "[*********************100%%**********************]  1 of 1 completed\n",
      "[*********************100%%**********************]  1 of 1 completed"
     ]
    },
    {
     "name": "stdout",
     "output_type": "stream",
     "text": [
      "Data for  TCS.NS saved to C:\\Users\\anind\\Desktop\\Indiana University Bloomington\\Semester 2\\I606 Network Science\\Project\\Data\\rerunning\\Project_Auto_and_Finance_Sector_250424\\Financial_Data\\ TCS.NS_data.xlsx\n",
      "Downloading data for  TATATECH.NS\n",
      "Data for  TATATECH.NS saved to C:\\Users\\anind\\Desktop\\Indiana University Bloomington\\Semester 2\\I606 Network Science\\Project\\Data\\rerunning\\Project_Auto_and_Finance_Sector_250424\\Financial_Data\\ TATATECH.NS_data.xlsx\n",
      "Downloading data for  TPHQ.NS\n"
     ]
    },
    {
     "name": "stderr",
     "output_type": "stream",
     "text": [
      "\n"
     ]
    },
    {
     "name": "stdout",
     "output_type": "stream",
     "text": [
      "Data for  TPHQ.NS saved to C:\\Users\\anind\\Desktop\\Indiana University Bloomington\\Semester 2\\I606 Network Science\\Project\\Data\\rerunning\\Project_Auto_and_Finance_Sector_250424\\Financial_Data\\ TPHQ.NS_data.xlsx\n",
      "Downloading data for  TECHM.NS\n"
     ]
    },
    {
     "name": "stderr",
     "output_type": "stream",
     "text": [
      "[*********************100%%**********************]  1 of 1 completed\n",
      "[*********************100%%**********************]  1 of 1 completed"
     ]
    },
    {
     "name": "stdout",
     "output_type": "stream",
     "text": [
      "Data for  TECHM.NS saved to C:\\Users\\anind\\Desktop\\Indiana University Bloomington\\Semester 2\\I606 Network Science\\Project\\Data\\rerunning\\Project_Auto_and_Finance_Sector_250424\\Financial_Data\\ TECHM.NS_data.xlsx\n",
      "Downloading data for  TERASOFT.NS\n"
     ]
    },
    {
     "name": "stderr",
     "output_type": "stream",
     "text": [
      "\n",
      "[*********************100%%**********************]  1 of 1 completed\n"
     ]
    },
    {
     "name": "stdout",
     "output_type": "stream",
     "text": [
      "Data for  TERASOFT.NS saved to C:\\Users\\anind\\Desktop\\Indiana University Bloomington\\Semester 2\\I606 Network Science\\Project\\Data\\rerunning\\Project_Auto_and_Finance_Sector_250424\\Financial_Data\\ TERASOFT.NS_data.xlsx\n",
      "Downloading data for  TRACXN.NS\n",
      "Data for  TRACXN.NS saved to C:\\Users\\anind\\Desktop\\Indiana University Bloomington\\Semester 2\\I606 Network Science\\Project\\Data\\rerunning\\Project_Auto_and_Finance_Sector_250424\\Financial_Data\\ TRACXN.NS_data.xlsx\n",
      "Downloading data for  TREJHARA.NS\n"
     ]
    },
    {
     "name": "stderr",
     "output_type": "stream",
     "text": [
      "[*********************100%%**********************]  1 of 1 completed\n",
      "[*********************100%%**********************]  1 of 1 completed"
     ]
    },
    {
     "name": "stdout",
     "output_type": "stream",
     "text": [
      "Data for  TREJHARA.NS saved to C:\\Users\\anind\\Desktop\\Indiana University Bloomington\\Semester 2\\I606 Network Science\\Project\\Data\\rerunning\\Project_Auto_and_Finance_Sector_250424\\Financial_Data\\ TREJHARA.NS_data.xlsx\n",
      "Downloading data for  TRIGYN.NS\n"
     ]
    },
    {
     "name": "stderr",
     "output_type": "stream",
     "text": [
      "\n",
      "[*********************100%%**********************]  1 of 1 completed"
     ]
    },
    {
     "name": "stdout",
     "output_type": "stream",
     "text": [
      "Data for  TRIGYN.NS saved to C:\\Users\\anind\\Desktop\\Indiana University Bloomington\\Semester 2\\I606 Network Science\\Project\\Data\\rerunning\\Project_Auto_and_Finance_Sector_250424\\Financial_Data\\ TRIGYN.NS_data.xlsx\n",
      "Downloading data for  VIRINCHI.NS\n",
      "Data for  VIRINCHI.NS saved to C:\\Users\\anind\\Desktop\\Indiana University Bloomington\\Semester 2\\I606 Network Science\\Project\\Data\\rerunning\\Project_Auto_and_Finance_Sector_250424\\Financial_Data\\ VIRINCHI.NS_data.xlsx\n",
      "Downloading data for  WEWIN.NS\n"
     ]
    },
    {
     "name": "stderr",
     "output_type": "stream",
     "text": [
      "\n",
      "[*********************100%%**********************]  1 of 1 completed\n"
     ]
    },
    {
     "name": "stdout",
     "output_type": "stream",
     "text": [
      "Data for  WEWIN.NS saved to C:\\Users\\anind\\Desktop\\Indiana University Bloomington\\Semester 2\\I606 Network Science\\Project\\Data\\rerunning\\Project_Auto_and_Finance_Sector_250424\\Financial_Data\\ WEWIN.NS_data.xlsx\n",
      "Downloading data for  WIPRO.NS\n"
     ]
    },
    {
     "name": "stderr",
     "output_type": "stream",
     "text": [
      "[*********************100%%**********************]  1 of 1 completed\n",
      "[*********************100%%**********************]  1 of 1 completed"
     ]
    },
    {
     "name": "stdout",
     "output_type": "stream",
     "text": [
      "Data for  WIPRO.NS saved to C:\\Users\\anind\\Desktop\\Indiana University Bloomington\\Semester 2\\I606 Network Science\\Project\\Data\\rerunning\\Project_Auto_and_Finance_Sector_250424\\Financial_Data\\ WIPRO.NS_data.xlsx\n",
      "Downloading data for  XCHANGING.NS\n"
     ]
    },
    {
     "name": "stderr",
     "output_type": "stream",
     "text": [
      "\n",
      "[*********************100%%**********************]  1 of 1 completed"
     ]
    },
    {
     "name": "stdout",
     "output_type": "stream",
     "text": [
      "Data for  XCHANGING.NS saved to C:\\Users\\anind\\Desktop\\Indiana University Bloomington\\Semester 2\\I606 Network Science\\Project\\Data\\rerunning\\Project_Auto_and_Finance_Sector_250424\\Financial_Data\\ XCHANGING.NS_data.xlsx\n",
      "Downloading data for  XELPMOC.NS\n",
      "Data for  XELPMOC.NS saved to C:\\Users\\anind\\Desktop\\Indiana University Bloomington\\Semester 2\\I606 Network Science\\Project\\Data\\rerunning\\Project_Auto_and_Finance_Sector_250424\\Financial_Data\\ XELPMOC.NS_data.xlsx\n",
      "Downloading data for  ZENSARTECH.NS\n"
     ]
    },
    {
     "name": "stderr",
     "output_type": "stream",
     "text": [
      "\n",
      "[*********************100%%**********************]  1 of 1 completed\n"
     ]
    },
    {
     "name": "stdout",
     "output_type": "stream",
     "text": [
      "Data for  ZENSARTECH.NS saved to C:\\Users\\anind\\Desktop\\Indiana University Bloomington\\Semester 2\\I606 Network Science\\Project\\Data\\rerunning\\Project_Auto_and_Finance_Sector_250424\\Financial_Data\\ ZENSARTECH.NS_data.xlsx\n",
      "Processing file: C:\\Users\\anind\\Desktop\\Indiana University Bloomington\\Semester 2\\I606 Network Science\\Project\\Data\\rerunning\\Project_Auto_and_Finance_Sector_250424\\Logistics.xlsx\n"
     ]
    },
    {
     "ename": "FileNotFoundError",
     "evalue": "[Errno 2] No such file or directory: 'C:\\\\Users\\\\anind\\\\Desktop\\\\Indiana University Bloomington\\\\Semester 2\\\\I606 Network Science\\\\Project\\\\Data\\\\rerunning\\\\Project_Auto_and_Finance_Sector_250424\\\\Logistics.xlsx'",
     "output_type": "error",
     "traceback": [
      "\u001b[1;31m---------------------------------------------------------------------------\u001b[0m",
      "\u001b[1;31mFileNotFoundError\u001b[0m                         Traceback (most recent call last)",
      "Cell \u001b[1;32mIn[10], line 45\u001b[0m\n\u001b[0;32m     42\u001b[0m column_name \u001b[38;5;241m=\u001b[39m \u001b[38;5;124m'\u001b[39m\u001b[38;5;124mCompany Label\u001b[39m\u001b[38;5;124m'\u001b[39m        \u001b[38;5;66;03m# Replace with the name of the column you want to read\u001b[39;00m\n\u001b[0;32m     43\u001b[0m output_subdirectory \u001b[38;5;241m=\u001b[39m \u001b[38;5;124m'\u001b[39m\u001b[38;5;124mFinancial_Data\u001b[39m\u001b[38;5;124m'\u001b[39m  \u001b[38;5;66;03m# Name of the subdirectory to save the Excel files\u001b[39;00m\n\u001b[1;32m---> 45\u001b[0m download_financial_data(directory, column_name, output_subdirectory)\n",
      "Cell \u001b[1;32mIn[10], line 21\u001b[0m, in \u001b[0;36mdownload_financial_data\u001b[1;34m(directory, column_name, output_subdirectory)\u001b[0m\n\u001b[0;32m     18\u001b[0m \u001b[38;5;28mprint\u001b[39m(\u001b[38;5;124mf\u001b[39m\u001b[38;5;124m\"\u001b[39m\u001b[38;5;124mProcessing file: \u001b[39m\u001b[38;5;132;01m{\u001b[39;00mfile_path\u001b[38;5;132;01m}\u001b[39;00m\u001b[38;5;124m\"\u001b[39m)\n\u001b[0;32m     20\u001b[0m \u001b[38;5;66;03m# Read the specified column from the Excel file\u001b[39;00m\n\u001b[1;32m---> 21\u001b[0m df \u001b[38;5;241m=\u001b[39m pd\u001b[38;5;241m.\u001b[39mread_excel(file_path, usecols\u001b[38;5;241m=\u001b[39m[column_name])\n\u001b[0;32m     23\u001b[0m \u001b[38;5;66;03m# Drop any duplicates and NaN values to avoid repeated downloads\u001b[39;00m\n\u001b[0;32m     24\u001b[0m symbols \u001b[38;5;241m=\u001b[39m df[column_name]\u001b[38;5;241m.\u001b[39mdropna()\u001b[38;5;241m.\u001b[39munique()\n",
      "File \u001b[1;32m~\\anaconda3\\Lib\\site-packages\\pandas\\io\\excel\\_base.py:504\u001b[0m, in \u001b[0;36mread_excel\u001b[1;34m(io, sheet_name, header, names, index_col, usecols, dtype, engine, converters, true_values, false_values, skiprows, nrows, na_values, keep_default_na, na_filter, verbose, parse_dates, date_parser, date_format, thousands, decimal, comment, skipfooter, storage_options, dtype_backend, engine_kwargs)\u001b[0m\n\u001b[0;32m    502\u001b[0m \u001b[38;5;28;01mif\u001b[39;00m \u001b[38;5;129;01mnot\u001b[39;00m \u001b[38;5;28misinstance\u001b[39m(io, ExcelFile):\n\u001b[0;32m    503\u001b[0m     should_close \u001b[38;5;241m=\u001b[39m \u001b[38;5;28;01mTrue\u001b[39;00m\n\u001b[1;32m--> 504\u001b[0m     io \u001b[38;5;241m=\u001b[39m ExcelFile(\n\u001b[0;32m    505\u001b[0m         io,\n\u001b[0;32m    506\u001b[0m         storage_options\u001b[38;5;241m=\u001b[39mstorage_options,\n\u001b[0;32m    507\u001b[0m         engine\u001b[38;5;241m=\u001b[39mengine,\n\u001b[0;32m    508\u001b[0m         engine_kwargs\u001b[38;5;241m=\u001b[39mengine_kwargs,\n\u001b[0;32m    509\u001b[0m     )\n\u001b[0;32m    510\u001b[0m \u001b[38;5;28;01melif\u001b[39;00m engine \u001b[38;5;129;01mand\u001b[39;00m engine \u001b[38;5;241m!=\u001b[39m io\u001b[38;5;241m.\u001b[39mengine:\n\u001b[0;32m    511\u001b[0m     \u001b[38;5;28;01mraise\u001b[39;00m \u001b[38;5;167;01mValueError\u001b[39;00m(\n\u001b[0;32m    512\u001b[0m         \u001b[38;5;124m\"\u001b[39m\u001b[38;5;124mEngine should not be specified when passing \u001b[39m\u001b[38;5;124m\"\u001b[39m\n\u001b[0;32m    513\u001b[0m         \u001b[38;5;124m\"\u001b[39m\u001b[38;5;124man ExcelFile - ExcelFile already has the engine set\u001b[39m\u001b[38;5;124m\"\u001b[39m\n\u001b[0;32m    514\u001b[0m     )\n",
      "File \u001b[1;32m~\\anaconda3\\Lib\\site-packages\\pandas\\io\\excel\\_base.py:1563\u001b[0m, in \u001b[0;36mExcelFile.__init__\u001b[1;34m(self, path_or_buffer, engine, storage_options, engine_kwargs)\u001b[0m\n\u001b[0;32m   1561\u001b[0m     ext \u001b[38;5;241m=\u001b[39m \u001b[38;5;124m\"\u001b[39m\u001b[38;5;124mxls\u001b[39m\u001b[38;5;124m\"\u001b[39m\n\u001b[0;32m   1562\u001b[0m \u001b[38;5;28;01melse\u001b[39;00m:\n\u001b[1;32m-> 1563\u001b[0m     ext \u001b[38;5;241m=\u001b[39m inspect_excel_format(\n\u001b[0;32m   1564\u001b[0m         content_or_path\u001b[38;5;241m=\u001b[39mpath_or_buffer, storage_options\u001b[38;5;241m=\u001b[39mstorage_options\n\u001b[0;32m   1565\u001b[0m     )\n\u001b[0;32m   1566\u001b[0m     \u001b[38;5;28;01mif\u001b[39;00m ext \u001b[38;5;129;01mis\u001b[39;00m \u001b[38;5;28;01mNone\u001b[39;00m:\n\u001b[0;32m   1567\u001b[0m         \u001b[38;5;28;01mraise\u001b[39;00m \u001b[38;5;167;01mValueError\u001b[39;00m(\n\u001b[0;32m   1568\u001b[0m             \u001b[38;5;124m\"\u001b[39m\u001b[38;5;124mExcel file format cannot be determined, you must specify \u001b[39m\u001b[38;5;124m\"\u001b[39m\n\u001b[0;32m   1569\u001b[0m             \u001b[38;5;124m\"\u001b[39m\u001b[38;5;124man engine manually.\u001b[39m\u001b[38;5;124m\"\u001b[39m\n\u001b[0;32m   1570\u001b[0m         )\n",
      "File \u001b[1;32m~\\anaconda3\\Lib\\site-packages\\pandas\\io\\excel\\_base.py:1419\u001b[0m, in \u001b[0;36minspect_excel_format\u001b[1;34m(content_or_path, storage_options)\u001b[0m\n\u001b[0;32m   1416\u001b[0m \u001b[38;5;28;01mif\u001b[39;00m \u001b[38;5;28misinstance\u001b[39m(content_or_path, \u001b[38;5;28mbytes\u001b[39m):\n\u001b[0;32m   1417\u001b[0m     content_or_path \u001b[38;5;241m=\u001b[39m BytesIO(content_or_path)\n\u001b[1;32m-> 1419\u001b[0m \u001b[38;5;28;01mwith\u001b[39;00m get_handle(\n\u001b[0;32m   1420\u001b[0m     content_or_path, \u001b[38;5;124m\"\u001b[39m\u001b[38;5;124mrb\u001b[39m\u001b[38;5;124m\"\u001b[39m, storage_options\u001b[38;5;241m=\u001b[39mstorage_options, is_text\u001b[38;5;241m=\u001b[39m\u001b[38;5;28;01mFalse\u001b[39;00m\n\u001b[0;32m   1421\u001b[0m ) \u001b[38;5;28;01mas\u001b[39;00m handle:\n\u001b[0;32m   1422\u001b[0m     stream \u001b[38;5;241m=\u001b[39m handle\u001b[38;5;241m.\u001b[39mhandle\n\u001b[0;32m   1423\u001b[0m     stream\u001b[38;5;241m.\u001b[39mseek(\u001b[38;5;241m0\u001b[39m)\n",
      "File \u001b[1;32m~\\anaconda3\\Lib\\site-packages\\pandas\\io\\common.py:872\u001b[0m, in \u001b[0;36mget_handle\u001b[1;34m(path_or_buf, mode, encoding, compression, memory_map, is_text, errors, storage_options)\u001b[0m\n\u001b[0;32m    863\u001b[0m         handle \u001b[38;5;241m=\u001b[39m \u001b[38;5;28mopen\u001b[39m(\n\u001b[0;32m    864\u001b[0m             handle,\n\u001b[0;32m    865\u001b[0m             ioargs\u001b[38;5;241m.\u001b[39mmode,\n\u001b[1;32m   (...)\u001b[0m\n\u001b[0;32m    868\u001b[0m             newline\u001b[38;5;241m=\u001b[39m\u001b[38;5;124m\"\u001b[39m\u001b[38;5;124m\"\u001b[39m,\n\u001b[0;32m    869\u001b[0m         )\n\u001b[0;32m    870\u001b[0m     \u001b[38;5;28;01melse\u001b[39;00m:\n\u001b[0;32m    871\u001b[0m         \u001b[38;5;66;03m# Binary mode\u001b[39;00m\n\u001b[1;32m--> 872\u001b[0m         handle \u001b[38;5;241m=\u001b[39m \u001b[38;5;28mopen\u001b[39m(handle, ioargs\u001b[38;5;241m.\u001b[39mmode)\n\u001b[0;32m    873\u001b[0m     handles\u001b[38;5;241m.\u001b[39mappend(handle)\n\u001b[0;32m    875\u001b[0m \u001b[38;5;66;03m# Convert BytesIO or file objects passed with an encoding\u001b[39;00m\n",
      "\u001b[1;31mFileNotFoundError\u001b[0m: [Errno 2] No such file or directory: 'C:\\\\Users\\\\anind\\\\Desktop\\\\Indiana University Bloomington\\\\Semester 2\\\\I606 Network Science\\\\Project\\\\Data\\\\rerunning\\\\Project_Auto_and_Finance_Sector_250424\\\\Logistics.xlsx'"
     ]
    }
   ],
   "source": [
    "import pandas as pd\n",
    "import os\n",
    "import yfinance as yf\n",
    "\n",
    "def download_financial_data(directory, column_name, output_subdirectory):\n",
    "    start_date = \"2021-01-01\"\n",
    "    end_date = \"2023-12-31\"\n",
    "    \n",
    "    # Define the output directory inside the specified directory\n",
    "    output_directory = os.path.join(directory, output_subdirectory)\n",
    "    if not os.path.exists(output_directory):\n",
    "        os.makedirs(output_directory)\n",
    "    \n",
    "    # Iterate over all Excel files in the specified directory\n",
    "    for filename in os.listdir(directory):\n",
    "        if filename.endswith(\".xlsx\"):\n",
    "            file_path = os.path.join(directory, filename)\n",
    "            print(f\"Processing file: {file_path}\")\n",
    "            \n",
    "            # Read the specified column from the Excel file\n",
    "            df = pd.read_excel(file_path, usecols=[column_name])\n",
    "            \n",
    "            # Drop any duplicates and NaN values to avoid repeated downloads\n",
    "            symbols = df[column_name].dropna().unique()\n",
    "            \n",
    "            for symbol in symbols:\n",
    "                print(f\"Downloading data for {symbol}\")\n",
    "                # Fetch the historical market data\n",
    "                data = yf.download(symbol, start=start_date, end=end_date)\n",
    "                \n",
    "                if not data.empty:\n",
    "                    # Define output file path for Excel\n",
    "                    output_file = os.path.join(output_directory, f\"{symbol}_data.xlsx\")\n",
    "                    # Save data to an Excel file\n",
    "                    data.to_excel(output_file)\n",
    "                    print(f\"Data for {symbol} saved to {output_file}\")\n",
    "                else:\n",
    "                    print(f\"No data found for {symbol}\")\n",
    "\n",
    "# Usage\n",
    "directory = r'C:\\Users\\anind\\Desktop\\Indiana University Bloomington\\Semester 2\\I606 Network Science\\Project\\Data\\rerunning\\Project_Auto_and_Finance_Sector_250424'  # Replace with the path to your directory containing Excel files\n",
    "column_name = 'Company Label'        # Replace with the name of the column you want to read\n",
    "output_subdirectory = 'Company_stock_data'  # Name of the subdirectory to save the Excel files\n",
    "\n",
    "download_financial_data(directory, column_name, output_subdirectory)"
   ]
  },
  {
   "cell_type": "markdown",
   "id": "15d4530b-ac05-4f15-899d-011d00acd386",
   "metadata": {},
   "source": [
    "This snippet of code:\n",
    "\n",
    "1. Read all the excel files stored in a specific directory\n",
    "2. goes through the \"Date\" column of the downloaded financial data\n",
    "3. checks for the deviation in dates and filter out the files which have too much deviation above a threshold\n",
    "4. deletes the filtered files and saves the rest for further analysis.\n",
    "\n",
    "By this script we get our required financial data of companies covering the same timespan.\n",
    "\n",
    "credit: help from ChatGPT"
   ]
  },
  {
   "cell_type": "code",
   "execution_count": 12,
   "id": "079dd256-2032-48a1-9670-9cd5527b3824",
   "metadata": {},
   "outputs": [
    {
     "name": "stdout",
     "output_type": "stream",
     "text": [
      "Deleted file:  ABSLAMC.NS_data.xlsx\n",
      "Deleted file:  AEROFLEX.NS_data.xlsx\n",
      "Deleted file:  AGSTRA.NS_data.xlsx\n",
      "Deleted file:  AHL.NS_data.xlsx\n",
      "Deleted file:  ANANDRATHI.NS_data.xlsx\n",
      "Deleted file:  APTUS.NS_data.xlsx\n",
      "Deleted file:  ARE&M.NS_data.xlsx\n",
      "Deleted file:  ARIHANTCAP.NS_data.xlsx\n",
      "Deleted file:  ASKAUTOLTD.NS_data.xlsx\n",
      "Deleted file:  AUTOLITIND.NS_data.xlsx\n",
      "Deleted file:  AVALON.NS_data.xlsx\n",
      "Deleted file:  AVONMORE.NS_data.xlsx\n",
      "Deleted file:  BAIDFIN.NS_data.xlsx\n",
      "Deleted file:  BCP.NS_data.xlsx\n",
      "Deleted file:  CARTRADE.NS_data.xlsx\n",
      "Deleted file:  CHOICEIN.NS_data.xlsx\n",
      "Deleted file:  CMSINFO.NS_data.xlsx\n",
      "Deleted file:  CRAFTSMAN.NS_data.xlsx\n",
      "Deleted file:  CSLFINANCE.NS_data.xlsx\n",
      "Deleted file:  CYIENTDLM.NS_data.xlsx\n",
      "Deleted file:  DATAPATTNS.NS_data.xlsx\n",
      "Deleted file:  DCXINDIA.NS_data.xlsx\n",
      "Deleted file:  DIVGIITTS.NS_data.xlsx\n",
      "Deleted file:  DRCSYSTEMS.NS_data.xlsx\n",
      "Deleted file:  DREAMFOLKS.NS_data.xlsx\n",
      "Deleted file:  DYCL.NS_data.xlsx\n",
      "Deleted file:  ELIN.NS_data.xlsx\n",
      "Deleted file:  EMCO.NS_data.xlsx\n",
      "Deleted file:  EMIL.NS_data.xlsx\n",
      "Deleted file:  EMUDHRA.NS_data.xlsx\n",
      "Deleted file:  ESAFSFB.NS_data.xlsx\n",
      "Deleted file:  FEDFINA.NS_data.xlsx\n",
      "Deleted file:  FINOPB.NS_data.xlsx\n",
      "Deleted file:  FIVESTAR.NS_data.xlsx\n",
      "Deleted file:  FUSION.NS_data.xlsx\n",
      "Deleted file:  GATECH.NS_data.xlsx\n",
      "Deleted file:  HAPPYFORGE.NS_data.xlsx\n",
      "Deleted file:  HLEGLAS.NS_data.xlsx\n",
      "Deleted file:  HONASA.NS_data.xlsx\n",
      "Deleted file:  ICDSLTD.NS_data.xlsx\n",
      "Deleted file:  IDEAFORGE.NS_data.xlsx\n",
      "Deleted file:  IEL.NS_data.xlsx\n",
      "Deleted file:  IKIO.NS_data.xlsx\n",
      "Deleted file:  INDIASHLTR.NS_data.xlsx\n",
      "Deleted file:  IONEXCHANG.NS_data.xlsx\n",
      "Deleted file:  IRIS.NS_data.xlsx\n",
      "Deleted file:  ISGEC.NS_data.xlsx\n",
      "Deleted file:  IWEL.NS_data.xlsx\n",
      "Deleted file:  JIOFIN.NS_data.xlsx\n",
      "Deleted file:  JSLHISAR.NS_data.xlsx\n",
      "Deleted file:  KAYNES.NS_data.xlsx\n",
      "Deleted file:  KFINTECH.NS_data.xlsx\n",
      "Deleted file:  KIRLPNU.NS_data.xlsx\n",
      "Deleted file:  LATENTVIEW.NS_data.xlsx\n",
      "Deleted file:  LLOYDSENGG.NS_data.xlsx\n",
      "Deleted file:  LLOYDSME.NS_data.xlsx\n",
      "Deleted file:  MHLXMIRU.NS_data.xlsx\n",
      "Deleted file:  MODISONLTD.NS_data.xlsx\n",
      "Deleted file:  MONARCH.NS_data.xlsx\n",
      "Deleted file:  MSUMI.NS_data.xlsx\n",
      "Deleted file:  MUFIN.NS_data.xlsx\n",
      "Deleted file:  MUTHOOTMF.NS_data.xlsx\n",
      "Deleted file:  NETWEB.NS_data.xlsx\n",
      "Deleted file:  NIITMTS.NS_data.xlsx\n",
      "Deleted file:  NINSYS.NS_data.xlsx\n",
      "Deleted file:  NSLNISP.NS_data.xlsx\n",
      "Deleted file:  NUVAMA.NS_data.xlsx\n",
      "Deleted file:  NYKAA.NS_data.xlsx\n",
      "Deleted file:  ORIENTCER.NS_data.xlsx\n",
      "Deleted file:  PAEL.NS_data.xlsx\n",
      "Deleted file:  PAYTM.NS_data.xlsx\n",
      "Deleted file:  PIXTRANS.NS_data.xlsx\n",
      "Deleted file:  PLAZACABLE.NS_data.xlsx\n",
      "Deleted file:  POLICYBZR.NS_data.xlsx\n",
      "Deleted file:  PRITIKAUTO.NS_data.xlsx\n",
      "Deleted file:  PRUDENT.NS_data.xlsx\n",
      "Deleted file:  RADIANTCMS.NS_data.xlsx\n",
      "Deleted file:  RAMRAT.NS_data.xlsx\n",
      "Deleted file:  RATEGAIN.NS_data.xlsx\n",
      "Deleted file:  RATNAVEER.NS_data.xlsx\n",
      "Deleted file:  RISHABH.NS_data.xlsx\n",
      "Deleted file:  ROLEXRINGS.NS_data.xlsx\n",
      "Deleted file:  RRKABEL.NS_data.xlsx\n",
      "Deleted file:  SBCL.NS_data.xlsx\n",
      "Deleted file:  SBFC.NS_data.xlsx\n",
      "Deleted file:  SECMARK.NS_data.xlsx\n",
      "Deleted file:  SERVOTECH.NS_data.xlsx\n",
      "Deleted file:  SGIL.NS_data.xlsx\n",
      "Deleted file:  SHAH.NS_data.xlsx\n",
      "Deleted file:  SHYAMMETL.NS_data.xlsx\n",
      "Deleted file:  SINDHUTRAD.NS_data.xlsx\n",
      "Deleted file:  SMLT.NS_data.xlsx\n",
      "Deleted file:  SONACOMS.NS_data.xlsx\n",
      "Deleted file:  SRGHFL.NS_data.xlsx\n",
      "Deleted file:  STARHEALTH.NS_data.xlsx\n",
      "Deleted file:  STARTECK.NS_data.xlsx\n",
      "Deleted file:  STEELCAS.NS_data.xlsx\n",
      "Deleted file:  SUNCLAY.NS_data.xlsx\n",
      "Deleted file:  SYRMA.NS_data.xlsx\n",
      "Deleted file:  TATATECH.NS_data.xlsx\n",
      "Deleted file:  TEGA.NS_data.xlsx\n",
      "Deleted file:  TMB.NS_data.xlsx\n",
      "Deleted file:  TPHQ.NS_data.xlsx\n",
      "Deleted file:  TRACXN.NS_data.xlsx\n",
      "Deleted file:  TRU.NS_data.xlsx\n",
      "Deleted file:  UCAL.NS_data.xlsx\n",
      "Deleted file:  UDS.NS_data.xlsx\n",
      "Deleted file:  UGROCAP.NS_data.xlsx\n",
      "Deleted file:  UNIPARTS.NS_data.xlsx\n",
      "Deleted file:  UTKARSHBNK.NS_data.xlsx\n",
      "Deleted file:  VIRINCHI.NS_data.xlsx\n",
      "Deleted file:  YUKEN.NS_data.xlsx\n",
      "Deleted file:  ZAGGLE.NS_data.xlsx\n"
     ]
    }
   ],
   "source": [
    "import pandas as pd\n",
    "import os\n",
    "\n",
    "def compare_and_save_dates(source_directory, date_column, acceptable_diff=30):\n",
    "    dataframes = []\n",
    "    file_names = []\n",
    "    to_delete = []\n",
    "    \n",
    "    # Read all Excel files and store their DataFrames and filenames\n",
    "    for filename in os.listdir(source_directory):\n",
    "        if filename.endswith(\".xlsx\"):\n",
    "            file_path = os.path.join(source_directory, filename)\n",
    "            df = pd.read_excel(file_path)\n",
    "            \n",
    "            # Ensure the date column exists in this dataframe\n",
    "            if date_column in df.columns:\n",
    "                df[date_column] = pd.to_datetime(df[date_column])  # Convert column to datetime\n",
    "                dataframes.append(df)\n",
    "                file_names.append(filename)\n",
    "            else:\n",
    "                print(f\"Date column '{date_column}' not found in {filename}\")\n",
    "    \n",
    "    # Find intersection of dates present in all files\n",
    "    if dataframes:\n",
    "        common_dates = set(dataframes[0][date_column])\n",
    "        \n",
    "        for i in range(1, len(dataframes)):\n",
    "            df = dataframes[i]\n",
    "            new_intersection = common_dates.intersection(set(df[date_column]))\n",
    "            if len(common_dates) - len(new_intersection) > acceptable_diff:\n",
    "                to_delete.append(i)\n",
    "            else:\n",
    "                common_dates = new_intersection\n",
    "    \n",
    "    # Delete files marked for deletion\n",
    "    for index in to_delete:\n",
    "        file_to_delete = os.path.join(source_directory, file_names[index])\n",
    "        os.remove(file_to_delete)\n",
    "        print(f\"Deleted file: {file_names[index]}\")\n",
    "    \n",
    "    return None\n",
    "\n",
    "# Define your source directory and the date column name\n",
    "source_directory = r'C:\\Users\\anind\\Desktop\\Indiana University Bloomington\\Semester 2\\I606 Network Science\\Project\\Data\\rerunning\\Project_Auto_and_Finance_Sector_250424\\Company_stock_data'  # Update with your actual path\n",
    "date_column = 'Date'\n",
    "\n",
    "# Run the function\n",
    "compare_and_save_dates(source_directory, date_column)"
   ]
  },
  {
   "cell_type": "code",
   "execution_count": null,
   "id": "2ac2f496-3607-4a3e-8e6f-282c2cdfdf22",
   "metadata": {},
   "outputs": [],
   "source": []
  }
 ],
 "metadata": {
  "kernelspec": {
   "display_name": "Python 3 (ipykernel)",
   "language": "python",
   "name": "python3"
  },
  "language_info": {
   "codemirror_mode": {
    "name": "ipython",
    "version": 3
   },
   "file_extension": ".py",
   "mimetype": "text/x-python",
   "name": "python",
   "nbconvert_exporter": "python",
   "pygments_lexer": "ipython3",
   "version": "3.11.7"
  }
 },
 "nbformat": 4,
 "nbformat_minor": 5
}
